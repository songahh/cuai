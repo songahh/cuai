{
 "cells": [
  {
   "cell_type": "code",
   "execution_count": 2,
   "id": "stuck-present",
   "metadata": {},
   "outputs": [],
   "source": [
    "import numpy as np"
   ]
  },
  {
   "cell_type": "markdown",
   "id": "nearby-provision",
   "metadata": {},
   "source": [
    "1. numpy의 기반 데이터 타입 : ndarray\n",
    "2. array() : 다양한 타입(list etc.)의 인자를 입력받아 ndarray로 변환하는 기능\n",
    "3. ndarray의 shape 변수 : ndarray의 크기(행, 열)를 튜플 형태로 가지고 있음 → ndarray의 차원까지 알 수 있음."
   ]
  },
  {
   "cell_type": "code",
   "execution_count": 2,
   "id": "greater-region",
   "metadata": {},
   "outputs": [
    {
     "name": "stdout",
     "output_type": "stream",
     "text": [
      "array1 type: <class 'numpy.ndarray'>\n",
      "array1 array 형태: (3,)\n"
     ]
    }
   ],
   "source": [
    "array1 = np.array([1, 2, 3])\n",
    "print('array1 type: {0}'.format(type(array1)))\n",
    "print('array1 array 형태: {0}'.format(array1.shape))"
   ]
  },
  {
   "cell_type": "code",
   "execution_count": 3,
   "id": "legendary-queens",
   "metadata": {},
   "outputs": [
    {
     "name": "stdout",
     "output_type": "stream",
     "text": [
      "array2 type: <class 'numpy.ndarray'>\n",
      "array2 array 형태: (2, 3)\n"
     ]
    }
   ],
   "source": [
    "array2 = np.array([[1, 2, 3], [2, 3, 4]])\n",
    "print('array2 type: {0}'.format(type(array2)))\n",
    "print('array2 array 형태: {0}'.format(array2.shape))"
   ]
  },
  {
   "cell_type": "code",
   "execution_count": 4,
   "id": "promising-buddy",
   "metadata": {},
   "outputs": [
    {
     "name": "stdout",
     "output_type": "stream",
     "text": [
      "array3 type: <class 'numpy.ndarray'>\n",
      "array3 array 형태: (1, 3)\n"
     ]
    }
   ],
   "source": [
    "array3 = np.array([[1, 2, 3]])\n",
    "print('array3 type: {0}'.format(type(array3)))\n",
    "print('array3 array 형태: {0}'.format(array3.shape))"
   ]
  },
  {
   "cell_type": "code",
   "execution_count": 5,
   "id": "broadband-contact",
   "metadata": {},
   "outputs": [
    {
     "name": "stdout",
     "output_type": "stream",
     "text": [
      "array1: 1차원, array2: 2차원, array3: 2차원\n"
     ]
    }
   ],
   "source": [
    "print('array1: {0}차원, array2: {1}차원, array3: {2}차원'.format(array1.ndim, array2.ndim, array3.ndim))"
   ]
  },
  {
   "cell_type": "markdown",
   "id": "composite-russian",
   "metadata": {},
   "source": [
    "## ndarray의 데이터 타입"
   ]
  },
  {
   "cell_type": "markdown",
   "id": "paperback-bracket",
   "metadata": {},
   "source": [
    "1. ndarray내의 데이터값은 숫자 값, 문자열 값, bool 값 모두 가능\n",
    "2. 숫자형 - int형(8bit, 16bit, 32bit), unsigned int형(8bit, 16bit, 32bit), float형(16bit, 32bit, 64bit, 128bit), complex type 제공\n",
    "3. ndarray내의 데이터 타입은 같은 데이터 타입만 가능함\n",
    "4. ndarray내의 데이터 타입은 dtype 속성으로 확인할 수 있음"
   ]
  },
  {
   "cell_type": "code",
   "execution_count": 6,
   "id": "bulgarian-legislation",
   "metadata": {},
   "outputs": [
    {
     "name": "stdout",
     "output_type": "stream",
     "text": [
      "<class 'list'>\n",
      "<class 'numpy.ndarray'>\n",
      "[1 2 3] int32\n"
     ]
    }
   ],
   "source": [
    "list1 = [1, 2, 3]\n",
    "print(type(list1))\n",
    "array1 = np.array(list1)\n",
    "print(type(array1))\n",
    "print(array1, array1.dtype)"
   ]
  },
  {
   "cell_type": "markdown",
   "id": "robust-burning",
   "metadata": {},
   "source": [
    "다른 데이터 유형이 섞여 있는 리스트를 ndarray로 변경하면 데이터 크기가 더 큰 데이터 타입으로 형 변환을 일괄 적용함"
   ]
  },
  {
   "cell_type": "code",
   "execution_count": 3,
   "id": "improved-extraction",
   "metadata": {},
   "outputs": [
    {
     "name": "stdout",
     "output_type": "stream",
     "text": [
      "['1' '2' 'test'] <U11\n"
     ]
    }
   ],
   "source": [
    "list2 = [1, 2, 'test']\n",
    "array2 = np.array(list2)\n",
    "print(array2, array2.dtype)"
   ]
  },
  {
   "cell_type": "code",
   "execution_count": 4,
   "id": "photographic-monster",
   "metadata": {},
   "outputs": [
    {
     "name": "stdout",
     "output_type": "stream",
     "text": [
      "[1. 2. 3.] float64\n"
     ]
    }
   ],
   "source": [
    "list3 = [1, 2, 3.0]\n",
    "array3 = np.array(list3)\n",
    "print(array3, array3.dtype)"
   ]
  },
  {
   "cell_type": "markdown",
   "id": "quarterly-fraud",
   "metadata": {},
   "source": [
    "astype() : ndarray 내 데이터값의 타입변경, 대용량 데이터의 ndarray를 만들 때 많은 메모리가 사용되는데, 메모리를 더 절약해야할 때 보통 이용함\n",
    "ex) int형으로 충분한 경우인데, 데이터 타입이 float라면 int형으로 바꿔서 메모리를 절약할 수 있음"
   ]
  },
  {
   "cell_type": "code",
   "execution_count": 5,
   "id": "enclosed-adams",
   "metadata": {},
   "outputs": [
    {
     "name": "stdout",
     "output_type": "stream",
     "text": [
      "[1. 2. 3.] float64\n"
     ]
    }
   ],
   "source": [
    "array_int = np.array([1, 2, 3])\n",
    "array_float = array_int.astype('float64')\n",
    "print(array_float, array_float.dtype)"
   ]
  },
  {
   "cell_type": "code",
   "execution_count": 6,
   "id": "intelligent-merchandise",
   "metadata": {},
   "outputs": [
    {
     "name": "stdout",
     "output_type": "stream",
     "text": [
      "[1 2 3] int32\n"
     ]
    }
   ],
   "source": [
    "array_int1 = array_float.astype('int32')\n",
    "print(array_int1, array_int1.dtype)"
   ]
  },
  {
   "cell_type": "code",
   "execution_count": 7,
   "id": "serial-advisory",
   "metadata": {},
   "outputs": [
    {
     "name": "stdout",
     "output_type": "stream",
     "text": [
      "[1 2 3] int32\n"
     ]
    }
   ],
   "source": [
    "array_float1 = np.array([1.1, 2.1, 3.1])\n",
    "array_int2 = array_float1.astype('int32')\n",
    "print(array_int2, array_int2.dtype)"
   ]
  },
  {
   "cell_type": "markdown",
   "id": "preceding-remainder",
   "metadata": {},
   "source": [
    "### ndarray를 편리하게 생성하기 - arange, zeros, ones"
   ]
  },
  {
   "cell_type": "markdown",
   "id": "regular-rider",
   "metadata": {},
   "source": [
    "특정 크기와 차원을 가진 ndarray를 연속값이나 0 또는 1로 초기화해 쉽게 생성해야 할 필요가 있는 경우"
   ]
  },
  {
   "cell_type": "markdown",
   "id": "verbal-formula",
   "metadata": {},
   "source": [
    "arange() : array를 range()로 표현하는 것, 0부터 함수 인자 값 -1까지의 값을 순차적으로 ndarray의 데이터값으로 변환해 줌"
   ]
  },
  {
   "cell_type": "code",
   "execution_count": 10,
   "id": "victorian-organization",
   "metadata": {},
   "outputs": [
    {
     "name": "stdout",
     "output_type": "stream",
     "text": [
      "[1 2 3 4 5 6 7 8 9]\n",
      "int32 (9,)\n"
     ]
    }
   ],
   "source": [
    "sequence_array = np.arange(1,10)\n",
    "print(sequence_array)\n",
    "print(sequence_array.dtype, sequence_array.shape)"
   ]
  },
  {
   "cell_type": "markdown",
   "id": "boxed-northern",
   "metadata": {},
   "source": [
    "zeros() : 함수 인자로 튜플 형태의 shape 값을 입력하면 모든 값을 0으로 채운 해당 shape를 가진 ndarray를 반환함.\n",
    "ones() : 함수 인자로 튜플 형태의 shape 값을 입력하면 모든 값을 1로 채운 해당 shape를 가진 ndarray를 반환함.\n",
    "\n",
    "함수 인자로 dtype을 지정해주지 않으면 default로 float64 형의 데이터로 ndarray를 채움"
   ]
  },
  {
   "cell_type": "code",
   "execution_count": 11,
   "id": "tight-fundamental",
   "metadata": {},
   "outputs": [
    {
     "name": "stdout",
     "output_type": "stream",
     "text": [
      "[[0 0]\n",
      " [0 0]\n",
      " [0 0]]\n",
      "int32 (3, 2)\n"
     ]
    }
   ],
   "source": [
    "zero_array = np.zeros((3,2), dtype='int32')\n",
    "print(zero_array)\n",
    "print(zero_array.dtype, zero_array.shape)"
   ]
  },
  {
   "cell_type": "code",
   "execution_count": 12,
   "id": "frank-consistency",
   "metadata": {},
   "outputs": [
    {
     "name": "stdout",
     "output_type": "stream",
     "text": [
      "[[1. 1.]\n",
      " [1. 1.]\n",
      " [1. 1.]]\n",
      "float64 (3, 2)\n"
     ]
    }
   ],
   "source": [
    "one_array = np.ones((3,2))\n",
    "print(one_array)\n",
    "print(one_array.dtype, one_array.shape)"
   ]
  },
  {
   "cell_type": "markdown",
   "id": "flying-pursuit",
   "metadata": {},
   "source": [
    "### ndarray의 차원과 크기를 변경하는 reshape()"
   ]
  },
  {
   "cell_type": "markdown",
   "id": "comprehensive-miller",
   "metadata": {},
   "source": [
    "reshape() : ndarray를 특정 차원 및 크기로 변환, 변환을 원하는 크기를 함수인자로 부여하면 됨.\n",
    "지정된 사이즈로 변경이 불가능하면 오류가 발생함. ( (10, ) 데이터를 (4,3) 형태로 변경할 수 없음"
   ]
  },
  {
   "cell_type": "code",
   "execution_count": 14,
   "id": "incomplete-retrieval",
   "metadata": {},
   "outputs": [
    {
     "name": "stdout",
     "output_type": "stream",
     "text": [
      "array1:\n",
      " [0 1 2 3 4 5 6 7 8 9]\n"
     ]
    }
   ],
   "source": [
    "array1 = np.arange(10)\n",
    "print('array1:\\n', array1)"
   ]
  },
  {
   "cell_type": "code",
   "execution_count": 16,
   "id": "atomic-tulsa",
   "metadata": {},
   "outputs": [
    {
     "name": "stdout",
     "output_type": "stream",
     "text": [
      "array2:\n",
      " [[0 1 2 3 4]\n",
      " [5 6 7 8 9]]\n"
     ]
    }
   ],
   "source": [
    "array2 = array1.reshape(2,5)\n",
    "print('array2:\\n', array2)"
   ]
  },
  {
   "cell_type": "code",
   "execution_count": 17,
   "id": "powerful-memory",
   "metadata": {},
   "outputs": [
    {
     "name": "stdout",
     "output_type": "stream",
     "text": [
      "array3:\n",
      " [[0 1]\n",
      " [2 3]\n",
      " [4 5]\n",
      " [6 7]\n",
      " [8 9]]\n"
     ]
    }
   ],
   "source": [
    "array3 = array1.reshape(5,2)\n",
    "print('array3:\\n', array3)"
   ]
  },
  {
   "cell_type": "markdown",
   "id": "phantom-gross",
   "metadata": {},
   "source": [
    "- reshape()의 인자로 -1을 사용하는 경우 : -1을 인자로 사용하면 원래 ndarray와 호환되는 새로운 shape로 변환해줌"
   ]
  },
  {
   "cell_type": "code",
   "execution_count": 18,
   "id": "integrated-greek",
   "metadata": {},
   "outputs": [
    {
     "name": "stdout",
     "output_type": "stream",
     "text": [
      "[0 1 2 3 4 5 6 7 8 9]\n"
     ]
    }
   ],
   "source": [
    "array1 = np.arange(10)\n",
    "print(array1)"
   ]
  },
  {
   "cell_type": "code",
   "execution_count": 19,
   "id": "lined-relations",
   "metadata": {},
   "outputs": [
    {
     "name": "stdout",
     "output_type": "stream",
     "text": [
      "array2 shape: (2, 5)\n"
     ]
    }
   ],
   "source": [
    "array2 = array1.reshape(-1, 5)\n",
    "print(\"array2 shape:\", array2.shape)"
   ]
  },
  {
   "cell_type": "code",
   "execution_count": 20,
   "id": "spread-illustration",
   "metadata": {},
   "outputs": [
    {
     "name": "stdout",
     "output_type": "stream",
     "text": [
      "array3 shape: (5, 2)\n"
     ]
    }
   ],
   "source": [
    "array3 = array1.reshape(5, -1)\n",
    "print(\"array3 shape:\", array3.shape)"
   ]
  },
  {
   "cell_type": "code",
   "execution_count": 21,
   "id": "optimum-pricing",
   "metadata": {},
   "outputs": [
    {
     "name": "stdout",
     "output_type": "stream",
     "text": [
      "array4 shape: (10,)\n"
     ]
    }
   ],
   "source": [
    "array4 = array1.reshape(-1)\n",
    "print(\"array4 shape:\", array4.shape)"
   ]
  },
  {
   "cell_type": "markdown",
   "id": "mobile-progressive",
   "metadata": {},
   "source": [
    "-1 인자는 reshape(-1, 1)와 같은 형태로 자주 사용됨.\n",
    "reshape(-1, 1)은 원본 ndarray가 어떤 형태라도 2차원이고, 여러 개의 row를 가지되 반드시 1개의 column을 가진 ndarray로 변환됨을 보장함.\n",
    "여러 개의 넘파이 ndarray는 stack이나 concat으로 결합할 때 각각의 ndarray의 형태를 통일해 유용하게 사용됨."
   ]
  },
  {
   "cell_type": "code",
   "execution_count": 24,
   "id": "parental-anxiety",
   "metadata": {},
   "outputs": [
    {
     "name": "stdout",
     "output_type": "stream",
     "text": [
      "array3d:\n",
      " [[[0, 1], [2, 3]], [[4, 5], [6, 7]]]\n"
     ]
    }
   ],
   "source": [
    "array1 = np.arange(8)\n",
    "array3d = array1.reshape((2, 2, 2))\n",
    "print('array3d:\\n', array3d.tolist())"
   ]
  },
  {
   "cell_type": "code",
   "execution_count": 27,
   "id": "careful-omaha",
   "metadata": {},
   "outputs": [
    {
     "name": "stdout",
     "output_type": "stream",
     "text": [
      "array5d:\n",
      " [[0]\n",
      " [1]\n",
      " [2]\n",
      " [3]\n",
      " [4]\n",
      " [5]\n",
      " [6]\n",
      " [7]]\n",
      "array5 shape: (8, 1)\n"
     ]
    }
   ],
   "source": [
    "array5 = array3d.reshape(-1, 1)\n",
    "print('array5d:\\n', array5)\n",
    "print('array5 shape:', array5.shape)"
   ]
  },
  {
   "cell_type": "code",
   "execution_count": 28,
   "id": "young-scholarship",
   "metadata": {},
   "outputs": [
    {
     "name": "stdout",
     "output_type": "stream",
     "text": [
      "array6:\n",
      " [[0], [1], [2], [3], [4], [5], [6], [7]]\n",
      "array6 shape: (8, 1)\n"
     ]
    }
   ],
   "source": [
    "array6 = array1.reshape(-1, 1)\n",
    "print('array6:\\n', array6.tolist())\n",
    "print('array6 shape:', array6.shape)"
   ]
  },
  {
   "cell_type": "markdown",
   "id": "adaptive-mainland",
   "metadata": {},
   "source": [
    "### 넘파이의 ndarray의 데이터 세트 선택하기 - 인덱싱(Indexing)"
   ]
  },
  {
   "cell_type": "markdown",
   "id": "excess-detection",
   "metadata": {},
   "source": [
    "1. 특정한 데이터만 추출 : 원하는 위치의 인덱스 값을 지정하면 해당 위치의 데이터가 반환됨\n",
    "2. 슬라이싱 : 슬라이싱은 연속된 인덱스 상의 ndarray를 추출하는 방식. ex) 1:5, 시작 인덱스 1, 종료 인덱스 4까지에 해당하는 ndarray 반환\n",
    "3. 팬시 인덱싱 (Fancy Indexing) : 일정한 인덱싱 집합을 리스트 또는 ndarray 형태로 지정해 해당 위치에 있는 데이터의 ndarray를 반환함\n",
    "4. 불린 인덱싱 (Boolean Indexing) : 특정 조건에 해당하는지 여부인 True/False 값 인덱싱 집합을 기반으로 True에 해당하는 인덱스 위치에 있는 데이터의 ndarray를 반환함"
   ]
  },
  {
   "cell_type": "markdown",
   "id": "dressed-christmas",
   "metadata": {},
   "source": [
    "#### 1. 단일 값 추출"
   ]
  },
  {
   "cell_type": "code",
   "execution_count": 30,
   "id": "deadly-notion",
   "metadata": {},
   "outputs": [
    {
     "name": "stdout",
     "output_type": "stream",
     "text": [
      "array1: [1 2 3 4 5 6 7 8 9]\n"
     ]
    }
   ],
   "source": [
    "array1 = np.arange(1, 10)\n",
    "print('array1:', array1)"
   ]
  },
  {
   "cell_type": "code",
   "execution_count": 31,
   "id": "proved-papua",
   "metadata": {},
   "outputs": [
    {
     "name": "stdout",
     "output_type": "stream",
     "text": [
      "value: 3\n",
      "<class 'numpy.int32'>\n"
     ]
    }
   ],
   "source": [
    "value = array1[2]\n",
    "print('value:', value)\n",
    "print(type(value))"
   ]
  },
  {
   "cell_type": "code",
   "execution_count": 33,
   "id": "republican-center",
   "metadata": {},
   "outputs": [
    {
     "name": "stdout",
     "output_type": "stream",
     "text": [
      "맨 뒤의 값: 9  맨 뒤에서 두 번째의 값: 8\n"
     ]
    }
   ],
   "source": [
    "# 뒤에서부터 데이터 추출하기\n",
    "# index -1 : 맨 뒤의 데이터 값, index -2 : 맨 뒤에서 두 번째에 있는 데이터 값\n",
    "print('맨 뒤의 값:', array1[-1], ' 맨 뒤에서 두 번째의 값:', array1[-2])"
   ]
  },
  {
   "cell_type": "code",
   "execution_count": 34,
   "id": "binary-moses",
   "metadata": {},
   "outputs": [
    {
     "name": "stdout",
     "output_type": "stream",
     "text": [
      "array1: [9 2 3 4 5 6 7 8 0]\n"
     ]
    }
   ],
   "source": [
    "array1[0] = 9\n",
    "array1[8] = 0\n",
    "print('array1:', array1)"
   ]
  },
  {
   "cell_type": "code",
   "execution_count": 35,
   "id": "precious-softball",
   "metadata": {},
   "outputs": [
    {
     "name": "stdout",
     "output_type": "stream",
     "text": [
      "[[1 2 3]\n",
      " [4 5 6]\n",
      " [7 8 9]]\n",
      "(row=0, col=0) index 가리키는 값: 1\n",
      "(row=0, col=1) index 가리키는 값: 2\n",
      "(row=1, col=0) index 가리키는 값: 4\n",
      "(row=2, col=2) index 가리키는 값: 9\n"
     ]
    }
   ],
   "source": [
    "array1d = np.arange(1, 10)\n",
    "array2d = array1d.reshape(3, 3)\n",
    "print(array2d)\n",
    "\n",
    "print('(row=0, col=0) index 가리키는 값:', array2d[0, 0])\n",
    "print('(row=0, col=1) index 가리키는 값:', array2d[0, 1])\n",
    "print('(row=1, col=0) index 가리키는 값:', array2d[1, 0])\n",
    "print('(row=2, col=2) index 가리키는 값:', array2d[2, 2])\n"
   ]
  },
  {
   "cell_type": "code",
   "execution_count": 36,
   "id": "korean-infrastructure",
   "metadata": {},
   "outputs": [
    {
     "data": {
      "text/plain": [
       "'\\n       ─────── axis1 : column방향\\n    │  ┌────┐\\n    │  │1│2│3 │\\n    │  │4│5│6 │\\n    │  │7│8│9 │\\n    │  └────┘\\n    axis0: row방향 \\n    \\n    2차원 배열 : axis 0, axis 1로 구분 (행, 열)\\n    3차원 배열 : axis 0, axis 1, axis 2로 구분 (행, 열, 높이)\\n'"
      ]
     },
     "execution_count": 36,
     "metadata": {},
     "output_type": "execute_result"
    }
   ],
   "source": [
    "'''\n",
    "       ─────── axis1 : column방향\n",
    "    │  ┌────┐\n",
    "    │  │1│2│3 │\n",
    "    │  │4│5│6 │\n",
    "    │  │7│8│9 │\n",
    "    │  └────┘\n",
    "    axis0: row방향 \n",
    "    \n",
    "    2차원 배열 : axis 0, axis 1로 구분 (행, 열)\n",
    "    3차원 배열 : axis 0, axis 1, axis 2로 구분 (행, 열, 높이)\n",
    "'''"
   ]
  },
  {
   "cell_type": "markdown",
   "id": "eastern-athens",
   "metadata": {},
   "source": [
    "#### 2. 슬라이싱"
   ]
  },
  {
   "cell_type": "markdown",
   "id": "impressed-hierarchy",
   "metadata": {},
   "source": [
    "슬라이싱, 팬시 인덱싱, 불린 인덱싱으로 추출된 데이터 세트는 모두 ndarray 타입임."
   ]
  },
  {
   "cell_type": "code",
   "execution_count": 38,
   "id": "brown-coordinate",
   "metadata": {},
   "outputs": [
    {
     "name": "stdout",
     "output_type": "stream",
     "text": [
      "[1 2 3]\n",
      "<class 'numpy.ndarray'>\n"
     ]
    }
   ],
   "source": [
    "array1 = np.arange(1, 10)\n",
    "array3 = array1[0:3]\n",
    "print(array3)\n",
    "print(type(array3))"
   ]
  },
  {
   "cell_type": "markdown",
   "id": "attractive-litigation",
   "metadata": {},
   "source": [
    "1. ':' 기호 앞에 시작 인덱스를 생략하면 자동으로 맨 처음 인덱스인 0으로 간주\n",
    "2. ':' 기호 뒤에 종료 인덱스를 생략하면 자동으로 맨 마지막 인덱스로 간주\n",
    "3. ':' 기호 앞/뒤에 시작/종료 인덱스를 생략하면 자동으로 맨 처음/맨 마지막 인덱스로 간주"
   ]
  },
  {
   "cell_type": "code",
   "execution_count": 40,
   "id": "valued-barrier",
   "metadata": {},
   "outputs": [
    {
     "name": "stdout",
     "output_type": "stream",
     "text": [
      "[1 2 3]\n"
     ]
    }
   ],
   "source": [
    "array1 = np.arange(1, 10)\n",
    "array4 = array1[:3]\n",
    "print(array4)"
   ]
  },
  {
   "cell_type": "code",
   "execution_count": 41,
   "id": "norman-reading",
   "metadata": {},
   "outputs": [
    {
     "name": "stdout",
     "output_type": "stream",
     "text": [
      "[4 5 6 7 8 9]\n"
     ]
    }
   ],
   "source": [
    "array5 = array1[3:]\n",
    "print(array5)"
   ]
  },
  {
   "cell_type": "code",
   "execution_count": 45,
   "id": "english-degree",
   "metadata": {},
   "outputs": [
    {
     "name": "stdout",
     "output_type": "stream",
     "text": [
      "[1 2 3 4 5 6 7 8 9]\n"
     ]
    }
   ],
   "source": [
    "array6 = array1[:]\n",
    "print(array6)"
   ]
  },
  {
   "cell_type": "markdown",
   "id": "wireless-secondary",
   "metadata": {},
   "source": [
    "2차원 ndarray에서의 슬라이싱도 1차원 ndarray에서의 슬라이싱과 유사, 단지 콤마(,)로 로우와 칼럼 인덱스를 지칭하는 부분만 다름"
   ]
  },
  {
   "cell_type": "code",
   "execution_count": 46,
   "id": "characteristic-bibliography",
   "metadata": {},
   "outputs": [
    {
     "name": "stdout",
     "output_type": "stream",
     "text": [
      "array2d:\n",
      " [[1 2 3]\n",
      " [4 5 6]\n",
      " [7 8 9]]\n"
     ]
    }
   ],
   "source": [
    "array1d = np.arange(1, 10)\n",
    "array2d = array1d.reshape(3,3)\n",
    "print('array2d:\\n', array2d)"
   ]
  },
  {
   "cell_type": "code",
   "execution_count": 48,
   "id": "alternative-victim",
   "metadata": {},
   "outputs": [
    {
     "name": "stdout",
     "output_type": "stream",
     "text": [
      "array2d[0:2, 0:2]\n",
      " [[1 2]\n",
      " [4 5]]\n",
      "\n",
      "array2d[1:3, 0:3]\n",
      " [[4 5 6]\n",
      " [7 8 9]]\n",
      "\n",
      "array2d[1:3, :]\n",
      " [[4 5 6]\n",
      " [7 8 9]]\n",
      "\n",
      "array2d[:, :]\n",
      " [[1 2 3]\n",
      " [4 5 6]\n",
      " [7 8 9]]\n",
      "\n",
      "array2d[:2, 1:]\n",
      " [[2 3]\n",
      " [5 6]]\n",
      "\n",
      "array2d[:2, 0]\n",
      " [1 4]\n"
     ]
    }
   ],
   "source": [
    "print('array2d[0:2, 0:2]\\n', array2d[0:2, 0:2])\n",
    "print('\\narray2d[1:3, 0:3]\\n', array2d[1:3, 0:3])\n",
    "print('\\narray2d[1:3, :]\\n', array2d[1:3, :])\n",
    "print('\\narray2d[:, :]\\n', array2d[:, :])\n",
    "print('\\narray2d[:2, 1:]\\n', array2d[:2, 1:])\n",
    "print('\\narray2d[:2, 0]\\n', array2d[:2, 0])"
   ]
  },
  {
   "cell_type": "code",
   "execution_count": 49,
   "id": "entire-respect",
   "metadata": {},
   "outputs": [
    {
     "name": "stdout",
     "output_type": "stream",
     "text": [
      "[1 2 3]\n",
      "[4 5 6]\n",
      "array2d[0] shape: (3,) array2d[1] shape: (3,)\n"
     ]
    }
   ],
   "source": [
    "print(array2d[0])\n",
    "print(array2d[1])\n",
    "print('array2d[0] shape:', array2d[0].shape, 'array2d[1] shape:', array2d[1].shape)"
   ]
  },
  {
   "cell_type": "markdown",
   "id": "demonstrated-arkansas",
   "metadata": {},
   "source": [
    "#### 3. 팬시 인덱싱 (Fancy Indexing)\n",
    "리스트나 ndarray로 인덱스 집합을 지정하면 해당 위치의 인덱스에 해당하는 ndarray를 반환하는 인덱싱 방식"
   ]
  },
  {
   "cell_type": "code",
   "execution_count": 51,
   "id": "relative-exhibit",
   "metadata": {},
   "outputs": [
    {
     "name": "stdout",
     "output_type": "stream",
     "text": [
      "array2d[[0,1], 2]=>  [3, 6]\n"
     ]
    }
   ],
   "source": [
    "array1d = np.arange(1, 10)\n",
    "array2d = array1d.reshape(3,3)\n",
    "\n",
    "array3 = array2d[[0,1], 2] # (0,2), (1,2)\n",
    "print('array2d[[0,1], 2]=> ', array3.tolist())"
   ]
  },
  {
   "cell_type": "code",
   "execution_count": 52,
   "id": "immune-circus",
   "metadata": {},
   "outputs": [
    {
     "name": "stdout",
     "output_type": "stream",
     "text": [
      "array2d[[0,1], 0:2]=>  [[1, 2], [4, 5]]\n"
     ]
    }
   ],
   "source": [
    "array4 = array2d[[0,1], 0:2] # ((0,0), (0,1)), ((1,0), (1,1))\n",
    "print('array2d[[0,1], 0:2]=> ', array4.tolist())"
   ]
  },
  {
   "cell_type": "code",
   "execution_count": 53,
   "id": "meaningful-actor",
   "metadata": {},
   "outputs": [
    {
     "name": "stdout",
     "output_type": "stream",
     "text": [
      "array2d[[0, 1]]=>  [[1, 2, 3], [4, 5, 6]]\n"
     ]
    }
   ],
   "source": [
    "array5 = array2d[[0, 1]] # ((0, :), (1, :))\n",
    "print('array2d[[0, 1]]=> ', array5.tolist())"
   ]
  },
  {
   "cell_type": "markdown",
   "id": "secure-romance",
   "metadata": {},
   "source": [
    "#### 4. 불린 인덱싱 (Boolean Indexing)\n",
    "조건 필터링과 검색을 동시에 할 수 있음"
   ]
  },
  {
   "cell_type": "code",
   "execution_count": 54,
   "id": "subsequent-moore",
   "metadata": {},
   "outputs": [
    {
     "name": "stdout",
     "output_type": "stream",
     "text": [
      "array1d > 5 불린 인덱싱 결과 값: [6 7 8 9]\n"
     ]
    }
   ],
   "source": [
    "array1d = np.arange(1, 10)\n",
    "\n",
    "# []안에 array1d > 5 Boolean indexing을 적용\n",
    "array3 = array1d[array1d > 5]\n",
    "print(\"array1d > 5 불린 인덱싱 결과 값:\", array3)"
   ]
  },
  {
   "cell_type": "code",
   "execution_count": 55,
   "id": "after-distributor",
   "metadata": {},
   "outputs": [
    {
     "data": {
      "text/plain": [
       "array([False, False, False, False, False,  True,  True,  True,  True])"
      ]
     },
     "execution_count": 55,
     "metadata": {},
     "output_type": "execute_result"
    }
   ],
   "source": [
    "array1d > 5"
   ]
  },
  {
   "cell_type": "code",
   "execution_count": 56,
   "id": "athletic-width",
   "metadata": {},
   "outputs": [
    {
     "name": "stdout",
     "output_type": "stream",
     "text": [
      "불린 인덱스로 필터링 결과: [6 7 8 9]\n"
     ]
    }
   ],
   "source": [
    "boolean_indexes = np.array([False, False, False, False, False,  True,  True,  True,  True])\n",
    "array3 = array1d[boolean_indexes]\n",
    "print(\"불린 인덱스로 필터링 결과:\", array3)"
   ]
  },
  {
   "cell_type": "code",
   "execution_count": 57,
   "id": "pregnant-platform",
   "metadata": {},
   "outputs": [
    {
     "name": "stdout",
     "output_type": "stream",
     "text": [
      "일반 인덱스로 필터링 결과:  [6 7 8 9]\n"
     ]
    }
   ],
   "source": [
    "indexes = np.array([5,6,7,8])\n",
    "array4 = array1d[indexes]\n",
    "print(\"일반 인덱스로 필터링 결과: \", array4)"
   ]
  },
  {
   "cell_type": "markdown",
   "id": "chinese-serve",
   "metadata": {},
   "source": [
    "## 행렬의 정렬 - sort()와 argsort()"
   ]
  },
  {
   "cell_type": "markdown",
   "id": "invisible-appendix",
   "metadata": {},
   "source": [
    "#### 행렬 정렬\n",
    "np.sort() : 넘파이에서 sort()를 호출하는 방식\n",
    "ndarray.sort() : 행렬 자체에서 sort()를 호출하는 방식\n",
    "\n",
    "np.sort()의 경우 원 행렬은 그대로 유지한 채 원 행렬의 정렬된 행렬을 반환\n",
    "ndarray.sort()는 원 행렬 자체를 정렬한 형태로 반환하며 반환값은 None임"
   ]
  },
  {
   "cell_type": "code",
   "execution_count": 2,
   "id": "raising-pressing",
   "metadata": {},
   "outputs": [
    {
     "name": "stdout",
     "output_type": "stream",
     "text": [
      "원본 행렬: [3 1 9 5]\n"
     ]
    }
   ],
   "source": [
    "import numpy as np\n",
    "\n",
    "org_array = np.array([3,1,9,5])\n",
    "print(\"원본 행렬:\", org_array)"
   ]
  },
  {
   "cell_type": "code",
   "execution_count": 4,
   "id": "discrete-concept",
   "metadata": {},
   "outputs": [
    {
     "name": "stdout",
     "output_type": "stream",
     "text": [
      "np.sort() 호출 후 반환된 정렬 행렬:  [1 3 5 9]\n",
      "np.sort() 호출 후 원본 행렬:  [3 1 9 5]\n"
     ]
    }
   ],
   "source": [
    "sort_array1 = np.sort(org_array)\n",
    "print(\"np.sort() 호출 후 반환된 정렬 행렬: \", sort_array1)\n",
    "print(\"np.sort() 호출 후 원본 행렬: \", org_array)"
   ]
  },
  {
   "cell_type": "code",
   "execution_count": 5,
   "id": "accepting-homeless",
   "metadata": {},
   "outputs": [
    {
     "name": "stdout",
     "output_type": "stream",
     "text": [
      "org_array.sort() 호출 후 반환된 행렬:  None\n",
      "org_array.sort() 호출 후 원본 행렬:  [1 3 5 9]\n"
     ]
    }
   ],
   "source": [
    "sort_array2 = org_array.sort()\n",
    "print(\"org_array.sort() 호출 후 반환된 행렬: \", sort_array2)\n",
    "print(\"org_array.sort() 호출 후 원본 행렬: \", org_array)"
   ]
  },
  {
   "cell_type": "code",
   "execution_count": 6,
   "id": "hairy-boulder",
   "metadata": {},
   "outputs": [
    {
     "name": "stdout",
     "output_type": "stream",
     "text": [
      "내림차순으로 정렬: [9 5 3 1]\n"
     ]
    }
   ],
   "source": [
    "# 내림차순으로 정렬하기\n",
    "sort_array1_desc = np.sort(org_array)[::-1]\n",
    "print(\"내림차순으로 정렬:\", sort_array1_desc)"
   ]
  },
  {
   "cell_type": "code",
   "execution_count": 8,
   "id": "advised-welding",
   "metadata": {},
   "outputs": [
    {
     "name": "stdout",
     "output_type": "stream",
     "text": [
      "row 방향으로 정렬:\n",
      " [[ 7  1]\n",
      " [ 8 12]]\n",
      "\n",
      "column 방향으로 정렬:\n",
      " [[ 8 12]\n",
      " [ 1  7]]\n"
     ]
    }
   ],
   "source": [
    "#행렬이 2차원 이상일 경우, axis 축 값 설정을 통해 row방향 또는 column방향으로 정렬을 수행할 수 있음\n",
    "array2d = np.array([[8, 12],\n",
    "                    [7, 1]])\n",
    "\n",
    "sort_array_2d_axis0 = np.sort(array2d, axis=0)\n",
    "print(\"row 방향으로 정렬:\\n\", sort_array_2d_axis0)\n",
    "\n",
    "sort_array_2d_axis1 = np.sort(array2d, axis=1)\n",
    "print(\"\\ncolumn 방향으로 정렬:\\n\", sort_array_2d_axis1)"
   ]
  },
  {
   "cell_type": "markdown",
   "id": "residential-findings",
   "metadata": {},
   "source": [
    "#### 정렬된 행렬의 인덱스를 반환하기\n",
    "\n",
    "np.argsort(): 원본 행렬이 정렬되었을 때 기존 원본 행렬의 원소에 대한 인덱스를 필요로 할 때 이용, 정렬 행렬의 원본 행렬 인덱스를 ndarray형으로 반환함"
   ]
  },
  {
   "cell_type": "code",
   "execution_count": 9,
   "id": "chinese-deposit",
   "metadata": {},
   "outputs": [
    {
     "name": "stdout",
     "output_type": "stream",
     "text": [
      "<class 'numpy.ndarray'>\n",
      "행렬 정렬 시 원본 행렬의 인덱스: [1 0 3 2]\n"
     ]
    }
   ],
   "source": [
    "org_array = np.array([3, 1, 9, 5])\n",
    "sort_indices = np.argsort(org_array)\n",
    "print(type(sort_indices))\n",
    "print(\"행렬 정렬 시 원본 행렬의 인덱스:\", sort_indices)"
   ]
  },
  {
   "cell_type": "code",
   "execution_count": 10,
   "id": "recent-studio",
   "metadata": {},
   "outputs": [
    {
     "name": "stdout",
     "output_type": "stream",
     "text": [
      "행렬 내림차순 정렬 시 원본 행렬의 인덱스: [2 3 0 1]\n"
     ]
    }
   ],
   "source": [
    "sort_indices_desc = np.argsort(org_array)[::-1]\n",
    "print(\"행렬 내림차순 정렬 시 원본 행렬의 인덱스:\", sort_indices_desc)"
   ]
  },
  {
   "cell_type": "code",
   "execution_count": 13,
   "id": "worth-finder",
   "metadata": {},
   "outputs": [
    {
     "name": "stdout",
     "output_type": "stream",
     "text": [
      "성적 오름차순 정렬 시 score_array의 인덱스: [0 2 4 1 3]\n",
      "성적 오름차순으로 name_array의 이름 출력: ['John' 'Sarah' 'Samuel' 'Mike' 'Kate']\n",
      "성적 내림차순 정렬 시 score_array의 인덱스: [3 1 4 2 0]\n",
      "성적 내림차순으로 name_array의 이름 출력: ['Kate' 'Mike' 'Samuel' 'Sarah' 'John']\n"
     ]
    }
   ],
   "source": [
    "name_array = np.array(['John', 'Mike', 'Sarah', 'Kate', 'Samuel'])\n",
    "score_array = np.array([78, 95, 84, 98, 88])\n",
    "\n",
    "sort_indices_asc = np.argsort(score_array)\n",
    "print(\"성적 오름차순 정렬 시 score_array의 인덱스:\", sort_indices_asc)\n",
    "print(\"성적 오름차순으로 name_array의 이름 출력:\", name_array[sort_indices_asc])\n",
    "\n",
    "sort_indices_desc = np.argsort(score_array)[::-1]\n",
    "print(\"성적 내림차순 정렬 시 score_array의 인덱스:\", sort_indices_desc)\n",
    "print(\"성적 내림차순으로 name_array의 이름 출력:\", name_array[sort_indices_desc])"
   ]
  },
  {
   "cell_type": "markdown",
   "id": "compliant-radio",
   "metadata": {},
   "source": [
    "## 선형대수 연산 - 행렬 내적과 전치 행렬 구하기"
   ]
  },
  {
   "cell_type": "markdown",
   "id": "affiliated-brooklyn",
   "metadata": {},
   "source": [
    "#### 행렬 내적 (행렬 곱)\n",
    "np.dot()을 사용해 계산"
   ]
  },
  {
   "cell_type": "code",
   "execution_count": 14,
   "id": "stock-traffic",
   "metadata": {},
   "outputs": [
    {
     "name": "stdout",
     "output_type": "stream",
     "text": [
      "행렬 내적 결과:\n",
      " [[ 58  64]\n",
      " [139 154]]\n"
     ]
    }
   ],
   "source": [
    "A = np.array([[1, 2, 3],\n",
    "              [4, 5, 6]])\n",
    "\n",
    "B = np.array([[7, 8],\n",
    "              [9, 10],\n",
    "              [11, 12]])\n",
    "\n",
    "dot_product = np.dot(A, B)\n",
    "print(\"행렬 내적 결과:\\n\", dot_product)"
   ]
  },
  {
   "cell_type": "markdown",
   "id": "becoming-papua",
   "metadata": {},
   "source": [
    "#### 전치 행렬"
   ]
  },
  {
   "cell_type": "code",
   "execution_count": 15,
   "id": "level-pilot",
   "metadata": {},
   "outputs": [
    {
     "name": "stdout",
     "output_type": "stream",
     "text": [
      "A의 전치행렬:\n",
      " [[1 3]\n",
      " [2 4]]\n"
     ]
    }
   ],
   "source": [
    "A = np.array([[1, 2],\n",
    "              [3, 4]])\n",
    "transpose_mat = np.transpose(A)\n",
    "\n",
    "print(\"A의 전치행렬:\\n\", transpose_mat)"
   ]
  }
 ],
 "metadata": {
  "kernelspec": {
   "display_name": "Python 3",
   "language": "python",
   "name": "python3"
  },
  "language_info": {
   "codemirror_mode": {
    "name": "ipython",
    "version": 3
   },
   "file_extension": ".py",
   "mimetype": "text/x-python",
   "name": "python",
   "nbconvert_exporter": "python",
   "pygments_lexer": "ipython3",
   "version": "3.7.9"
  }
 },
 "nbformat": 4,
 "nbformat_minor": 5
}
