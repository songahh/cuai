{
 "cells": [
  {
   "cell_type": "markdown",
   "id": "technological-sustainability",
   "metadata": {},
   "source": [
    "## 규제 선형 모델 - 릿지, 라쏘, 엘라스틱넷"
   ]
  },
  {
   "cell_type": "markdown",
   "id": "expired-collapse",
   "metadata": {},
   "source": [
    "### 규제 선형 모델 개요"
   ]
  },
  {
   "cell_type": "markdown",
   "id": "respiratory-living",
   "metadata": {},
   "source": [
    "* **cost func** = Min(RSS(W) + **alpha** * $||W||^2_2$)\n",
    "* 최적모델을 위한 cost함수의 구성요소 = 학습데이터 잔차 오류 최소화 + 회귀계수 크기 제어\n",
    "* **alpha**: 0에서부터 지속적으로 증가시키면 회귀 계수 값의 크기를 감소시킬 수 있음\n",
    "    * alpha가 클수록 회귀계수 W값을 작게 해 과적합을 개선할 수 있음\n",
    "    * alpha가 작으면 회귀계수 W값이 커져도 어느정도 상쇄 가능\n",
    "    * 이 방식을 Regularization이라고 부름"
   ]
  },
  {
   "cell_type": "markdown",
   "id": "quick-champagne",
   "metadata": {},
   "source": [
    "## 릿지 회귀"
   ]
  },
  {
   "cell_type": "markdown",
   "id": "eligible-postcard",
   "metadata": {},
   "source": [
    "* W의 제곱(L2 Regularization)에 대해 페널티를 부여하는 방식"
   ]
  },
  {
   "cell_type": "code",
   "execution_count": 6,
   "id": "paperback-person",
   "metadata": {},
   "outputs": [],
   "source": [
    "import numpy as np\n",
    "import matplotlib.pyplot as plt\n",
    "import pandas as pd\n",
    "import seaborn as sns\n",
    "from scipy import stats\n",
    "from sklearn.datasets import load_boston\n",
    "from sklearn.model_selection import cross_val_score\n",
    "from sklearn.model_selection import train_test_split\n",
    "from sklearn.linear_model import LinearRegression\n",
    "from sklearn.metrics import mean_squared_error, r2_score\n",
    "%matplotlib inline\n",
    "\n",
    "# boston 데이터 세트 로드\n",
    "boston = load_boston()\n",
    "\n",
    "# boston 데이터 세트 DataFrame 변환\n",
    "bostonDF = pd.DataFrame(boston.data, columns = boston.feature_names)\n",
    "\n",
    "# boston 데이터 세트의 target 배열은 주택 가격임. 이를 PRICE coloumn으로 DataFrame에 추가함\n",
    "bostonDF['PRICE'] = boston.target\n",
    "\n",
    "y_target = bostonDF['PRICE']\n",
    "X_data = bostonDF.drop(['PRICE'], axis=1, inplace=False)"
   ]
  },
  {
   "cell_type": "code",
   "execution_count": 9,
   "id": "international-independence",
   "metadata": {},
   "outputs": [
    {
     "name": "stdout",
     "output_type": "stream",
     "text": [
      " 5 folds의 개별 Negative MSE scores:  [-11.422 -24.294 -28.144 -74.599 -28.517]\n",
      " 5 folds의 개별 RMSE scores:  [3.38  4.929 5.305 8.637 5.34 ]\n",
      " 5 folds의 개별 RMSE: {0:.3f} 6.0\n"
     ]
    }
   ],
   "source": [
    "from sklearn.linear_model import Ridge\n",
    "\n",
    "# alpha=10\n",
    "ridge = Ridge(alpha=10)\n",
    "neg_mse_scores = cross_val_score(ridge, X_data, y_target, scoring=\"neg_mean_squared_error\", cv=5) # loss에 -를 더해줘 의미를 맞춤\n",
    "rmse_scores = np.sqrt(-1*neg_mse_scores) # root 씌우기\n",
    "avg_rmse = np.mean(rmse_scores) # 평균\n",
    "\n",
    "print(\" 5 folds의 개별 Negative MSE scores: \", np.round(neg_mse_scores, 3))\n",
    "print(\" 5 folds의 개별 RMSE scores: \", np.round(rmse_scores, 3))\n",
    "print(\" 5 folds의 개별 RMSE: {0:.3f}\", np.round(avg_rmse))"
   ]
  },
  {
   "cell_type": "markdown",
   "id": "hairy-circle",
   "metadata": {},
   "source": [
    "#### 릿지의 alpha 값 변화 [0, 0.1, 1, 10, 100]"
   ]
  },
  {
   "cell_type": "code",
   "execution_count": 11,
   "id": "secret-formation",
   "metadata": {},
   "outputs": [
    {
     "name": "stdout",
     "output_type": "stream",
     "text": [
      " alpha 0 일 때 5 folds 의 평균 RMSE: 5.829\n",
      " alpha 0.1 일 때 5 folds 의 평균 RMSE: 5.788\n",
      " alpha 1 일 때 5 folds 의 평균 RMSE: 5.653\n",
      " alpha 10 일 때 5 folds 의 평균 RMSE: 5.518\n",
      " alpha 100 일 때 5 folds 의 평균 RMSE: 5.330\n"
     ]
    }
   ],
   "source": [
    "# 릿지에 사용될 alpha 파라미터의 값을 정의\n",
    "alphas = [0, 0.1, 1, 10, 100]\n",
    "\n",
    "# alphas list 값을 반복하면서 alpha에 따른 평균 rmse를 구함\n",
    "for a in alphas:\n",
    "    ridge = Ridge(alpha = a)\n",
    "    \n",
    "    # cross_val_score로 5 폴드의 평균 rmse를 계산\n",
    "    neg_mse_scores = cross_val_score(ridge, X_data, y_target, scoring=\"neg_mean_squared_error\", cv=5) # loss에 -를 더해줘 의미를 맞춤\n",
    "    rmse_scores = np.sqrt(-1*neg_mse_scores) # root 씌우기\n",
    "    avg_rmse = np.mean(rmse_scores) # 평균\n",
    "    \n",
    "    print(\" alpha {0} 일 때 5 folds 의 평균 RMSE: {1:.3f}\".format(a, avg_rmse))"
   ]
  },
  {
   "cell_type": "markdown",
   "id": "manual-maintenance",
   "metadata": {},
   "source": [
    "alpha가 100일 때의 rmse가 제일 작음 -> 가장 좋음"
   ]
  },
  {
   "cell_type": "markdown",
   "id": "cordless-laundry",
   "metadata": {},
   "source": [
    "#### 그래프로 시각화"
   ]
  },
  {
   "cell_type": "code",
   "execution_count": 13,
   "id": "short-cameroon",
   "metadata": {},
   "outputs": [
    {
     "data": {
      "image/png": "[encoded data removed]",
      "text/plain": [
       "<Figure size 1296x432 with 5 Axes>"
      ]
     },
     "metadata": {
      "needs_background": "light"
     },
     "output_type": "display_data"
    }
   ],
   "source": [
    "# 각 alpha에 따른 회귀 계수 값을 시각화하기 위해 5개의 열로 된 matplotlib 축 생성\n",
    "fig, axs = plt.subplots(figsize = (18,6), nrows=1, ncols=5)\n",
    "\n",
    "# 각 alpha에 따른 회귀 계수 값을 데이터로 저장하기 위한 dataframe 생성\n",
    "coeff_df = pd.DataFrame()\n",
    "\n",
    "# alphas 리스트 값을 차례로 입력해 회귀 계수 값 시각화 및 데이터 저장, pos: axis의 위치 지정\n",
    "for pos, a in enumerate(alphas):\n",
    "    ridge = Ridge(alpha=a)\n",
    "    ridge.fit(X_data, y_target)\n",
    "    \n",
    "    # alpha에 따른 피처별로 회귀 계수를 Series로 변환하고 이를 DataFrame의 column으로 추가\n",
    "    coeff = pd.Series(data=ridge.coef_, index=X_data.columns)\n",
    "    colname = 'alpha:'+str(a)\n",
    "    coeff_df[colname]=coeff\n",
    "    \n",
    "    # 막대 그래프로 각 alpha 값에서의 회귀 계수를 시각화. 회귀 계수 값이 높은 순으로 표현\n",
    "    coeff = coeff.sort_values(ascending=False)\n",
    "    axs[pos].set_title(colname)\n",
    "    axs[pos].set_xlim(-3, 6)\n",
    "    sns.barplot(x=coeff.values, y=coeff.index, ax=axs[pos])\n",
    "\n",
    "# for문 바깥에서 matplotlib의 show 호출 및 alpha에 따른 피처별 회귀 계수를 DataFrame으로 표시\n",
    "plt.show()"
   ]
  },
  {
   "cell_type": "code",
   "execution_count": 14,
   "id": "filled-satin",
   "metadata": {},
   "outputs": [
    {
     "data": {
      "text/html": [
       "<div>\n",
       "<style scoped>\n",
       "    .dataframe tbody tr th:only-of-type {\n",
       "        vertical-align: middle;\n",
       "    }\n",
       "\n",
       "    .dataframe tbody tr th {\n",
       "        vertical-align: top;\n",
       "    }\n",
       "\n",
       "    .dataframe thead th {\n",
       "        text-align: right;\n",
       "    }\n",
       "</style>\n",
       "<table border=\"1\" class=\"dataframe\">\n",
       "  <thead>\n",
       "    <tr style=\"text-align: right;\">\n",
       "      <th></th>\n",
       "      <th>alpha:0</th>\n",
       "      <th>alpha:0.1</th>\n",
       "      <th>alpha:1</th>\n",
       "      <th>alpha:10</th>\n",
       "      <th>alpha:100</th>\n",
       "    </tr>\n",
       "  </thead>\n",
       "  <tbody>\n",
       "    <tr>\n",
       "      <th>RM</th>\n",
       "      <td>3.809865</td>\n",
       "      <td>3.818233</td>\n",
       "      <td>3.854000</td>\n",
       "      <td>3.702272</td>\n",
       "      <td>2.334536</td>\n",
       "    </tr>\n",
       "    <tr>\n",
       "      <th>CHAS</th>\n",
       "      <td>2.686734</td>\n",
       "      <td>2.670019</td>\n",
       "      <td>2.552393</td>\n",
       "      <td>1.952021</td>\n",
       "      <td>0.638335</td>\n",
       "    </tr>\n",
       "    <tr>\n",
       "      <th>RAD</th>\n",
       "      <td>0.306049</td>\n",
       "      <td>0.303515</td>\n",
       "      <td>0.290142</td>\n",
       "      <td>0.279596</td>\n",
       "      <td>0.315358</td>\n",
       "    </tr>\n",
       "    <tr>\n",
       "      <th>ZN</th>\n",
       "      <td>0.046420</td>\n",
       "      <td>0.046572</td>\n",
       "      <td>0.047443</td>\n",
       "      <td>0.049579</td>\n",
       "      <td>0.054496</td>\n",
       "    </tr>\n",
       "    <tr>\n",
       "      <th>INDUS</th>\n",
       "      <td>0.020559</td>\n",
       "      <td>0.015999</td>\n",
       "      <td>-0.008805</td>\n",
       "      <td>-0.042962</td>\n",
       "      <td>-0.052826</td>\n",
       "    </tr>\n",
       "    <tr>\n",
       "      <th>B</th>\n",
       "      <td>0.009312</td>\n",
       "      <td>0.009368</td>\n",
       "      <td>0.009673</td>\n",
       "      <td>0.010037</td>\n",
       "      <td>0.009393</td>\n",
       "    </tr>\n",
       "    <tr>\n",
       "      <th>AGE</th>\n",
       "      <td>0.000692</td>\n",
       "      <td>-0.000269</td>\n",
       "      <td>-0.005415</td>\n",
       "      <td>-0.010707</td>\n",
       "      <td>0.001212</td>\n",
       "    </tr>\n",
       "    <tr>\n",
       "      <th>TAX</th>\n",
       "      <td>-0.012335</td>\n",
       "      <td>-0.012421</td>\n",
       "      <td>-0.012912</td>\n",
       "      <td>-0.013993</td>\n",
       "      <td>-0.015856</td>\n",
       "    </tr>\n",
       "    <tr>\n",
       "      <th>CRIM</th>\n",
       "      <td>-0.108011</td>\n",
       "      <td>-0.107474</td>\n",
       "      <td>-0.104595</td>\n",
       "      <td>-0.101435</td>\n",
       "      <td>-0.102202</td>\n",
       "    </tr>\n",
       "    <tr>\n",
       "      <th>LSTAT</th>\n",
       "      <td>-0.524758</td>\n",
       "      <td>-0.525966</td>\n",
       "      <td>-0.533343</td>\n",
       "      <td>-0.559366</td>\n",
       "      <td>-0.660764</td>\n",
       "    </tr>\n",
       "    <tr>\n",
       "      <th>PTRATIO</th>\n",
       "      <td>-0.952747</td>\n",
       "      <td>-0.940759</td>\n",
       "      <td>-0.876074</td>\n",
       "      <td>-0.797945</td>\n",
       "      <td>-0.829218</td>\n",
       "    </tr>\n",
       "    <tr>\n",
       "      <th>DIS</th>\n",
       "      <td>-1.475567</td>\n",
       "      <td>-1.459626</td>\n",
       "      <td>-1.372654</td>\n",
       "      <td>-1.248808</td>\n",
       "      <td>-1.153390</td>\n",
       "    </tr>\n",
       "    <tr>\n",
       "      <th>NOX</th>\n",
       "      <td>-17.766611</td>\n",
       "      <td>-16.684645</td>\n",
       "      <td>-10.777015</td>\n",
       "      <td>-2.371619</td>\n",
       "      <td>-0.262847</td>\n",
       "    </tr>\n",
       "  </tbody>\n",
       "</table>\n",
       "</div>"
      ],
      "text/plain": [
       "           alpha:0  alpha:0.1    alpha:1  alpha:10  alpha:100\n",
       "RM        3.809865   3.818233   3.854000  3.702272   2.334536\n",
       "CHAS      2.686734   2.670019   2.552393  1.952021   0.638335\n",
       "RAD       0.306049   0.303515   0.290142  0.279596   0.315358\n",
       "ZN        0.046420   0.046572   0.047443  0.049579   0.054496\n",
       "INDUS     0.020559   0.015999  -0.008805 -0.042962  -0.052826\n",
       "B         0.009312   0.009368   0.009673  0.010037   0.009393\n",
       "AGE       0.000692  -0.000269  -0.005415 -0.010707   0.001212\n",
       "TAX      -0.012335  -0.012421  -0.012912 -0.013993  -0.015856\n",
       "CRIM     -0.108011  -0.107474  -0.104595 -0.101435  -0.102202\n",
       "LSTAT    -0.524758  -0.525966  -0.533343 -0.559366  -0.660764\n",
       "PTRATIO  -0.952747  -0.940759  -0.876074 -0.797945  -0.829218\n",
       "DIS      -1.475567  -1.459626  -1.372654 -1.248808  -1.153390\n",
       "NOX     -17.766611 -16.684645 -10.777015 -2.371619  -0.262847"
      ]
     },
     "execution_count": 14,
     "metadata": {},
     "output_type": "execute_result"
    }
   ],
   "source": [
    "ridge_alphas = [0, 0.1, 1, 10, 100]\n",
    "sort_column = 'alpha:'+str(ridge_alphas[0])\n",
    "coeff_df.sort_values(by=sort_column, ascending=False)"
   ]
  },
  {
   "cell_type": "markdown",
   "id": "satisfactory-ranch",
   "metadata": {},
   "source": [
    "* alpha값을 계속 증가시킬수록 회귀 계수 값은 작아짐\n",
    "* 회귀 계수가 0으로 가진 않음"
   ]
  },
  {
   "cell_type": "markdown",
   "id": "small-compensation",
   "metadata": {},
   "source": [
    "## 라쏘 회귀"
   ]
  },
  {
   "cell_type": "markdown",
   "id": "fresh-vampire",
   "metadata": {},
   "source": [
    "* W의 절댓값(L1 Regularization)에 대해 페널티를 부여하는 방식\n",
    "* L2 Regularization이 회귀 계수의 크기를 감소시키는데 반해, L1 Reg.에서는 불필요한 회귀 계수를 급격하게 감소시켜 0으로 만듦\n",
    "    * 적절한 피처만 회귀에 포함시키는 피처 선택의 특징을 가지고 있음"
   ]
  },
  {
   "cell_type": "code",
   "execution_count": 23,
   "id": "productive-understanding",
   "metadata": {},
   "outputs": [],
   "source": [
    "from sklearn.linear_model import Lasso, ElasticNet\n",
    "\n",
    "# alpha값에 따라 회귀 모델의 폴드 평균 RMSE를 출력하고 회귀 계수 값들을 DataFrame으로 반환\n",
    "# verbose: a general programming term for produce lots of logging output\n",
    "def get_linear_reg_eval(model_name, params = None, X_data_n = None, y_target_n = None, verbose = True, return_coeff= True):\n",
    "        coeff_df = pd.DataFrame()\n",
    "        if verbose:\n",
    "            print(\"#######\", model_name, \"#######\")\n",
    "        \n",
    "        for p in params:\n",
    "            if model_name == \"Ridge\":\n",
    "                model = Ridge(alpha = p)\n",
    "            elif model_name == \"Lasso\":\n",
    "                model = Lasso(alpha = p)\n",
    "            elif model_name == \"ElasticNet\":\n",
    "                model = ElasticNet(alpha = p, l1_ratio=0.7)\n",
    "            \n",
    "            # 오차 구하기\n",
    "            neg_mse_scores = cross_val_score(model, X_data_n, y_target_n, scoring = \"neg_mean_squared_error\", cv = 5)\n",
    "            avg_rmse = np.mean(np.sqrt(-1*neg_mse_scores))\n",
    "            print(\"alpha {0} 일 때 5 fold set의 평균 RMSE: {1:.3f} \".format(p, avg_rmse))\n",
    "            \n",
    "            # cross_val_score는 evaluation metirc만 반환하므로 모델을 다시 학습하여 회귀 계수 추출\n",
    "            model.fit(X_data_n, y_target_n)\n",
    "            if return_coeff:\n",
    "                # alpha에 따른 피처별 회귀 계수를 Series로 변환하고 이를 DataFrame의 칼럼으로 추가\n",
    "                coeff = pd.Series(data=model.coef_, index=X_data_n.columns)\n",
    "                colname = 'alpha:'+str(p)\n",
    "                coeff_df[colname] = coeff\n",
    "        \n",
    "        return coeff_df"
   ]
  },
  {
   "cell_type": "code",
   "execution_count": 24,
   "id": "regular-liberty",
   "metadata": {},
   "outputs": [
    {
     "name": "stdout",
     "output_type": "stream",
     "text": [
      "####### Lasso #######\n",
      "alpha 0.07 일 때 5 fold set의 평균 RMSE: 5.612 \n",
      "alpha 0.1 일 때 5 fold set의 평균 RMSE: 5.615 \n",
      "alpha 0.5 일 때 5 fold set의 평균 RMSE: 5.669 \n",
      "alpha 1.3 일 때 5 fold set의 평균 RMSE: 5.845 \n"
     ]
    }
   ],
   "source": [
    "# 라쏘에 사용될 alpha 파라미터의 값을 정의하고 get_linear_reg_eval() 함수 호출\n",
    "lasso_alphas = [0.07, 0.1, 0.5, 1.3]\n",
    "coeff_lasso_df = get_linear_reg_eval(\"Lasso\", params = lasso_alphas, X_data_n = X_data, y_target_n = y_target)"
   ]
  },
  {
   "cell_type": "markdown",
   "id": "alien-bacteria",
   "metadata": {},
   "source": [
    "alpha 0.07일 때 가장 좋은 rmse"
   ]
  },
  {
   "cell_type": "code",
   "execution_count": 25,
   "id": "herbal-china",
   "metadata": {},
   "outputs": [
    {
     "data": {
      "text/html": [
       "<div>\n",
       "<style scoped>\n",
       "    .dataframe tbody tr th:only-of-type {\n",
       "        vertical-align: middle;\n",
       "    }\n",
       "\n",
       "    .dataframe tbody tr th {\n",
       "        vertical-align: top;\n",
       "    }\n",
       "\n",
       "    .dataframe thead th {\n",
       "        text-align: right;\n",
       "    }\n",
       "</style>\n",
       "<table border=\"1\" class=\"dataframe\">\n",
       "  <thead>\n",
       "    <tr style=\"text-align: right;\">\n",
       "      <th></th>\n",
       "      <th>alpha:0.07</th>\n",
       "      <th>alpha:0.1</th>\n",
       "      <th>alpha:0.5</th>\n",
       "      <th>alpha:1.3</th>\n",
       "    </tr>\n",
       "  </thead>\n",
       "  <tbody>\n",
       "    <tr>\n",
       "      <th>RM</th>\n",
       "      <td>3.789725</td>\n",
       "      <td>3.703202</td>\n",
       "      <td>2.498212</td>\n",
       "      <td>0.018113</td>\n",
       "    </tr>\n",
       "    <tr>\n",
       "      <th>CHAS</th>\n",
       "      <td>1.434343</td>\n",
       "      <td>0.955190</td>\n",
       "      <td>0.000000</td>\n",
       "      <td>0.000000</td>\n",
       "    </tr>\n",
       "    <tr>\n",
       "      <th>RAD</th>\n",
       "      <td>0.270936</td>\n",
       "      <td>0.274707</td>\n",
       "      <td>0.277451</td>\n",
       "      <td>0.255433</td>\n",
       "    </tr>\n",
       "    <tr>\n",
       "      <th>ZN</th>\n",
       "      <td>0.049059</td>\n",
       "      <td>0.049211</td>\n",
       "      <td>0.049544</td>\n",
       "      <td>0.048850</td>\n",
       "    </tr>\n",
       "    <tr>\n",
       "      <th>B</th>\n",
       "      <td>0.010248</td>\n",
       "      <td>0.010249</td>\n",
       "      <td>0.009469</td>\n",
       "      <td>0.007507</td>\n",
       "    </tr>\n",
       "    <tr>\n",
       "      <th>NOX</th>\n",
       "      <td>-0.000000</td>\n",
       "      <td>-0.000000</td>\n",
       "      <td>-0.000000</td>\n",
       "      <td>-0.000000</td>\n",
       "    </tr>\n",
       "    <tr>\n",
       "      <th>AGE</th>\n",
       "      <td>-0.011706</td>\n",
       "      <td>-0.010037</td>\n",
       "      <td>0.003604</td>\n",
       "      <td>0.031350</td>\n",
       "    </tr>\n",
       "    <tr>\n",
       "      <th>TAX</th>\n",
       "      <td>-0.014290</td>\n",
       "      <td>-0.014570</td>\n",
       "      <td>-0.015442</td>\n",
       "      <td>-0.014981</td>\n",
       "    </tr>\n",
       "    <tr>\n",
       "      <th>INDUS</th>\n",
       "      <td>-0.042120</td>\n",
       "      <td>-0.036619</td>\n",
       "      <td>-0.005253</td>\n",
       "      <td>-0.000000</td>\n",
       "    </tr>\n",
       "    <tr>\n",
       "      <th>CRIM</th>\n",
       "      <td>-0.098193</td>\n",
       "      <td>-0.097894</td>\n",
       "      <td>-0.083289</td>\n",
       "      <td>-0.051638</td>\n",
       "    </tr>\n",
       "    <tr>\n",
       "      <th>LSTAT</th>\n",
       "      <td>-0.560431</td>\n",
       "      <td>-0.568769</td>\n",
       "      <td>-0.656290</td>\n",
       "      <td>-0.823758</td>\n",
       "    </tr>\n",
       "    <tr>\n",
       "      <th>PTRATIO</th>\n",
       "      <td>-0.765107</td>\n",
       "      <td>-0.770654</td>\n",
       "      <td>-0.758752</td>\n",
       "      <td>-0.701274</td>\n",
       "    </tr>\n",
       "    <tr>\n",
       "      <th>DIS</th>\n",
       "      <td>-1.176583</td>\n",
       "      <td>-1.160538</td>\n",
       "      <td>-0.936605</td>\n",
       "      <td>-0.511309</td>\n",
       "    </tr>\n",
       "  </tbody>\n",
       "</table>\n",
       "</div>"
      ],
      "text/plain": [
       "         alpha:0.07  alpha:0.1  alpha:0.5  alpha:1.3\n",
       "RM         3.789725   3.703202   2.498212   0.018113\n",
       "CHAS       1.434343   0.955190   0.000000   0.000000\n",
       "RAD        0.270936   0.274707   0.277451   0.255433\n",
       "ZN         0.049059   0.049211   0.049544   0.048850\n",
       "B          0.010248   0.010249   0.009469   0.007507\n",
       "NOX       -0.000000  -0.000000  -0.000000  -0.000000\n",
       "AGE       -0.011706  -0.010037   0.003604   0.031350\n",
       "TAX       -0.014290  -0.014570  -0.015442  -0.014981\n",
       "INDUS     -0.042120  -0.036619  -0.005253  -0.000000\n",
       "CRIM      -0.098193  -0.097894  -0.083289  -0.051638\n",
       "LSTAT     -0.560431  -0.568769  -0.656290  -0.823758\n",
       "PTRATIO   -0.765107  -0.770654  -0.758752  -0.701274\n",
       "DIS       -1.176583  -1.160538  -0.936605  -0.511309"
      ]
     },
     "execution_count": 25,
     "metadata": {},
     "output_type": "execute_result"
    }
   ],
   "source": [
    "# alpha값에 따른 피처별 회귀 계수\n",
    "# 반환된 coeff_lasso_df를 첫 번째 column 순으로 내림차순 정렬해 회귀계수 DataFrame 출력\n",
    "sort_column = \"alpha:\"+str(lasso_alphas[0])\n",
    "coeff_lasso_df.sort_values(by=sort_column, ascending = False)"
   ]
  },
  {
   "cell_type": "markdown",
   "id": "abroad-declaration",
   "metadata": {},
   "source": [
    "* alpha의 크기가 증가함에 따라 일부 피처의 회귀 계수는 0으로 바뀌고 있음 (CHAS- 0.5, 1.3 / NOX)\n",
    "* 회귀 계수가 0인 피처는 회귀 식에서 제외되면서 피처 선택의 효과를 얻을 수 있음"
   ]
  },
  {
   "cell_type": "markdown",
   "id": "vocal-little",
   "metadata": {},
   "source": [
    "## 엘라스틱넷 회귀"
   ]
  },
  {
   "cell_type": "markdown",
   "id": "moral-jewel",
   "metadata": {},
   "source": [
    "* L1 Regularization + L2 Regularization\n",
    "* cost function = RSS(W) + alpha2 * $||W||^2_2$ + alpha1 * $||W||_1$\n",
    "\n",
    "[엘라스텍넷 회귀]\n",
    "* 라쏘: 서로 상관관계가 높은 피처들의 경우, 이들 중에서 중요피처만 셀렉션하고 다른 피처들은 모두 회귀 계수를 0으로 만드는 성향이 강함\n",
    "* 이러한 성향으로 인해 alpha값에 따라 회귀 계수의 값이 급격히 변동할 수 있는데, 이를 완화하기 위해 라쏘에 L2 Regularization 추가\n",
    "* 단점: 수행시간이 상대적으로 오래 걸림"
   ]
  },
  {
   "cell_type": "markdown",
   "id": "level-cabinet",
   "metadata": {},
   "source": [
    "* 주요 생성 파라미터: alpha, l1_ratio\n",
    "* alpha = alpha1 + alpha2, l1_ratio = alpha1 / (alpha1 + alpha2)\n",
    "    * l1_ratio가 0이면 a=0이므로 L2 Regularization과 동일\n",
    "    * l2_ratio가 0이면 b=0이므로 L1 Regularization과 동일"
   ]
  },
  {
   "cell_type": "code",
   "execution_count": 27,
   "id": "rapid-mauritius",
   "metadata": {},
   "outputs": [
    {
     "name": "stdout",
     "output_type": "stream",
     "text": [
      "####### ElasticNet #######\n",
      "alpha 0.07 일 때 5 fold set의 평균 RMSE: 5.542 \n",
      "alpha 0.1 일 때 5 fold set의 평균 RMSE: 5.526 \n",
      "alpha 0.5 일 때 5 fold set의 평균 RMSE: 5.467 \n",
      "alpha 1 일 때 5 fold set의 평균 RMSE: 5.597 \n",
      "alpha 3 일 때 5 fold set의 평균 RMSE: 6.068 \n"
     ]
    }
   ],
   "source": [
    "# 엘라스틱넷에 사용될 alpha 파라미터의 값들을 정의하고 get_linear_reg_eval() 함수 호출\n",
    "# l1_ratio는 0.7로 고정\n",
    "elastic_alphas = [0.07, 0.1, 0.5, 1, 3]\n",
    "coeff_elastic_df = get_linear_reg_eval(\"ElasticNet\", params = elastic_alphas, X_data_n = X_data, y_target_n = y_target)"
   ]
  },
  {
   "cell_type": "markdown",
   "id": "neutral-sequence",
   "metadata": {},
   "source": [
    "alpha가 0.5일 때 가장 좋은 rmse"
   ]
  },
  {
   "cell_type": "code",
   "execution_count": 28,
   "id": "ignored-pixel",
   "metadata": {},
   "outputs": [
    {
     "data": {
      "text/html": [
       "<div>\n",
       "<style scoped>\n",
       "    .dataframe tbody tr th:only-of-type {\n",
       "        vertical-align: middle;\n",
       "    }\n",
       "\n",
       "    .dataframe tbody tr th {\n",
       "        vertical-align: top;\n",
       "    }\n",
       "\n",
       "    .dataframe thead th {\n",
       "        text-align: right;\n",
       "    }\n",
       "</style>\n",
       "<table border=\"1\" class=\"dataframe\">\n",
       "  <thead>\n",
       "    <tr style=\"text-align: right;\">\n",
       "      <th></th>\n",
       "      <th>alpha:0.07</th>\n",
       "      <th>alpha:0.1</th>\n",
       "      <th>alpha:0.5</th>\n",
       "      <th>alpha:1</th>\n",
       "      <th>alpha:3</th>\n",
       "    </tr>\n",
       "  </thead>\n",
       "  <tbody>\n",
       "    <tr>\n",
       "      <th>RM</th>\n",
       "      <td>3.574162</td>\n",
       "      <td>3.414154</td>\n",
       "      <td>1.918419</td>\n",
       "      <td>0.938789</td>\n",
       "      <td>0.000000</td>\n",
       "    </tr>\n",
       "    <tr>\n",
       "      <th>CHAS</th>\n",
       "      <td>1.330724</td>\n",
       "      <td>0.979706</td>\n",
       "      <td>0.000000</td>\n",
       "      <td>0.000000</td>\n",
       "      <td>0.000000</td>\n",
       "    </tr>\n",
       "    <tr>\n",
       "      <th>RAD</th>\n",
       "      <td>0.278880</td>\n",
       "      <td>0.283443</td>\n",
       "      <td>0.300761</td>\n",
       "      <td>0.289299</td>\n",
       "      <td>0.146846</td>\n",
       "    </tr>\n",
       "    <tr>\n",
       "      <th>ZN</th>\n",
       "      <td>0.050107</td>\n",
       "      <td>0.050617</td>\n",
       "      <td>0.052878</td>\n",
       "      <td>0.052136</td>\n",
       "      <td>0.038268</td>\n",
       "    </tr>\n",
       "    <tr>\n",
       "      <th>B</th>\n",
       "      <td>0.010122</td>\n",
       "      <td>0.010067</td>\n",
       "      <td>0.009114</td>\n",
       "      <td>0.008320</td>\n",
       "      <td>0.007020</td>\n",
       "    </tr>\n",
       "    <tr>\n",
       "      <th>AGE</th>\n",
       "      <td>-0.010116</td>\n",
       "      <td>-0.008276</td>\n",
       "      <td>0.007760</td>\n",
       "      <td>0.020348</td>\n",
       "      <td>0.043446</td>\n",
       "    </tr>\n",
       "    <tr>\n",
       "      <th>TAX</th>\n",
       "      <td>-0.014522</td>\n",
       "      <td>-0.014814</td>\n",
       "      <td>-0.016046</td>\n",
       "      <td>-0.016218</td>\n",
       "      <td>-0.011417</td>\n",
       "    </tr>\n",
       "    <tr>\n",
       "      <th>INDUS</th>\n",
       "      <td>-0.044855</td>\n",
       "      <td>-0.042719</td>\n",
       "      <td>-0.023252</td>\n",
       "      <td>-0.000000</td>\n",
       "      <td>-0.000000</td>\n",
       "    </tr>\n",
       "    <tr>\n",
       "      <th>CRIM</th>\n",
       "      <td>-0.099468</td>\n",
       "      <td>-0.099213</td>\n",
       "      <td>-0.089070</td>\n",
       "      <td>-0.073577</td>\n",
       "      <td>-0.019058</td>\n",
       "    </tr>\n",
       "    <tr>\n",
       "      <th>NOX</th>\n",
       "      <td>-0.175072</td>\n",
       "      <td>-0.000000</td>\n",
       "      <td>-0.000000</td>\n",
       "      <td>-0.000000</td>\n",
       "      <td>-0.000000</td>\n",
       "    </tr>\n",
       "    <tr>\n",
       "      <th>LSTAT</th>\n",
       "      <td>-0.574822</td>\n",
       "      <td>-0.587702</td>\n",
       "      <td>-0.693861</td>\n",
       "      <td>-0.760457</td>\n",
       "      <td>-0.800368</td>\n",
       "    </tr>\n",
       "    <tr>\n",
       "      <th>PTRATIO</th>\n",
       "      <td>-0.779498</td>\n",
       "      <td>-0.784725</td>\n",
       "      <td>-0.790969</td>\n",
       "      <td>-0.738672</td>\n",
       "      <td>-0.423065</td>\n",
       "    </tr>\n",
       "    <tr>\n",
       "      <th>DIS</th>\n",
       "      <td>-1.189438</td>\n",
       "      <td>-1.173647</td>\n",
       "      <td>-0.975902</td>\n",
       "      <td>-0.725174</td>\n",
       "      <td>-0.031208</td>\n",
       "    </tr>\n",
       "  </tbody>\n",
       "</table>\n",
       "</div>"
      ],
      "text/plain": [
       "         alpha:0.07  alpha:0.1  alpha:0.5   alpha:1   alpha:3\n",
       "RM         3.574162   3.414154   1.918419  0.938789  0.000000\n",
       "CHAS       1.330724   0.979706   0.000000  0.000000  0.000000\n",
       "RAD        0.278880   0.283443   0.300761  0.289299  0.146846\n",
       "ZN         0.050107   0.050617   0.052878  0.052136  0.038268\n",
       "B          0.010122   0.010067   0.009114  0.008320  0.007020\n",
       "AGE       -0.010116  -0.008276   0.007760  0.020348  0.043446\n",
       "TAX       -0.014522  -0.014814  -0.016046 -0.016218 -0.011417\n",
       "INDUS     -0.044855  -0.042719  -0.023252 -0.000000 -0.000000\n",
       "CRIM      -0.099468  -0.099213  -0.089070 -0.073577 -0.019058\n",
       "NOX       -0.175072  -0.000000  -0.000000 -0.000000 -0.000000\n",
       "LSTAT     -0.574822  -0.587702  -0.693861 -0.760457 -0.800368\n",
       "PTRATIO   -0.779498  -0.784725  -0.790969 -0.738672 -0.423065\n",
       "DIS       -1.189438  -1.173647  -0.975902 -0.725174 -0.031208"
      ]
     },
     "execution_count": 28,
     "metadata": {},
     "output_type": "execute_result"
    }
   ],
   "source": [
    "# 반환된 coeff_elastic_df를 첫 번째 칼럼순으로 내림차순 정렬해 회귀계수 DataFrame 출력\n",
    "sort_column = \"alpha:\"+str(elastic_alphas[0])\n",
    "coeff_elastic_df.sort_values(by=sort_column, ascending=False)"
   ]
  },
  {
   "cell_type": "markdown",
   "id": "identified-batman",
   "metadata": {},
   "source": [
    "# 선형 회귀 모델을 위한 데이터 변환"
   ]
  },
  {
   "cell_type": "markdown",
   "id": "seeing-probe",
   "metadata": {},
   "source": [
    "* 선형 모델: feature와 target 간의 선형의 관계가 있다고 가정 → 최적의 선형함수를 찾아내 결과값을 예측\n",
    "* 선형 회귀 모델: feature값, target값의 분포가 정규분포형태를 매우 선호\n",
    "* target값, 정규 분포 형태가 아니라 특정값의 분포가 치우친 왜곡(Skew)된 형태의 분포도일 경우 예측 성능에 부정적인 영향을 미칠 가능성이 높음\n",
    "* feature값, target값 보다는 덜하지만 역시 왜곡된 분포도로 인해 예측 성능에 부정적인 영향을 미칠 수 있음\n",
    "* 따라서, 선형회귀모델을 적용하기 전에 분포도가 심하게 왜곡된 경우 데이터에 대한 스케일링/정규화 작업을 수행함 (무조건적인 성능 향상을 보장하지는 않음)"
   ]
  },
  {
   "cell_type": "markdown",
   "id": "cheap-livestock",
   "metadata": {},
   "source": [
    "* 스케일링/정규화 작업  \n",
    "    1) StandardScaler클래스를 이용해 평균이 0, 분산이 1인 표준 정규 분포를 가진 데이터 세트로 변환하거나 MinMaxScaler 클래스를 이용해 최솟값이 0이고 최댓값이 1인 값으로 정규화를 수행함  \n",
    "    2) 스케일링/정규화를 수행한 데이터 세트에 다시 다항 특성을 적용하여 변환하는 방법임. 보통 1번 방법을 통해 예측 성능에 향상이 없을 경우 이와 같은 방법을 적용함.  \n",
    "    3) 원래 값에 log함수를 적용하면 보다 정규 분포에 가까운 형태로 값이 분포됨. 이러한 변환을 log 변환이라고 부름. 로그 변환은 매우 유용한 변환이며, 실제로 선형 회귀에서는 앞에서 소개한 1,2 번 방법보다 로그 변환이 훨씬 많이 사용되는 변환 방법임. 왜냐하면 1번 방법의 경우, 예측 성능 향상을 크게 기대하기 어려운 경우가 많으며 2번 방법의 경우 피처의 개수가 매우 많을 경우에는 다항 변환으로 생성되는 피처의 개수가 기하급수로 늘어서 과적합의 이슈가 발생할 수 있기 때문"
   ]
  },
  {
   "cell_type": "code",
   "execution_count": 32,
   "id": "potential-cornell",
   "metadata": {},
   "outputs": [],
   "source": [
    "from sklearn.preprocessing import StandardScaler, MinMaxScaler\n",
    "\n",
    "# method는 표준 정규 분포 변환(Standard), 최댓값/최솟값 정규화(MinMax), 로그변환(Log) 결정\n",
    "# p_degree는 다항식 특성을 추가할 때 적용, p_degree는 2이상 부여하지 않음\n",
    "def get_scaled_data(method=\"None\", p_degree=None, input_data = None):\n",
    "    if method == \"Standard\":\n",
    "        scaled_data = StandardScaler().fit_transform(input_data)\n",
    "    elif method == \"MinMax\":\n",
    "        scaled_data = MinMaxScaler().fit_transform(input_data)\n",
    "    elif method == \"Log\":\n",
    "        scaled_data = np.log1p(input_data)\n",
    "    else:\n",
    "        scaled_data = input_data\n",
    "    \n",
    "    if p_degree != None:\n",
    "        scaled_data = PolynomialFeatures(degree = p_degree, include_bias = False).fit_transform(scaled_data)\n",
    "    \n",
    "    return scaled_data"
   ]
  },
  {
   "cell_type": "code",
   "execution_count": 33,
   "id": "handled-labor",
   "metadata": {},
   "outputs": [
    {
     "name": "stdout",
     "output_type": "stream",
     "text": [
      "\n",
      " ## 변환 유형: None, Polynomial Degree: None\n",
      "alpha 0.1 일 때 5 fold set의 평균 RMSE: 5.788 \n",
      "alpha 1 일 때 5 fold set의 평균 RMSE: 5.653 \n",
      "alpha 10 일 때 5 fold set의 평균 RMSE: 5.518 \n",
      "alpha 100 일 때 5 fold set의 평균 RMSE: 5.330 \n",
      "\n",
      " ## 변환 유형: Standard, Polynomial Degree: None\n",
      "alpha 0.1 일 때 5 fold set의 평균 RMSE: 5.826 \n",
      "alpha 1 일 때 5 fold set의 평균 RMSE: 5.803 \n",
      "alpha 10 일 때 5 fold set의 평균 RMSE: 5.637 \n",
      "alpha 100 일 때 5 fold set의 평균 RMSE: 5.421 \n",
      "\n",
      " ## 변환 유형: Standard, Polynomial Degree: 2\n",
      "alpha 0.1 일 때 5 fold set의 평균 RMSE: 8.827 \n",
      "alpha 1 일 때 5 fold set의 평균 RMSE: 6.871 \n",
      "alpha 10 일 때 5 fold set의 평균 RMSE: 5.485 \n",
      "alpha 100 일 때 5 fold set의 평균 RMSE: 4.634 \n",
      "\n",
      " ## 변환 유형: MinMax, Polynomial Degree: None\n",
      "alpha 0.1 일 때 5 fold set의 평균 RMSE: 5.764 \n",
      "alpha 1 일 때 5 fold set의 평균 RMSE: 5.465 \n",
      "alpha 10 일 때 5 fold set의 평균 RMSE: 5.754 \n",
      "alpha 100 일 때 5 fold set의 평균 RMSE: 7.635 \n",
      "\n",
      " ## 변환 유형: MinMax, Polynomial Degree: 2\n",
      "alpha 0.1 일 때 5 fold set의 평균 RMSE: 5.298 \n",
      "alpha 1 일 때 5 fold set의 평균 RMSE: 4.323 \n",
      "alpha 10 일 때 5 fold set의 평균 RMSE: 5.185 \n",
      "alpha 100 일 때 5 fold set의 평균 RMSE: 6.538 \n",
      "\n",
      " ## 변환 유형: Log, Polynomial Degree: None\n",
      "alpha 0.1 일 때 5 fold set의 평균 RMSE: 4.770 \n",
      "alpha 1 일 때 5 fold set의 평균 RMSE: 4.676 \n",
      "alpha 10 일 때 5 fold set의 평균 RMSE: 4.836 \n",
      "alpha 100 일 때 5 fold set의 평균 RMSE: 6.241 \n"
     ]
    }
   ],
   "source": [
    "# Ridge의 alpha 값을 다르게 적용하고 다양한 데이터 변환 방법에 따른 RMSE 추출\n",
    "alphas = [0.1, 1, 10, 100]\n",
    "\n",
    "# 5개 방식으로 변환, 먼저 원본 그대로, 표준정규 분포, 표준정규 분포+다항식 특성\n",
    "# 최대/최소 정규화, 최대/최소 정규화+다항식 특성, 로그 변환\n",
    "scale_methods = [(None, None), (\"Standard\", None), (\"Standard\", 2), (\"MinMax\", None), (\"MinMax\", 2), (\"Log\", None)]\n",
    "for scale_method in scale_methods:\n",
    "    X_data_scaled = get_scaled_data(method = scale_method[0], p_degree=scale_method[1], input_data = X_data)\n",
    "    print(\"\\n ## 변환 유형: {0}, Polynomial Degree: {1}\".format(scale_method[0], scale_method[1]))\n",
    "    get_linear_reg_eval(\"Ridge\", params=alphas, X_data_n = X_data_scaled, y_target_n = y_target, verbose=False, return_coeff = False)"
   ]
  },
  {
   "cell_type": "markdown",
   "id": "stretch-sodium",
   "metadata": {},
   "source": [
    "log변환을 할 때, alpha 100을 제외하고 좋은 성능을 보임"
   ]
  }
 ],
 "metadata": {
  "kernelspec": {
   "display_name": "Python 3",
   "language": "python",
   "name": "python3"
  },
  "language_info": {
   "codemirror_mode": {
    "name": "ipython",
    "version": 3
   },
   "file_extension": ".py",
   "mimetype": "text/x-python",
   "name": "python",
   "nbconvert_exporter": "python",
   "pygments_lexer": "ipython3",
   "version": "3.7.9"
  }
 },
 "nbformat": 4,
 "nbformat_minor": 5
}
