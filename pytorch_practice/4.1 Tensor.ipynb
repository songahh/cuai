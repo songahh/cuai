{
 "cells": [
  {
   "cell_type": "markdown",
   "id": "velvet-imperial",
   "metadata": {},
   "source": [
    "# 4.1 Tensor"
   ]
  },
  {
   "cell_type": "markdown",
   "id": "passing-memorial",
   "metadata": {},
   "source": [
    "## 4.1.1 Scalar\n",
    "- 흔히 아는 상숫값\n",
    "    - 하나의 값을 표현할 때 1개의 수치로 표현"
   ]
  },
  {
   "cell_type": "code",
   "execution_count": 1,
   "id": "resident-still",
   "metadata": {},
   "outputs": [
    {
     "name": "stdout",
     "output_type": "stream",
     "text": [
      "tensor([1.])\n"
     ]
    }
   ],
   "source": [
    "import torch\n",
    "\n",
    "scalar1 = torch.tensor([1.])\n",
    "print(scalar1)"
   ]
  },
  {
   "cell_type": "code",
   "execution_count": 8,
   "id": "aggregate-saint",
   "metadata": {},
   "outputs": [
    {
     "name": "stdout",
     "output_type": "stream",
     "text": [
      "tensor([3.])\n"
     ]
    }
   ],
   "source": [
    "scalar2 = torch.tensor([3.])\n",
    "print(scalar2)"
   ]
  },
  {
   "cell_type": "markdown",
   "id": "photographic-dividend",
   "metadata": {},
   "source": [
    "### 사칙연산: +, -, *, /"
   ]
  },
  {
   "cell_type": "code",
   "execution_count": 3,
   "id": "green-portal",
   "metadata": {},
   "outputs": [
    {
     "name": "stdout",
     "output_type": "stream",
     "text": [
      "tensor([4.])\n"
     ]
    }
   ],
   "source": [
    "add_scalar = scalar1 + scalar2\n",
    "print(add_scalar)"
   ]
  },
  {
   "cell_type": "code",
   "execution_count": 5,
   "id": "vocational-technique",
   "metadata": {},
   "outputs": [
    {
     "name": "stdout",
     "output_type": "stream",
     "text": [
      "tensor([-2.])\n"
     ]
    }
   ],
   "source": [
    "sub_scalar = scalar1 - scalar2\n",
    "print(sub_scalar)"
   ]
  },
  {
   "cell_type": "code",
   "execution_count": 6,
   "id": "starting-gothic",
   "metadata": {},
   "outputs": [
    {
     "name": "stdout",
     "output_type": "stream",
     "text": [
      "tensor([3.])\n"
     ]
    }
   ],
   "source": [
    "mul_scalar = scalar1 * scalar2\n",
    "print(mul_scalar)"
   ]
  },
  {
   "cell_type": "code",
   "execution_count": 7,
   "id": "outstanding-caribbean",
   "metadata": {},
   "outputs": [
    {
     "name": "stdout",
     "output_type": "stream",
     "text": [
      "tensor([0.3333])\n"
     ]
    }
   ],
   "source": [
    "div_scalar = scalar1 / scalar2\n",
    "print(div_scalar)"
   ]
  },
  {
   "cell_type": "markdown",
   "id": "looking-sound",
   "metadata": {},
   "source": [
    "### 사칙연산: .add, .sub, .mul, .div"
   ]
  },
  {
   "cell_type": "code",
   "execution_count": 9,
   "id": "detailed-sitting",
   "metadata": {},
   "outputs": [
    {
     "data": {
      "text/plain": [
       "tensor([4.])"
      ]
     },
     "execution_count": 9,
     "metadata": {},
     "output_type": "execute_result"
    }
   ],
   "source": [
    "torch.add(scalar1, scalar2)"
   ]
  },
  {
   "cell_type": "code",
   "execution_count": 10,
   "id": "according-accountability",
   "metadata": {},
   "outputs": [
    {
     "data": {
      "text/plain": [
       "tensor([-2.])"
      ]
     },
     "execution_count": 10,
     "metadata": {},
     "output_type": "execute_result"
    }
   ],
   "source": [
    "torch.sub(scalar1, scalar2)"
   ]
  },
  {
   "cell_type": "code",
   "execution_count": 11,
   "id": "latin-boxing",
   "metadata": {},
   "outputs": [
    {
     "data": {
      "text/plain": [
       "tensor([3.])"
      ]
     },
     "execution_count": 11,
     "metadata": {},
     "output_type": "execute_result"
    }
   ],
   "source": [
    "torch.mul(scalar1, scalar2)"
   ]
  },
  {
   "cell_type": "code",
   "execution_count": 13,
   "id": "former-problem",
   "metadata": {},
   "outputs": [
    {
     "data": {
      "text/plain": [
       "tensor([0.3333])"
      ]
     },
     "execution_count": 13,
     "metadata": {},
     "output_type": "execute_result"
    }
   ],
   "source": [
    "torch.div(scalar1, scalar2)"
   ]
  },
  {
   "cell_type": "markdown",
   "id": "broad-vegetable",
   "metadata": {},
   "source": [
    "## 4.1.2 Vector"
   ]
  },
  {
   "cell_type": "markdown",
   "id": "dressed-horizontal",
   "metadata": {},
   "source": [
    "- 2개 이상의 수치를 하나의 값으로 표현"
   ]
  },
  {
   "cell_type": "code",
   "execution_count": 14,
   "id": "christian-jumping",
   "metadata": {},
   "outputs": [
    {
     "name": "stdout",
     "output_type": "stream",
     "text": [
      "tensor([1., 2., 3.])\n"
     ]
    }
   ],
   "source": [
    "vector1 = torch.tensor([1., 2., 3.])\n",
    "print(vector1)"
   ]
  },
  {
   "cell_type": "code",
   "execution_count": 16,
   "id": "genetic-easter",
   "metadata": {},
   "outputs": [
    {
     "name": "stdout",
     "output_type": "stream",
     "text": [
      "tensor([4., 5., 6.])\n"
     ]
    }
   ],
   "source": [
    "vector2 = torch.tensor([4., 5., 6.])\n",
    "print(vector2)"
   ]
  },
  {
   "cell_type": "markdown",
   "id": "prerequisite-fossil",
   "metadata": {},
   "source": [
    "### 사칙연산: +, -, *, /"
   ]
  },
  {
   "cell_type": "code",
   "execution_count": 17,
   "id": "weird-communications",
   "metadata": {},
   "outputs": [
    {
     "name": "stdout",
     "output_type": "stream",
     "text": [
      "tensor([5., 7., 9.])\n"
     ]
    }
   ],
   "source": [
    "add_vector = vector1 + vector2\n",
    "print(add_vector)"
   ]
  },
  {
   "cell_type": "code",
   "execution_count": 18,
   "id": "critical-museum",
   "metadata": {},
   "outputs": [
    {
     "name": "stdout",
     "output_type": "stream",
     "text": [
      "tensor([-3., -3., -3.])\n"
     ]
    }
   ],
   "source": [
    "sub_vector = vector1 - vector2\n",
    "print(sub_vector)"
   ]
  },
  {
   "cell_type": "code",
   "execution_count": 19,
   "id": "traditional-webster",
   "metadata": {},
   "outputs": [
    {
     "name": "stdout",
     "output_type": "stream",
     "text": [
      "tensor([ 4., 10., 18.])\n"
     ]
    }
   ],
   "source": [
    "mul_vector = vector1 * vector2\n",
    "print(mul_vector)"
   ]
  },
  {
   "cell_type": "code",
   "execution_count": 20,
   "id": "aerial-welsh",
   "metadata": {},
   "outputs": [
    {
     "name": "stdout",
     "output_type": "stream",
     "text": [
      "tensor([0.2500, 0.4000, 0.5000])\n"
     ]
    }
   ],
   "source": [
    "div_vector = vector1 / vector2\n",
    "print(div_vector)"
   ]
  },
  {
   "cell_type": "markdown",
   "id": "pointed-attention",
   "metadata": {},
   "source": [
    "### 사칙연산: .add, .sub, .mul, .div"
   ]
  },
  {
   "cell_type": "code",
   "execution_count": 21,
   "id": "informative-capability",
   "metadata": {},
   "outputs": [
    {
     "data": {
      "text/plain": [
       "tensor([5., 7., 9.])"
      ]
     },
     "execution_count": 21,
     "metadata": {},
     "output_type": "execute_result"
    }
   ],
   "source": [
    "torch.add(vector1, vector2)"
   ]
  },
  {
   "cell_type": "code",
   "execution_count": 22,
   "id": "joined-excerpt",
   "metadata": {},
   "outputs": [
    {
     "data": {
      "text/plain": [
       "tensor([-3., -3., -3.])"
      ]
     },
     "execution_count": 22,
     "metadata": {},
     "output_type": "execute_result"
    }
   ],
   "source": [
    "torch.sub(vector1, vector2)"
   ]
  },
  {
   "cell_type": "code",
   "execution_count": 23,
   "id": "smoking-delhi",
   "metadata": {},
   "outputs": [
    {
     "data": {
      "text/plain": [
       "tensor([ 4., 10., 18.])"
      ]
     },
     "execution_count": 23,
     "metadata": {},
     "output_type": "execute_result"
    }
   ],
   "source": [
    "torch.mul(vector1, vector2)"
   ]
  },
  {
   "cell_type": "code",
   "execution_count": 25,
   "id": "established-cookbook",
   "metadata": {},
   "outputs": [
    {
     "data": {
      "text/plain": [
       "tensor([0.2500, 0.4000, 0.5000])"
      ]
     },
     "execution_count": 25,
     "metadata": {},
     "output_type": "execute_result"
    }
   ],
   "source": [
    "torch.div(vector1, vector2)\n",
    "# 1 2 3\n",
    "# 4 5 6"
   ]
  },
  {
   "cell_type": "markdown",
   "id": "disciplinary-distinction",
   "metadata": {},
   "source": [
    "## 4.1.3 Matrix "
   ]
  },
  {
   "cell_type": "code",
   "execution_count": 26,
   "id": "accompanied-navigation",
   "metadata": {},
   "outputs": [
    {
     "name": "stdout",
     "output_type": "stream",
     "text": [
      "tensor([[1., 2.],\n",
      "        [3., 4.]])\n"
     ]
    }
   ],
   "source": [
    "matrix1 = torch.tensor([[1., 2.],\n",
    "                        [3., 4,]\n",
    "                       ])\n",
    "print(matrix1)"
   ]
  },
  {
   "cell_type": "code",
   "execution_count": 28,
   "id": "declared-marijuana",
   "metadata": {},
   "outputs": [
    {
     "name": "stdout",
     "output_type": "stream",
     "text": [
      "tensor([[5., 6.],\n",
      "        [7., 8.]])\n"
     ]
    }
   ],
   "source": [
    "matrix2 = torch.tensor([[5., 6.],\n",
    "                        [7., 8,]\n",
    "                       ])\n",
    "print(matrix2)"
   ]
  },
  {
   "cell_type": "markdown",
   "id": "acceptable-giving",
   "metadata": {},
   "source": [
    "### 사칙연산: +, -, *, /"
   ]
  },
  {
   "cell_type": "code",
   "execution_count": 29,
   "id": "yellow-flood",
   "metadata": {},
   "outputs": [
    {
     "name": "stdout",
     "output_type": "stream",
     "text": [
      "tensor([[ 6.,  8.],\n",
      "        [10., 12.]])\n"
     ]
    }
   ],
   "source": [
    "sum_matrix = matrix1 + matrix2\n",
    "print(sum_matrix)"
   ]
  },
  {
   "cell_type": "code",
   "execution_count": 30,
   "id": "natural-vaccine",
   "metadata": {},
   "outputs": [
    {
     "name": "stdout",
     "output_type": "stream",
     "text": [
      "tensor([[-4., -4.],\n",
      "        [-4., -4.]])\n"
     ]
    }
   ],
   "source": [
    "sub_matrix = matrix1 - matrix2\n",
    "print(sub_matrix)"
   ]
  },
  {
   "cell_type": "code",
   "execution_count": 32,
   "id": "victorian-vienna",
   "metadata": {},
   "outputs": [
    {
     "name": "stdout",
     "output_type": "stream",
     "text": [
      "tensor([[ 5., 12.],\n",
      "        [21., 32.]])\n"
     ]
    }
   ],
   "source": [
    "# element-wise multiplication\n",
    "mul_matrix = matrix1 * matrix2\n",
    "print(mul_matrix)"
   ]
  },
  {
   "cell_type": "code",
   "execution_count": 33,
   "id": "mexican-finding",
   "metadata": {},
   "outputs": [
    {
     "name": "stdout",
     "output_type": "stream",
     "text": [
      "tensor([[0.2000, 0.3333],\n",
      "        [0.4286, 0.5000]])\n"
     ]
    }
   ],
   "source": [
    "div_matrix = matrix1 / matrix2\n",
    "print(div_matrix)"
   ]
  },
  {
   "cell_type": "markdown",
   "id": "speaking-mechanism",
   "metadata": {},
   "source": [
    "### 사칙연산: .add, .sub, .mul, .div"
   ]
  },
  {
   "cell_type": "code",
   "execution_count": 34,
   "id": "funny-fruit",
   "metadata": {},
   "outputs": [
    {
     "data": {
      "text/plain": [
       "tensor([[ 6.,  8.],\n",
       "        [10., 12.]])"
      ]
     },
     "execution_count": 34,
     "metadata": {},
     "output_type": "execute_result"
    }
   ],
   "source": [
    "torch.add(matrix1, matrix2)"
   ]
  },
  {
   "cell_type": "code",
   "execution_count": 35,
   "id": "sensitive-highlight",
   "metadata": {},
   "outputs": [
    {
     "data": {
      "text/plain": [
       "tensor([[-4., -4.],\n",
       "        [-4., -4.]])"
      ]
     },
     "execution_count": 35,
     "metadata": {},
     "output_type": "execute_result"
    }
   ],
   "source": [
    "torch.sub(matrix1, matrix2)"
   ]
  },
  {
   "cell_type": "code",
   "execution_count": 36,
   "id": "valuable-stylus",
   "metadata": {},
   "outputs": [
    {
     "data": {
      "text/plain": [
       "tensor([[ 5., 12.],\n",
       "        [21., 32.]])"
      ]
     },
     "execution_count": 36,
     "metadata": {},
     "output_type": "execute_result"
    }
   ],
   "source": [
    "torch.mul(matrix1, matrix2)"
   ]
  },
  {
   "cell_type": "code",
   "execution_count": 37,
   "id": "institutional-shaft",
   "metadata": {},
   "outputs": [
    {
     "data": {
      "text/plain": [
       "tensor([[0.2000, 0.3333],\n",
       "        [0.4286, 0.5000]])"
      ]
     },
     "execution_count": 37,
     "metadata": {},
     "output_type": "execute_result"
    }
   ],
   "source": [
    "torch.div(matrix1, matrix2)"
   ]
  },
  {
   "cell_type": "markdown",
   "id": "earned-addition",
   "metadata": {},
   "source": [
    "### 내적: .matmul"
   ]
  },
  {
   "cell_type": "code",
   "execution_count": 44,
   "id": "dominant-strip",
   "metadata": {},
   "outputs": [
    {
     "data": {
      "text/plain": [
       "tensor([[19., 22.],\n",
       "        [43., 50.]])"
      ]
     },
     "execution_count": 44,
     "metadata": {},
     "output_type": "execute_result"
    }
   ],
   "source": [
    "torch.matmul(matrix1, matrix2)"
   ]
  },
  {
   "cell_type": "markdown",
   "id": "elementary-snapshot",
   "metadata": {},
   "source": [
    "## 4.1.4 tensor"
   ]
  },
  {
   "cell_type": "markdown",
   "id": "incorrect-yorkshire",
   "metadata": {},
   "source": [
    "- 행렬: 2차원 배열\n",
    "- 텐서: 2차원 이상의 배열"
   ]
  },
  {
   "cell_type": "code",
   "execution_count": 38,
   "id": "lyric-condition",
   "metadata": {},
   "outputs": [
    {
     "name": "stdout",
     "output_type": "stream",
     "text": [
      "tensor([[[1., 2.],\n",
      "         [3., 4.]],\n",
      "\n",
      "        [[5., 6.],\n",
      "         [7., 8.]]])\n"
     ]
    }
   ],
   "source": [
    "tensor1 = torch.tensor([\n",
    "    [[1., 2.], [3., 4,]],\n",
    "    [[5., 6.], [7., 8.]]\n",
    "])\n",
    "print(tensor1)"
   ]
  },
  {
   "cell_type": "code",
   "execution_count": 39,
   "id": "prescribed-saturday",
   "metadata": {},
   "outputs": [
    {
     "name": "stdout",
     "output_type": "stream",
     "text": [
      "tensor([[[ 9., 10.],\n",
      "         [11., 12.]],\n",
      "\n",
      "        [[13., 14.],\n",
      "         [15., 16.]]])\n"
     ]
    }
   ],
   "source": [
    "tensor2 = torch.tensor([\n",
    "    [[9., 10.], [11., 12,]],\n",
    "    [[13., 14.], [15., 16.]]\n",
    "])\n",
    "print(tensor2)"
   ]
  },
  {
   "cell_type": "code",
   "execution_count": 40,
   "id": "center-birth",
   "metadata": {},
   "outputs": [
    {
     "name": "stdout",
     "output_type": "stream",
     "text": [
      "tensor([[[10., 12.],\n",
      "         [14., 16.]],\n",
      "\n",
      "        [[18., 20.],\n",
      "         [22., 24.]]])\n"
     ]
    }
   ],
   "source": [
    "sum_tensor = tensor1 + tensor2\n",
    "print(sum_tensor)"
   ]
  },
  {
   "cell_type": "code",
   "execution_count": 41,
   "id": "solved-lafayette",
   "metadata": {},
   "outputs": [
    {
     "name": "stdout",
     "output_type": "stream",
     "text": [
      "tensor([[[-8., -8.],\n",
      "         [-8., -8.]],\n",
      "\n",
      "        [[-8., -8.],\n",
      "         [-8., -8.]]])\n"
     ]
    }
   ],
   "source": [
    "sub_tensor = tensor1 - tensor2\n",
    "print(sub_tensor)"
   ]
  },
  {
   "cell_type": "code",
   "execution_count": 42,
   "id": "executive-huntington",
   "metadata": {},
   "outputs": [
    {
     "name": "stdout",
     "output_type": "stream",
     "text": [
      "tensor([[[  9.,  20.],\n",
      "         [ 33.,  48.]],\n",
      "\n",
      "        [[ 65.,  84.],\n",
      "         [105., 128.]]])\n"
     ]
    }
   ],
   "source": [
    "mul_tensor = tensor1 * tensor2\n",
    "print(mul_tensor)"
   ]
  },
  {
   "cell_type": "code",
   "execution_count": 43,
   "id": "assigned-stage",
   "metadata": {},
   "outputs": [
    {
     "name": "stdout",
     "output_type": "stream",
     "text": [
      "tensor([[[0.1111, 0.2000],\n",
      "         [0.2727, 0.3333]],\n",
      "\n",
      "        [[0.3846, 0.4286],\n",
      "         [0.4667, 0.5000]]])\n"
     ]
    }
   ],
   "source": [
    "div_tensor = tensor1 / tensor2\n",
    "print(div_tensor)"
   ]
  },
  {
   "cell_type": "markdown",
   "id": "bored-seattle",
   "metadata": {},
   "source": [
    "### 사칙연산: .add, .sub, .mul, .div"
   ]
  },
  {
   "cell_type": "code",
   "execution_count": 47,
   "id": "incomplete-carnival",
   "metadata": {},
   "outputs": [
    {
     "data": {
      "text/plain": [
       "tensor([[[10., 12.],\n",
       "         [14., 16.]],\n",
       "\n",
       "        [[18., 20.],\n",
       "         [22., 24.]]])"
      ]
     },
     "execution_count": 47,
     "metadata": {},
     "output_type": "execute_result"
    }
   ],
   "source": [
    "torch.add(tensor1, tensor2)"
   ]
  },
  {
   "cell_type": "code",
   "execution_count": 48,
   "id": "parliamentary-conducting",
   "metadata": {},
   "outputs": [
    {
     "data": {
      "text/plain": [
       "tensor([[[-8., -8.],\n",
       "         [-8., -8.]],\n",
       "\n",
       "        [[-8., -8.],\n",
       "         [-8., -8.]]])"
      ]
     },
     "execution_count": 48,
     "metadata": {},
     "output_type": "execute_result"
    }
   ],
   "source": [
    "torch.sub(tensor1, tensor2)"
   ]
  },
  {
   "cell_type": "code",
   "execution_count": 49,
   "id": "anticipated-extraction",
   "metadata": {},
   "outputs": [
    {
     "data": {
      "text/plain": [
       "tensor([[[0.1111, 0.2000],\n",
       "         [0.2727, 0.3333]],\n",
       "\n",
       "        [[0.3846, 0.4286],\n",
       "         [0.4667, 0.5000]]])"
      ]
     },
     "execution_count": 49,
     "metadata": {},
     "output_type": "execute_result"
    }
   ],
   "source": [
    "torch.div(tensor1, tensor2)"
   ]
  },
  {
   "cell_type": "code",
   "execution_count": 50,
   "id": "chief-bermuda",
   "metadata": {},
   "outputs": [
    {
     "data": {
      "text/plain": [
       "tensor([[[  9.,  20.],\n",
       "         [ 33.,  48.]],\n",
       "\n",
       "        [[ 65.,  84.],\n",
       "         [105., 128.]]])"
      ]
     },
     "execution_count": 50,
     "metadata": {},
     "output_type": "execute_result"
    }
   ],
   "source": [
    "torch.mul(tensor1, tensor2)"
   ]
  },
  {
   "cell_type": "markdown",
   "id": "hungry-diamond",
   "metadata": {},
   "source": [
    "### 내적: .matmul"
   ]
  },
  {
   "cell_type": "code",
   "execution_count": 51,
   "id": "bigger-wallace",
   "metadata": {},
   "outputs": [
    {
     "data": {
      "text/plain": [
       "tensor([[[ 31.,  34.],\n",
       "         [ 71.,  78.]],\n",
       "\n",
       "        [[155., 166.],\n",
       "         [211., 226.]]])"
      ]
     },
     "execution_count": 51,
     "metadata": {},
     "output_type": "execute_result"
    }
   ],
   "source": [
    "torch.matmul(tensor1, tensor2)"
   ]
  }
 ],
 "metadata": {
  "kernelspec": {
   "display_name": "songah",
   "language": "python",
   "name": "songah"
  },
  "language_info": {
   "codemirror_mode": {
    "name": "ipython",
    "version": 3
   },
   "file_extension": ".py",
   "mimetype": "text/x-python",
   "name": "python",
   "nbconvert_exporter": "python",
   "pygments_lexer": "ipython3",
   "version": "3.8.0"
  }
 },
 "nbformat": 4,
 "nbformat_minor": 5
}
