{
 "cells": [
  {
   "cell_type": "markdown",
   "id": "statistical-typing",
   "metadata": {},
   "source": [
    "# MINST를 이용한 Multi Layer Perceptron(MLP)"
   ]
  },
  {
   "cell_type": "markdown",
   "id": "african-burning",
   "metadata": {},
   "source": [
    "## 1. Module Import"
   ]
  },
  {
   "cell_type": "code",
   "execution_count": 1,
   "id": "general-remove",
   "metadata": {},
   "outputs": [],
   "source": [
    "import numpy as np\n",
    "import matplotlib.pyplot as plt\n",
    "import torch\n",
    "import torch.nn as nn\n",
    "import torch.nn.functional as F\n",
    "from torchvision import transforms, datasets\n",
    "import torch.nn.init as init"
   ]
  },
  {
   "cell_type": "markdown",
   "id": "impressive-legislature",
   "metadata": {},
   "source": [
    "## 2. 딥러닝 모델을 설계할 때 활용하는 장비 확인"
   ]
  },
  {
   "cell_type": "code",
   "execution_count": 2,
   "id": "seven-ribbon",
   "metadata": {},
   "outputs": [
    {
     "name": "stdout",
     "output_type": "stream",
     "text": [
      "Using PyTorch Version: 1.7.1, Device: cuda\n"
     ]
    }
   ],
   "source": [
    "if torch.cuda.is_available():\n",
    "    DEVICE = torch.device('cuda')\n",
    "else:\n",
    "    DEVICE = torch.device('cpu')\n",
    "    \n",
    "print(f\"Using PyTorch Version: {torch.__version__}, Device: {DEVICE}\")"
   ]
  },
  {
   "cell_type": "markdown",
   "id": "first-dragon",
   "metadata": {},
   "source": [
    "## 3. MINST 데이터 다운로드 (Train set, Test set 분리하기)"
   ]
  },
  {
   "cell_type": "code",
   "execution_count": 3,
   "id": "clean-thriller",
   "metadata": {},
   "outputs": [],
   "source": [
    "# Hyperparameter 설정\n",
    "BATCH_SIZE = 32\n",
    "EPOCHS = 30\n",
    "\n",
    "## Example\n",
    "## 전체 데이터: 700개, mini-batch size: 100개\n",
    "## Iteration: 7\n",
    "## 700개를 다 돌 때마다 +1 epochs"
   ]
  },
  {
   "cell_type": "code",
   "execution_count": 4,
   "id": "viral-coffee",
   "metadata": {},
   "outputs": [],
   "source": [
    "train_dataset = datasets.MNIST(root = \"../data/MNIST\",\n",
    "                               train = True,    # True: 학습용 데이터 or False: 검증용 데이터\n",
    "                               download = True, # 해당 데이터를 인터넷상에서 다운로드해 이용할 것인가\n",
    "                               transform = transforms.ToTensor()) # 전처리, 이미지를 tensor 형태로 변경\n",
    "                                                                  # 픽셀이 0-255 범위의 스칼라로 구성되어 있는데, 0-1 범위로 정규화\n",
    "    \n",
    "test_dataset = datasets.MNIST(root = \"../data/MNIST\",\n",
    "                           train = False,\n",
    "                           transform = transforms.ToTensor())"
   ]
  },
  {
   "cell_type": "code",
   "execution_count": 5,
   "id": "geographic-earth",
   "metadata": {},
   "outputs": [],
   "source": [
    "# Mini-batch 단위로 분리해 train_data, test_data 지정\n",
    "train_loader = torch.utils.data.DataLoader(dataset = train_dataset,\n",
    "                                           batch_size = BATCH_SIZE,\n",
    "                                           shuffle = True) # MLP 모델이 학습을 진행할 때 label의 순서를 암기해 학습을 진행할 수 있음\n",
    "\n",
    "test_loader = torch.utils.data.DataLoader(dataset = test_dataset,\n",
    "                                          batch_size = BATCH_SIZE,\n",
    "                                          shuffle = False)"
   ]
  },
  {
   "cell_type": "markdown",
   "id": "transparent-elevation",
   "metadata": {},
   "source": [
    "#### 데이터 확인하기"
   ]
  },
  {
   "cell_type": "code",
   "execution_count": 6,
   "id": "reverse-alert",
   "metadata": {},
   "outputs": [
    {
     "name": "stdout",
     "output_type": "stream",
     "text": [
      "X_train:torch.Size([32, 1, 28, 28]), type: torch.FloatTensor\n",
      "y_train:torch.Size([32]), type: torch.LongTensor\n"
     ]
    }
   ],
   "source": [
    "for (X_train, y_train) in train_loader:\n",
    "    print(f'X_train:{X_train.size()}, type: {X_train.type()}')\n",
    "    print(f'y_train:{y_train.size()}, type: {y_train.type()}')\n",
    "    break"
   ]
  },
  {
   "cell_type": "markdown",
   "id": "perfect-activation",
   "metadata": {},
   "source": [
    "X_train\n",
    "- 32개의 image data가 1개의 mini-batch를 구성\n",
    "- 28 x 28 x 1 pixel로 구성되어 있음 (흑백 이미지)\n",
    "\n",
    "y_train\n",
    "- 32개의 image data 각각에 label 값이 1 씩 존재하기 때문에 32개의 값을 가지고 있음"
   ]
  },
  {
   "cell_type": "code",
   "execution_count": 7,
   "id": "musical-minister",
   "metadata": {},
   "outputs": [
    {
     "data": {
      "image/png": "[encoded data removed]",
      "text/plain": [
       "<Figure size 720x72 with 10 Axes>"
      ]
     },
     "metadata": {
      "needs_background": "light"
     },
     "output_type": "display_data"
    }
   ],
   "source": [
    "pltsize = 1\n",
    "plt.figure(figsize = (10 * pltsize, pltsize))\n",
    "for i in range(10):\n",
    "    plt.subplot(1, 10, i+1)\n",
    "    plt.axis('off')\n",
    "    plt.imshow(X_train[i,:,:,:].numpy().reshape(28, 28), cmap=\"gray_r\")\n",
    "    plt.title(\"Class: \" + str(y_train[i].item()))"
   ]
  },
  {
   "cell_type": "markdown",
   "id": "acquired-costa",
   "metadata": {},
   "source": [
    "## 4. MLP 모델 설계하기\n",
    "- Dropout 추가\n",
    "- activation functino; ReLU 사용"
   ]
  },
  {
   "cell_type": "code",
   "execution_count": 8,
   "id": "significant-teach",
   "metadata": {},
   "outputs": [],
   "source": [
    "# nn.Module: 딥러닝 모델 관련 기본 함수를 포함하고 있는 nn.Module 클래스를 상속받는 Net 클래스 정의\n",
    "class Net(nn.Module): \n",
    "    def __init__(self):\n",
    "        super(Net, self).__init__()\n",
    "        \n",
    "        # nn.Linear(): output으로 계산되는 vector의 차원 수의 역수 값에 대한 +, - 범위 내 uniform distribution을 설정해 샘플링함\n",
    "        self.fc1 = nn.Linear(28*28, 512)\n",
    "        self.fc2 = nn.Linear(512, 256)\n",
    "        self.fc3 = nn.Linear(256, 10)\n",
    "        self.dropout_prob = 0.5\n",
    "        self.batch_norm1 = nn.BatchNorm1d(512)\n",
    "        self.batch_norm2 = nn.BatchNorm1d(256)\n",
    "    \n",
    "    def forward(self, x):\n",
    "        x = x.view(-1, 28*28) #.view(flatten): n차원의 data를 1차원으로 표현 (28x28 → 784)\n",
    "        \n",
    "        # hidden layer\n",
    "        x = self.fc1(x)\n",
    "        x = self.batch_norm1(x)\n",
    "        x = F.relu(x)\n",
    "        # training=self.training: 학습→dropout 진행 / 테스트 → 모든 노드를 다 사용해야함\n",
    "        x = F.dropout(x, training = self.training, p = self.dropout_prob)\n",
    "        x = self.fc2(x)\n",
    "        x = self.batch_norm2(x)\n",
    "        x = F.relu(x)\n",
    "        x = F.dropout(x, training = self.training, p = self.dropout_prob)\n",
    "        x = self.fc3(x)\n",
    "        \n",
    "        # softmax: 확률 계산\n",
    "        # log_softmax(): log를 붙이면 미분이 쉬워짐 → Backpropagation 과정이 편해짐\n",
    "        x = F.log_softmax(x, dim=1)\n",
    "        \n",
    "        return x"
   ]
  },
  {
   "cell_type": "markdown",
   "id": "overhead-malta",
   "metadata": {},
   "source": [
    "## 5. Initialization Optimizer, Objective Function 설정\n",
    "- 초기화: He Initialization 사용\n",
    "- 최적화: Adam 사용\n",
    "- loss: Cross Entropy Loss"
   ]
  },
  {
   "cell_type": "code",
   "execution_count": 9,
   "id": "hazardous-letter",
   "metadata": {},
   "outputs": [],
   "source": [
    "def weight_init(model):\n",
    "    if isinstance(model, nn.Linear):\n",
    "        init.kaiming_uniform_(model.weight.data) # He initializaiton"
   ]
  },
  {
   "cell_type": "code",
   "execution_count": 10,
   "id": "excess-entrance",
   "metadata": {},
   "outputs": [],
   "source": [
    "model = Net().to(DEVICE) # 만든 모델을 DEVICE에 할당함\n",
    "model.apply(weight_init)\n",
    "#optimizer = torch.optim.SGD(model.parameters(), lr=0.01, momentum=0.5) # SGD이용\n",
    "optimizer = torch.optim.Adam(model.parameters(), lr=0.01)\n",
    "criterion = nn.CrossEntropyLoss() # model의 ouput값과 class를 표현하는 one-hot encoding 값을 계산하기 위함"
   ]
  },
  {
   "cell_type": "code",
   "execution_count": 11,
   "id": "cultural-extent",
   "metadata": {},
   "outputs": [
    {
     "name": "stdout",
     "output_type": "stream",
     "text": [
      "Net(\n",
      "  (fc1): Linear(in_features=784, out_features=512, bias=True)\n",
      "  (fc2): Linear(in_features=512, out_features=256, bias=True)\n",
      "  (fc3): Linear(in_features=256, out_features=10, bias=True)\n",
      "  (batch_norm1): BatchNorm1d(512, eps=1e-05, momentum=0.1, affine=True, track_running_stats=True)\n",
      "  (batch_norm2): BatchNorm1d(256, eps=1e-05, momentum=0.1, affine=True, track_running_stats=True)\n",
      ")\n"
     ]
    }
   ],
   "source": [
    "print(model)"
   ]
  },
  {
   "cell_type": "markdown",
   "id": "confidential-cornell",
   "metadata": {},
   "source": [
    "## 6. Train & Evaluate function 설정"
   ]
  },
  {
   "cell_type": "code",
   "execution_count": 12,
   "id": "collective-toner",
   "metadata": {},
   "outputs": [],
   "source": [
    "def train(model, train_loader, optimizer, log_interval):\n",
    "    model.train() # 모델을 학습 상태로 지정\n",
    "    for batch_idx, (image, label) in enumerate(train_loader):\n",
    "        \n",
    "        # X, y를 DEVICE에 할당\n",
    "        image = image.to(DEVICE)\n",
    "        label = label.to(DEVICE)\n",
    "        \n",
    "        # 과거에 이용한 mini-batch 내에 있는 loss의 gradient 값이 optimizer에 할당되어 있음 → 초기화\n",
    "        optimizer.zero_grad()\n",
    "        \n",
    "        # forward pass\n",
    "        output = model(image)\n",
    "        \n",
    "        # loss 계산\n",
    "        loss = criterion(output, label)\n",
    "        \n",
    "        # backward pass\n",
    "        loss.backward()\n",
    "        \n",
    "        # 각 parameter에 할당된 gradient 값을 이용해 parameter 업데이트\n",
    "        optimizer.step()\n",
    "        \n",
    "        # 상황 출력\n",
    "        #if batch_idx % log_interval == 0:\n",
    "            #print(f'Train Epoch: {Epoch}, [{batch_idx*len(image)}/{len(train_loader.dataset)}({100.*batch_idx/len(train_loader):.0f}%)]\\tTrain Loss: {loss.item():.6f}')"
   ]
  },
  {
   "cell_type": "code",
   "execution_count": 13,
   "id": "certain-shell",
   "metadata": {},
   "outputs": [],
   "source": [
    "# 모델 성능 평가\n",
    "def evaluate(model, test_loader):\n",
    "    model.eval() # 모델을 평가 상태로 지정\n",
    "    test_loss = 0 \n",
    "    correct = 0  # correct: 모델이 올바른 class로 분류한 경우를 세기 위함\n",
    "    \n",
    "    with torch.no_grad():\n",
    "        for image, label in test_loader:\n",
    "            image = image.to(DEVICE)\n",
    "            label = label.to(DEVICE)\n",
    "            \n",
    "            output = model(image)\n",
    "            \n",
    "            test_loss += criterion(output, label).item()\n",
    "            \n",
    "            # output: 크기가 10인 vector\n",
    "            # 계산된 vector 내 가장 큰 값인 위치에 대해 해당 위치에 대응되는 클래스로 예측했다고 판단함\n",
    "            prediction = output.max(1, keepdim = True)[1] \n",
    "            \n",
    "            # 모델이 예측한 클래스 == 실제 label이 의미하는 클래스: correct += 1\n",
    "            # A.view_as(B): A의 shape을 B의 shape으로 바꿔줌\n",
    "            correct += prediction.eq(label.view_as(prediction)).sum().item()\n",
    "            \n",
    "    test_loss /= len(test_loader.dataset) # test_loss: 평균값 사용\n",
    "    test_accuracy = 100. * correct / len(test_loader.dataset) # accuracy: test_loader 데이터 중 얼마나 맞췄는지 계산\n",
    "    \n",
    "    return test_loss, test_accuracy"
   ]
  },
  {
   "cell_type": "markdown",
   "id": "knowing-cornell",
   "metadata": {},
   "source": [
    "## 7. 학습, 예측 해보기"
   ]
  },
  {
   "cell_type": "code",
   "execution_count": 14,
   "id": "varied-floor",
   "metadata": {
    "scrolled": true
   },
   "outputs": [
    {
     "name": "stdout",
     "output_type": "stream",
     "text": [
      "\n",
      "[EPOCH: 1],\tTest Loss:0.0041,\tAccuracy:95.91\n",
      "\n",
      "[EPOCH: 2],\tTest Loss:0.0033,\tAccuracy:96.47\n",
      "\n",
      "[EPOCH: 3],\tTest Loss:0.0027,\tAccuracy:97.41\n",
      "\n",
      "[EPOCH: 4],\tTest Loss:0.0025,\tAccuracy:97.51\n",
      "\n",
      "[EPOCH: 5],\tTest Loss:0.0025,\tAccuracy:97.50\n",
      "\n",
      "[EPOCH: 6],\tTest Loss:0.0025,\tAccuracy:97.35\n",
      "\n",
      "[EPOCH: 7],\tTest Loss:0.0023,\tAccuracy:97.74\n",
      "\n",
      "[EPOCH: 8],\tTest Loss:0.0024,\tAccuracy:97.76\n",
      "\n",
      "[EPOCH: 9],\tTest Loss:0.0023,\tAccuracy:97.80\n",
      "\n",
      "[EPOCH: 10],\tTest Loss:0.0022,\tAccuracy:97.93\n",
      "\n",
      "[EPOCH: 11],\tTest Loss:0.0020,\tAccuracy:97.98\n",
      "\n",
      "[EPOCH: 12],\tTest Loss:0.0022,\tAccuracy:97.96\n",
      "\n",
      "[EPOCH: 13],\tTest Loss:0.0021,\tAccuracy:97.95\n",
      "\n",
      "[EPOCH: 14],\tTest Loss:0.0020,\tAccuracy:98.07\n",
      "\n",
      "[EPOCH: 15],\tTest Loss:0.0019,\tAccuracy:98.13\n",
      "\n",
      "[EPOCH: 16],\tTest Loss:0.0019,\tAccuracy:98.10\n",
      "\n",
      "[EPOCH: 17],\tTest Loss:0.0021,\tAccuracy:98.16\n",
      "\n",
      "[EPOCH: 18],\tTest Loss:0.0018,\tAccuracy:98.31\n",
      "\n",
      "[EPOCH: 19],\tTest Loss:0.0020,\tAccuracy:98.15\n",
      "\n",
      "[EPOCH: 20],\tTest Loss:0.0019,\tAccuracy:98.21\n",
      "\n",
      "[EPOCH: 21],\tTest Loss:0.0018,\tAccuracy:98.39\n",
      "\n",
      "[EPOCH: 22],\tTest Loss:0.0020,\tAccuracy:98.28\n",
      "\n",
      "[EPOCH: 23],\tTest Loss:0.0021,\tAccuracy:98.03\n",
      "\n",
      "[EPOCH: 24],\tTest Loss:0.0020,\tAccuracy:98.29\n",
      "\n",
      "[EPOCH: 25],\tTest Loss:0.0019,\tAccuracy:98.27\n",
      "\n",
      "[EPOCH: 26],\tTest Loss:0.0020,\tAccuracy:98.24\n",
      "\n",
      "[EPOCH: 27],\tTest Loss:0.0018,\tAccuracy:98.37\n",
      "\n",
      "[EPOCH: 28],\tTest Loss:0.0019,\tAccuracy:98.29\n",
      "\n",
      "[EPOCH: 29],\tTest Loss:0.0019,\tAccuracy:98.33\n",
      "\n",
      "[EPOCH: 30],\tTest Loss:0.0018,\tAccuracy:98.38\n"
     ]
    }
   ],
   "source": [
    "for Epoch in range(1, EPOCHS + 1):\n",
    "    train(model, train_loader, optimizer, log_interval = 200)\n",
    "    test_loss, test_accuracy = evaluate(model, test_loader)\n",
    "    print(f'\\n[EPOCH: {Epoch}],\\tTest Loss:{test_loss:.4f},\\tAccuracy:{test_accuracy:.2f}')"
   ]
  }
 ],
 "metadata": {
  "kernelspec": {
   "display_name": "songah",
   "language": "python",
   "name": "songah"
  },
  "language_info": {
   "codemirror_mode": {
    "name": "ipython",
    "version": 3
   },
   "file_extension": ".py",
   "mimetype": "text/x-python",
   "name": "python",
   "nbconvert_exporter": "python",
   "pygments_lexer": "ipython3",
   "version": "3.8.0"
  }
 },
 "nbformat": 4,
 "nbformat_minor": 5
}
