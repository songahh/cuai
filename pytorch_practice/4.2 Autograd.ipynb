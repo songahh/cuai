{
 "cells": [
  {
   "cell_type": "markdown",
   "id": "critical-details",
   "metadata": {},
   "source": [
    "# 4.2 Autograd"
   ]
  },
  {
   "cell_type": "markdown",
   "id": "eight-manitoba",
   "metadata": {},
   "source": [
    "- Back Propagation 방식: Autograd로 설정되어 있음"
   ]
  },
  {
   "cell_type": "code",
   "execution_count": 1,
   "id": "unauthorized-potential",
   "metadata": {},
   "outputs": [
    {
     "name": "stdout",
     "output_type": "stream",
     "text": [
      "cuda\n"
     ]
    }
   ],
   "source": [
    "import torch\n",
    "\n",
    "## torch.cuda.is_available()\n",
    "## 현재 실행되고 있는 환경에서\n",
    "## torch module를 이용할 때 GPU를 이용할 수 있는지 파악\n",
    "if torch.cuda.is_available():\n",
    "    DEVICE = torch.device('cuda')\n",
    "else:\n",
    "    DEVICE = torch.device('cpu')\n",
    "\n",
    "print(DEVICE)"
   ]
  },
  {
   "cell_type": "markdown",
   "id": "common-special",
   "metadata": {},
   "source": [
    "## 4.2.1 Input, Ouput, Weight 설정"
   ]
  },
  {
   "cell_type": "code",
   "execution_count": 2,
   "id": "unavailable-authorization",
   "metadata": {},
   "outputs": [],
   "source": [
    "BATCH_SIZE = 64    # model에서 parameter를 업데이트할 때 계산되는 데이터의 개수\n",
    "INPUT_SIZE = 1000  # Input의 크기이자 입력층의 노드 개수\n",
    "HIDDEN_SIZE = 100  # Input layer에서 hidden layer로 전달되었을 때 hidden layer의 node 수\n",
    "OUTPUT_SIZE = 10   # 최종 출력 벡터의 크기, 보통 최종으로 비교하고자 하는 label의 크기와 동일하게 설정됨"
   ]
  },
  {
   "cell_type": "markdown",
   "id": "ordered-postcard",
   "metadata": {},
   "source": [
    "#### input (x) → hidden layer1 (w1 \\* x) → hidden layer2 (w2 \\* (w1 \\* x)) → output (y)"
   ]
  },
  {
   "cell_type": "code",
   "execution_count": 3,
   "id": "atmospheric-tracy",
   "metadata": {},
   "outputs": [],
   "source": [
    "## torch.randn()\n",
    "## Input x\n",
    "## 평균:0, 표준편차가 1인 정규분포에서 샘플링한 값으로 데이터를 만듦\n",
    "## BATCH_SIZE, INPUT_SIZE: 크기가 INPUT_SIZE인 벡터를 BATCH_SIZE만큼 생성\n",
    "## device: 미리 설정한 DEVICE 이용\n",
    "## float: 데이터 형태\n",
    "## requires_grad = False: Input으로 이용되기 때문에 Gradient를 계산할 필요가 없음\n",
    "x = torch.randn(BATCH_SIZE,\n",
    "                INPUT_SIZE,\n",
    "                device = DEVICE,\n",
    "                dtype = torch.float,\n",
    "                requires_grad = False\n",
    "               )"
   ]
  },
  {
   "cell_type": "code",
   "execution_count": 4,
   "id": "detected-heather",
   "metadata": {},
   "outputs": [],
   "source": [
    "## Output y\n",
    "y = torch.randn(BATCH_SIZE,\n",
    "                OUTPUT_SIZE,\n",
    "                device = DEVICE,\n",
    "                dtype = torch.float,\n",
    "                requires_grad = False\n",
    "               )"
   ]
  },
  {
   "cell_type": "code",
   "execution_count": 5,
   "id": "independent-queens",
   "metadata": {},
   "outputs": [],
   "source": [
    "## Weight w1\n",
    "w1 = torch.randn(INPUT_SIZE,\n",
    "                 HIDDEN_SIZE,\n",
    "                 device = DEVICE,\n",
    "                 dtype = torch.float,\n",
    "                 requires_grad = True\n",
    "                )"
   ]
  },
  {
   "cell_type": "code",
   "execution_count": 6,
   "id": "objective-locking",
   "metadata": {},
   "outputs": [],
   "source": [
    "## Weight w2\n",
    "w2 = torch.randn(HIDDEN_SIZE,\n",
    "                 OUTPUT_SIZE,\n",
    "                 device = DEVICE,\n",
    "                 dtype = torch.float,\n",
    "                 requires_grad = True\n",
    "                )"
   ]
  },
  {
   "cell_type": "markdown",
   "id": "whole-faculty",
   "metadata": {},
   "source": [
    "## 4.2.2 Forward pass & Backward pass"
   ]
  },
  {
   "cell_type": "code",
   "execution_count": 7,
   "id": "dynamic-thought",
   "metadata": {},
   "outputs": [
    {
     "name": "stdout",
     "output_type": "stream",
     "text": [
      "Iteration: 100\t Loss: 401.73162841796875\n",
      "Iteration: 200\t Loss: 1.3751574754714966\n",
      "Iteration: 300\t Loss: 0.00900244526565075\n",
      "Iteration: 400\t Loss: 0.0002254527062177658\n",
      "Iteration: 500\t Loss: 3.734287747647613e-05\n"
     ]
    }
   ],
   "source": [
    "learning_rate = 1e-6\n",
    "for t in range(1, 501):\n",
    "    # .mm: matrix multiplication\n",
    "    # .clamp(min=0): activation func, ReLU\n",
    "    y_pred = x.mm(w1).clamp(min=0).mm(w2)\n",
    "    \n",
    "    # loss: 오차의 제곱합\n",
    "    loss = (y_pred - y).pow(2).sum()\n",
    "    if t % 100 == 0:\n",
    "        print(f'Iteration: {t}\\t Loss: {loss.item()}')\n",
    "    \n",
    "    # backpropagation\n",
    "    loss.backward()\n",
    "    \n",
    "    # 각 parameter 값에 대해 gradient를 계산한 결과를 이용해\n",
    "    # parameter 값을 업데이트할 때는 해당 시점의 gradient 값을 고정한 후 업데이트 진행\n",
    "    # 코드가 실행되는 시점에서 gradient 값을 고정한다는 의미\n",
    "    with torch.no_grad():\n",
    "        w1 -= learning_rate * w1.grad\n",
    "        w2 -= learning_rate * w2.grad\n",
    "        \n",
    "        # parameter 값을 업데이트 했다면\n",
    "        # 각 parameter 값의 gradient를 0으로 초기화해 다음 반복문이 진행될 수 있도록 함\n",
    "        w1.grad.zero_()\n",
    "        w2.grad.zero_()"
   ]
  }
 ],
 "metadata": {
  "kernelspec": {
   "display_name": "songah",
   "language": "python",
   "name": "songah"
  },
  "language_info": {
   "codemirror_mode": {
    "name": "ipython",
    "version": 3
   },
   "file_extension": ".py",
   "mimetype": "text/x-python",
   "name": "python",
   "nbconvert_exporter": "python",
   "pygments_lexer": "ipython3",
   "version": "3.8.0"
  }
 },
 "nbformat": 4,
 "nbformat_minor": 5
}
