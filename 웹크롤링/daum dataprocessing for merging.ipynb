{
 "cells": [
  {
   "cell_type": "code",
   "execution_count": 7,
   "id": "destroyed-tractor",
   "metadata": {},
   "outputs": [
    {
     "data": {
      "text/html": [
       "<div>\n",
       "<style scoped>\n",
       "    .dataframe tbody tr th:only-of-type {\n",
       "        vertical-align: middle;\n",
       "    }\n",
       "\n",
       "    .dataframe tbody tr th {\n",
       "        vertical-align: top;\n",
       "    }\n",
       "\n",
       "    .dataframe thead th {\n",
       "        text-align: right;\n",
       "    }\n",
       "</style>\n",
       "<table border=\"1\" class=\"dataframe\">\n",
       "  <thead>\n",
       "    <tr style=\"text-align: right;\">\n",
       "      <th></th>\n",
       "      <th>title</th>\n",
       "      <th>author</th>\n",
       "      <th>genre</th>\n",
       "      <th>platform</th>\n",
       "      <th>story</th>\n",
       "      <th>rate</th>\n",
       "    </tr>\n",
       "  </thead>\n",
       "  <tbody>\n",
       "    <tr>\n",
       "      <th>0</th>\n",
       "      <td>저기요 손님</td>\n",
       "      <td>강소소</td>\n",
       "      <td>드라마, 코믹, 친구</td>\n",
       "      <td>다음 웹툰</td>\n",
       "      <td>너무 다른 네 명의 절친이 뜬금없이 카페 동업하면서 벌어지는 좌충우돌 청춘드라마</td>\n",
       "      <td>9.5</td>\n",
       "    </tr>\n",
       "    <tr>\n",
       "      <th>1</th>\n",
       "      <td>우리가 사랑하는 방법</td>\n",
       "      <td>기비</td>\n",
       "      <td>순정, 짝사랑, 아이돌</td>\n",
       "      <td>다음 웹툰</td>\n",
       "      <td>그녀의 마음을 얻기 위해 아이돌 덕질에 뛰어들다!</td>\n",
       "      <td>9.9</td>\n",
       "    </tr>\n",
       "    <tr>\n",
       "      <th>2</th>\n",
       "      <td>대선비쇼에 어서오세요!</td>\n",
       "      <td>아람</td>\n",
       "      <td>드라마, 코믹, 음식</td>\n",
       "      <td>다음 웹툰</td>\n",
       "      <td>유도선수를 그만두고 졸업을 기다리던 황희는 PD지망생 요한을 만나 방송을 찍게 된다!</td>\n",
       "      <td>9.7</td>\n",
       "    </tr>\n",
       "    <tr>\n",
       "      <th>3</th>\n",
       "      <td>지옥사원</td>\n",
       "      <td>네온비/캐러멜</td>\n",
       "      <td>드라마, 판타지, 악마</td>\n",
       "      <td>다음 웹툰</td>\n",
       "      <td>인간이 된 악마의 사회 적응기! 그리고 그를 위협하는 존재들.</td>\n",
       "      <td>9.9</td>\n",
       "    </tr>\n",
       "    <tr>\n",
       "      <th>4</th>\n",
       "      <td>학사재생</td>\n",
       "      <td>소유현/윰짝짝</td>\n",
       "      <td>무협, 회귀, 소년</td>\n",
       "      <td>다음 웹툰</td>\n",
       "      <td>천하제일이었던 사내, 금수저를 물고 다시 태어났다! 하지만 인생은 그리 호락호락하지...</td>\n",
       "      <td>9.9</td>\n",
       "    </tr>\n",
       "  </tbody>\n",
       "</table>\n",
       "</div>"
      ],
      "text/plain": [
       "          title    author         genre platform  \\\n",
       "0        저기요 손님       강소소   드라마, 코믹, 친구    다음 웹툰   \n",
       "1   우리가 사랑하는 방법        기비  순정, 짝사랑, 아이돌    다음 웹툰   \n",
       "2  대선비쇼에 어서오세요!        아람   드라마, 코믹, 음식    다음 웹툰   \n",
       "3          지옥사원   네온비/캐러멜  드라마, 판타지, 악마    다음 웹툰   \n",
       "4          학사재생   소유현/윰짝짝    무협, 회귀, 소년    다음 웹툰   \n",
       "\n",
       "                                               story  rate  \n",
       "0       너무 다른 네 명의 절친이 뜬금없이 카페 동업하면서 벌어지는 좌충우돌 청춘드라마   9.5  \n",
       "1                        그녀의 마음을 얻기 위해 아이돌 덕질에 뛰어들다!   9.9  \n",
       "2    유도선수를 그만두고 졸업을 기다리던 황희는 PD지망생 요한을 만나 방송을 찍게 된다!   9.7  \n",
       "3                 인간이 된 악마의 사회 적응기! 그리고 그를 위협하는 존재들.   9.9  \n",
       "4  천하제일이었던 사내, 금수저를 물고 다시 태어났다! 하지만 인생은 그리 호락호락하지...   9.9  "
      ]
     },
     "execution_count": 7,
     "metadata": {},
     "output_type": "execute_result"
    }
   ],
   "source": [
    "import pandas as pd\n",
    "\n",
    "file = pd.read_csv('daum.csv', encoding = 'euc-kr')\n",
    "file.drop(columns = ['Unnamed: 0', 'id', 'age', 'complete', 'thumbnail', 'website', 'free'], inplace = True)\n",
    "file.head(5)"
   ]
  },
  {
   "cell_type": "code",
   "execution_count": 8,
   "id": "encouraging-flash",
   "metadata": {},
   "outputs": [],
   "source": [
    "file.to_csv('daum_final.csv', mode = 'w', encoding = 'euc-kr')"
   ]
  }
 ],
 "metadata": {
  "kernelspec": {
   "display_name": "Python 3",
   "language": "python",
   "name": "python3"
  },
  "language_info": {
   "codemirror_mode": {
    "name": "ipython",
    "version": 3
   },
   "file_extension": ".py",
   "mimetype": "text/x-python",
   "name": "python",
   "nbconvert_exporter": "python",
   "pygments_lexer": "ipython3",
   "version": "3.7.9"
  }
 },
 "nbformat": 4,
 "nbformat_minor": 5
}
