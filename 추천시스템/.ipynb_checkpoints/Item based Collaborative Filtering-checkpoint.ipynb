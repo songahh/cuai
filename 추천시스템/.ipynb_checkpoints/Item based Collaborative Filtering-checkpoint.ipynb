{
 "cells": [
  {
   "cell_type": "markdown",
   "id": "coupled-extreme",
   "metadata": {},
   "source": [
    "#### \"이 웹툰을 본 다른 사용자들이 본 웹툰\""
   ]
  },
  {
   "cell_type": "markdown",
   "id": "united-simple",
   "metadata": {},
   "source": [
    "# 1. 데이터 가공"
   ]
  },
  {
   "cell_type": "code",
   "execution_count": 1,
   "id": "later-preparation",
   "metadata": {},
   "outputs": [
    {
     "data": {
      "text/html": [
       "<div>\n",
       "<style scoped>\n",
       "    .dataframe tbody tr th:only-of-type {\n",
       "        vertical-align: middle;\n",
       "    }\n",
       "\n",
       "    .dataframe tbody tr th {\n",
       "        vertical-align: top;\n",
       "    }\n",
       "\n",
       "    .dataframe thead th {\n",
       "        text-align: right;\n",
       "    }\n",
       "</style>\n",
       "<table border=\"1\" class=\"dataframe\">\n",
       "  <thead>\n",
       "    <tr style=\"text-align: right;\">\n",
       "      <th></th>\n",
       "      <th>타임스탬프</th>\n",
       "      <th>신의 탑</th>\n",
       "      <th>참교육</th>\n",
       "      <th>뷰티풀 군바리</th>\n",
       "      <th>윈드브레이커</th>\n",
       "      <th>백수세끼</th>\n",
       "      <th>파이게임</th>\n",
       "      <th>장씨세가 호위무사</th>\n",
       "      <th>여신강림</th>\n",
       "      <th>용사가 돌아왔다</th>\n",
       "      <th>...</th>\n",
       "      <th>스퍼맨 : 전하지 못한 이야기</th>\n",
       "      <th>광장</th>\n",
       "      <th>조조코믹스</th>\n",
       "      <th>싸움독학</th>\n",
       "      <th>이번 생도 잘 부탁해</th>\n",
       "      <th>약한영웅</th>\n",
       "      <th>열렙전사</th>\n",
       "      <th>수희0(tngmlek0)</th>\n",
       "      <th>입학용병</th>\n",
       "      <th>투신전생기</th>\n",
       "    </tr>\n",
       "  </thead>\n",
       "  <tbody>\n",
       "    <tr>\n",
       "      <th>0</th>\n",
       "      <td>2021/07/27 3:21:00 오후 GMT+9</td>\n",
       "      <td>10.0</td>\n",
       "      <td>NaN</td>\n",
       "      <td>6.0</td>\n",
       "      <td>NaN</td>\n",
       "      <td>8.0</td>\n",
       "      <td>10.0</td>\n",
       "      <td>NaN</td>\n",
       "      <td>4.0</td>\n",
       "      <td>NaN</td>\n",
       "      <td>...</td>\n",
       "      <td>NaN</td>\n",
       "      <td>NaN</td>\n",
       "      <td>9.0</td>\n",
       "      <td>NaN</td>\n",
       "      <td>NaN</td>\n",
       "      <td>7.0</td>\n",
       "      <td>NaN</td>\n",
       "      <td>NaN</td>\n",
       "      <td>NaN</td>\n",
       "      <td>NaN</td>\n",
       "    </tr>\n",
       "    <tr>\n",
       "      <th>1</th>\n",
       "      <td>2021/07/27 3:30:48 오후 GMT+9</td>\n",
       "      <td>NaN</td>\n",
       "      <td>NaN</td>\n",
       "      <td>NaN</td>\n",
       "      <td>NaN</td>\n",
       "      <td>5.0</td>\n",
       "      <td>NaN</td>\n",
       "      <td>NaN</td>\n",
       "      <td>5.0</td>\n",
       "      <td>NaN</td>\n",
       "      <td>...</td>\n",
       "      <td>NaN</td>\n",
       "      <td>NaN</td>\n",
       "      <td>NaN</td>\n",
       "      <td>NaN</td>\n",
       "      <td>NaN</td>\n",
       "      <td>NaN</td>\n",
       "      <td>NaN</td>\n",
       "      <td>NaN</td>\n",
       "      <td>NaN</td>\n",
       "      <td>NaN</td>\n",
       "    </tr>\n",
       "    <tr>\n",
       "      <th>2</th>\n",
       "      <td>2021/07/27 3:30:55 오후 GMT+9</td>\n",
       "      <td>8.0</td>\n",
       "      <td>NaN</td>\n",
       "      <td>NaN</td>\n",
       "      <td>NaN</td>\n",
       "      <td>NaN</td>\n",
       "      <td>NaN</td>\n",
       "      <td>NaN</td>\n",
       "      <td>NaN</td>\n",
       "      <td>NaN</td>\n",
       "      <td>...</td>\n",
       "      <td>NaN</td>\n",
       "      <td>NaN</td>\n",
       "      <td>NaN</td>\n",
       "      <td>5.0</td>\n",
       "      <td>NaN</td>\n",
       "      <td>NaN</td>\n",
       "      <td>NaN</td>\n",
       "      <td>NaN</td>\n",
       "      <td>NaN</td>\n",
       "      <td>NaN</td>\n",
       "    </tr>\n",
       "    <tr>\n",
       "      <th>3</th>\n",
       "      <td>2021/07/27 3:31:19 오후 GMT+9</td>\n",
       "      <td>6.0</td>\n",
       "      <td>NaN</td>\n",
       "      <td>4.0</td>\n",
       "      <td>8.0</td>\n",
       "      <td>4.0</td>\n",
       "      <td>NaN</td>\n",
       "      <td>NaN</td>\n",
       "      <td>5.0</td>\n",
       "      <td>NaN</td>\n",
       "      <td>...</td>\n",
       "      <td>NaN</td>\n",
       "      <td>NaN</td>\n",
       "      <td>NaN</td>\n",
       "      <td>NaN</td>\n",
       "      <td>10.0</td>\n",
       "      <td>NaN</td>\n",
       "      <td>NaN</td>\n",
       "      <td>NaN</td>\n",
       "      <td>NaN</td>\n",
       "      <td>NaN</td>\n",
       "    </tr>\n",
       "    <tr>\n",
       "      <th>4</th>\n",
       "      <td>2021/07/27 3:31:59 오후 GMT+9</td>\n",
       "      <td>10.0</td>\n",
       "      <td>NaN</td>\n",
       "      <td>NaN</td>\n",
       "      <td>8.0</td>\n",
       "      <td>NaN</td>\n",
       "      <td>9.0</td>\n",
       "      <td>NaN</td>\n",
       "      <td>9.0</td>\n",
       "      <td>NaN</td>\n",
       "      <td>...</td>\n",
       "      <td>NaN</td>\n",
       "      <td>NaN</td>\n",
       "      <td>NaN</td>\n",
       "      <td>NaN</td>\n",
       "      <td>10.0</td>\n",
       "      <td>NaN</td>\n",
       "      <td>NaN</td>\n",
       "      <td>NaN</td>\n",
       "      <td>NaN</td>\n",
       "      <td>NaN</td>\n",
       "    </tr>\n",
       "  </tbody>\n",
       "</table>\n",
       "<p>5 rows × 48 columns</p>\n",
       "</div>"
      ],
      "text/plain": [
       "                         타임스탬프  신의 탑  참교육  뷰티풀 군바리  윈드브레이커  백수세끼  파이게임  \\\n",
       "0  2021/07/27 3:21:00 오후 GMT+9  10.0  NaN      6.0     NaN   8.0  10.0   \n",
       "1  2021/07/27 3:30:48 오후 GMT+9   NaN  NaN      NaN     NaN   5.0   NaN   \n",
       "2  2021/07/27 3:30:55 오후 GMT+9   8.0  NaN      NaN     NaN   NaN   NaN   \n",
       "3  2021/07/27 3:31:19 오후 GMT+9   6.0  NaN      4.0     8.0   4.0   NaN   \n",
       "4  2021/07/27 3:31:59 오후 GMT+9  10.0  NaN      NaN     8.0   NaN   9.0   \n",
       "\n",
       "   장씨세가 호위무사  여신강림  용사가 돌아왔다  ...  스퍼맨 : 전하지 못한 이야기  광장  조조코믹스  싸움독학  \\\n",
       "0        NaN   4.0       NaN  ...               NaN NaN    9.0   NaN   \n",
       "1        NaN   5.0       NaN  ...               NaN NaN    NaN   NaN   \n",
       "2        NaN   NaN       NaN  ...               NaN NaN    NaN   5.0   \n",
       "3        NaN   5.0       NaN  ...               NaN NaN    NaN   NaN   \n",
       "4        NaN   9.0       NaN  ...               NaN NaN    NaN   NaN   \n",
       "\n",
       "   이번 생도 잘 부탁해  약한영웅  열렙전사  수희0(tngmlek0)  입학용병  투신전생기  \n",
       "0          NaN   7.0   NaN            NaN   NaN    NaN  \n",
       "1          NaN   NaN   NaN            NaN   NaN    NaN  \n",
       "2          NaN   NaN   NaN            NaN   NaN    NaN  \n",
       "3         10.0   NaN   NaN            NaN   NaN    NaN  \n",
       "4         10.0   NaN   NaN            NaN   NaN    NaN  \n",
       "\n",
       "[5 rows x 48 columns]"
      ]
     },
     "execution_count": 1,
     "metadata": {},
     "output_type": "execute_result"
    }
   ],
   "source": [
    "import pandas as pd\n",
    "import numpy as np\n",
    "\n",
    "ratings = pd.read_csv('ratings.csv')\n",
    "ratings.head()"
   ]
  },
  {
   "cell_type": "code",
   "execution_count": 2,
   "id": "criminal-remove",
   "metadata": {},
   "outputs": [
    {
     "data": {
      "text/html": [
       "<div>\n",
       "<style scoped>\n",
       "    .dataframe tbody tr th:only-of-type {\n",
       "        vertical-align: middle;\n",
       "    }\n",
       "\n",
       "    .dataframe tbody tr th {\n",
       "        vertical-align: top;\n",
       "    }\n",
       "\n",
       "    .dataframe thead th {\n",
       "        text-align: right;\n",
       "    }\n",
       "</style>\n",
       "<table border=\"1\" class=\"dataframe\">\n",
       "  <thead>\n",
       "    <tr style=\"text-align: right;\">\n",
       "      <th></th>\n",
       "      <th>신의 탑</th>\n",
       "      <th>참교육</th>\n",
       "      <th>뷰티풀 군바리</th>\n",
       "      <th>윈드브레이커</th>\n",
       "      <th>백수세끼</th>\n",
       "      <th>파이게임</th>\n",
       "      <th>장씨세가 호위무사</th>\n",
       "      <th>여신강림</th>\n",
       "      <th>용사가 돌아왔다</th>\n",
       "      <th>바른연애 길잡이</th>\n",
       "      <th>...</th>\n",
       "      <th>스퍼맨 : 전하지 못한 이야기</th>\n",
       "      <th>광장</th>\n",
       "      <th>조조코믹스</th>\n",
       "      <th>싸움독학</th>\n",
       "      <th>이번 생도 잘 부탁해</th>\n",
       "      <th>약한영웅</th>\n",
       "      <th>열렙전사</th>\n",
       "      <th>수희0(tngmlek0)</th>\n",
       "      <th>입학용병</th>\n",
       "      <th>투신전생기</th>\n",
       "    </tr>\n",
       "  </thead>\n",
       "  <tbody>\n",
       "    <tr>\n",
       "      <th>0</th>\n",
       "      <td>10.0</td>\n",
       "      <td>0.0</td>\n",
       "      <td>6.0</td>\n",
       "      <td>0.0</td>\n",
       "      <td>8.0</td>\n",
       "      <td>10.0</td>\n",
       "      <td>0.0</td>\n",
       "      <td>4.0</td>\n",
       "      <td>0.0</td>\n",
       "      <td>0.0</td>\n",
       "      <td>...</td>\n",
       "      <td>0.0</td>\n",
       "      <td>0.0</td>\n",
       "      <td>9.0</td>\n",
       "      <td>0.0</td>\n",
       "      <td>0.0</td>\n",
       "      <td>7.0</td>\n",
       "      <td>0.0</td>\n",
       "      <td>0.0</td>\n",
       "      <td>0.0</td>\n",
       "      <td>0.0</td>\n",
       "    </tr>\n",
       "  </tbody>\n",
       "</table>\n",
       "<p>1 rows × 47 columns</p>\n",
       "</div>"
      ],
      "text/plain": [
       "   신의 탑  참교육  뷰티풀 군바리  윈드브레이커  백수세끼  파이게임  장씨세가 호위무사  여신강림  용사가 돌아왔다  \\\n",
       "0  10.0  0.0      6.0     0.0   8.0  10.0        0.0   4.0       0.0   \n",
       "\n",
       "   바른연애 길잡이  ...  스퍼맨 : 전하지 못한 이야기   광장  조조코믹스  싸움독학  이번 생도 잘 부탁해  약한영웅  열렙전사  \\\n",
       "0       0.0  ...               0.0  0.0    9.0   0.0          0.0   7.0   0.0   \n",
       "\n",
       "   수희0(tngmlek0)  입학용병  투신전생기  \n",
       "0            0.0   0.0    0.0  \n",
       "\n",
       "[1 rows x 47 columns]"
      ]
     },
     "execution_count": 2,
     "metadata": {},
     "output_type": "execute_result"
    }
   ],
   "source": [
    "ratings = ratings.drop(['타임스탬프'], axis=1)\n",
    "ratings = ratings.fillna(0)\n",
    "ratings.head(1)"
   ]
  },
  {
   "cell_type": "markdown",
   "id": "dressed-bulgarian",
   "metadata": {},
   "source": [
    "# 2. 유사도 산출"
   ]
  },
  {
   "cell_type": "markdown",
   "id": "sound-concert",
   "metadata": {},
   "source": [
    "- 사용자 평점 기준으로 영화의 유사도 생성\n",
    "- 사용자의 개인적인 취향을 반영한 것 X\n",
    "- cosine_similarity() 적용"
   ]
  },
  {
   "cell_type": "code",
   "execution_count": 3,
   "id": "opposed-tomorrow",
   "metadata": {},
   "outputs": [
    {
     "data": {
      "text/html": [
       "<div>\n",
       "<style scoped>\n",
       "    .dataframe tbody tr th:only-of-type {\n",
       "        vertical-align: middle;\n",
       "    }\n",
       "\n",
       "    .dataframe tbody tr th {\n",
       "        vertical-align: top;\n",
       "    }\n",
       "\n",
       "    .dataframe thead th {\n",
       "        text-align: right;\n",
       "    }\n",
       "</style>\n",
       "<table border=\"1\" class=\"dataframe\">\n",
       "  <thead>\n",
       "    <tr style=\"text-align: right;\">\n",
       "      <th></th>\n",
       "      <th>0</th>\n",
       "      <th>1</th>\n",
       "      <th>2</th>\n",
       "      <th>3</th>\n",
       "      <th>4</th>\n",
       "      <th>5</th>\n",
       "      <th>6</th>\n",
       "      <th>7</th>\n",
       "      <th>8</th>\n",
       "      <th>9</th>\n",
       "      <th>...</th>\n",
       "      <th>46</th>\n",
       "      <th>47</th>\n",
       "      <th>48</th>\n",
       "      <th>49</th>\n",
       "      <th>50</th>\n",
       "      <th>51</th>\n",
       "      <th>52</th>\n",
       "      <th>53</th>\n",
       "      <th>54</th>\n",
       "      <th>55</th>\n",
       "    </tr>\n",
       "  </thead>\n",
       "  <tbody>\n",
       "    <tr>\n",
       "      <th>신의 탑</th>\n",
       "      <td>10.0</td>\n",
       "      <td>0.0</td>\n",
       "      <td>8.0</td>\n",
       "      <td>6.0</td>\n",
       "      <td>10.0</td>\n",
       "      <td>3.0</td>\n",
       "      <td>6.0</td>\n",
       "      <td>4.0</td>\n",
       "      <td>7.0</td>\n",
       "      <td>0.0</td>\n",
       "      <td>...</td>\n",
       "      <td>2.0</td>\n",
       "      <td>8.0</td>\n",
       "      <td>0.0</td>\n",
       "      <td>1.0</td>\n",
       "      <td>5.0</td>\n",
       "      <td>8.0</td>\n",
       "      <td>0.0</td>\n",
       "      <td>0.0</td>\n",
       "      <td>0.0</td>\n",
       "      <td>9.0</td>\n",
       "    </tr>\n",
       "  </tbody>\n",
       "</table>\n",
       "<p>1 rows × 56 columns</p>\n",
       "</div>"
      ],
      "text/plain": [
       "        0    1    2    3     4    5    6    7    8    9   ...   46   47   48  \\\n",
       "신의 탑  10.0  0.0  8.0  6.0  10.0  3.0  6.0  4.0  7.0  0.0  ...  2.0  8.0  0.0   \n",
       "\n",
       "       49   50   51   52   53   54   55  \n",
       "신의 탑  1.0  5.0  8.0  0.0  0.0  0.0  9.0  \n",
       "\n",
       "[1 rows x 56 columns]"
      ]
     },
     "execution_count": 3,
     "metadata": {},
     "output_type": "execute_result"
    }
   ],
   "source": [
    "# ratings를 전치시켜 item-user rating matrix를 만듦\n",
    "ratings_matrix = ratings.transpose()\n",
    "ratings_matrix.head(1)"
   ]
  },
  {
   "cell_type": "code",
   "execution_count": 4,
   "id": "labeled-apple",
   "metadata": {},
   "outputs": [
    {
     "name": "stdout",
     "output_type": "stream",
     "text": [
      "[[1.         0.50238481 0.71523815 ... 0.41350912 0.38782758 0.4197689 ]\n",
      " [0.50238481 1.         0.62184023 ... 0.64721132 0.65859088 0.66463873]\n",
      " [0.71523815 0.62184023 1.         ... 0.52433108 0.5581448  0.59370122]\n",
      " ...\n",
      " [0.41350912 0.64721132 0.52433108 ... 1.         0.70689176 0.8584011 ]\n",
      " [0.38782758 0.65859088 0.5581448  ... 0.70689176 1.         0.81406557]\n",
      " [0.4197689  0.66463873 0.59370122 ... 0.8584011  0.81406557 1.        ]]\n"
     ]
    }
   ],
   "source": [
    "from sklearn.metrics.pairwise import cosine_similarity\n",
    "\n",
    "item_sim = cosine_similarity(ratings_matrix, ratings_matrix)\n",
    "print(item_sim)"
   ]
  },
  {
   "cell_type": "code",
   "execution_count": 5,
   "id": "little-journal",
   "metadata": {},
   "outputs": [
    {
     "name": "stdout",
     "output_type": "stream",
     "text": [
      "(47, 47)\n"
     ]
    }
   ],
   "source": [
    "# item_sim: numpy 행렬, title을 mapping해 DataFrame으로 변환\n",
    "item_sim_df = pd.DataFrame(item_sim, index=ratings_matrix.index, columns=ratings_matrix.index)\n",
    "print(item_sim_df.shape)"
   ]
  },
  {
   "cell_type": "code",
   "execution_count": 6,
   "id": "square-belgium",
   "metadata": {},
   "outputs": [
    {
     "data": {
      "text/html": [
       "<div>\n",
       "<style scoped>\n",
       "    .dataframe tbody tr th:only-of-type {\n",
       "        vertical-align: middle;\n",
       "    }\n",
       "\n",
       "    .dataframe tbody tr th {\n",
       "        vertical-align: top;\n",
       "    }\n",
       "\n",
       "    .dataframe thead th {\n",
       "        text-align: right;\n",
       "    }\n",
       "</style>\n",
       "<table border=\"1\" class=\"dataframe\">\n",
       "  <thead>\n",
       "    <tr style=\"text-align: right;\">\n",
       "      <th></th>\n",
       "      <th>신의 탑</th>\n",
       "      <th>참교육</th>\n",
       "      <th>뷰티풀 군바리</th>\n",
       "      <th>윈드브레이커</th>\n",
       "      <th>백수세끼</th>\n",
       "      <th>파이게임</th>\n",
       "      <th>장씨세가 호위무사</th>\n",
       "      <th>여신강림</th>\n",
       "      <th>용사가 돌아왔다</th>\n",
       "      <th>바른연애 길잡이</th>\n",
       "      <th>...</th>\n",
       "      <th>스퍼맨 : 전하지 못한 이야기</th>\n",
       "      <th>광장</th>\n",
       "      <th>조조코믹스</th>\n",
       "      <th>싸움독학</th>\n",
       "      <th>이번 생도 잘 부탁해</th>\n",
       "      <th>약한영웅</th>\n",
       "      <th>열렙전사</th>\n",
       "      <th>수희0(tngmlek0)</th>\n",
       "      <th>입학용병</th>\n",
       "      <th>투신전생기</th>\n",
       "    </tr>\n",
       "  </thead>\n",
       "  <tbody>\n",
       "    <tr>\n",
       "      <th>신의 탑</th>\n",
       "      <td>1.000000</td>\n",
       "      <td>0.502385</td>\n",
       "      <td>0.715238</td>\n",
       "      <td>0.646229</td>\n",
       "      <td>0.496350</td>\n",
       "      <td>0.601092</td>\n",
       "      <td>0.490596</td>\n",
       "      <td>0.714468</td>\n",
       "      <td>0.416105</td>\n",
       "      <td>0.637147</td>\n",
       "      <td>...</td>\n",
       "      <td>0.439168</td>\n",
       "      <td>0.435401</td>\n",
       "      <td>0.548054</td>\n",
       "      <td>0.511910</td>\n",
       "      <td>0.586994</td>\n",
       "      <td>0.575234</td>\n",
       "      <td>0.472472</td>\n",
       "      <td>0.413509</td>\n",
       "      <td>0.387828</td>\n",
       "      <td>0.419769</td>\n",
       "    </tr>\n",
       "    <tr>\n",
       "      <th>참교육</th>\n",
       "      <td>0.502385</td>\n",
       "      <td>1.000000</td>\n",
       "      <td>0.621840</td>\n",
       "      <td>0.560584</td>\n",
       "      <td>0.594597</td>\n",
       "      <td>0.520319</td>\n",
       "      <td>0.581308</td>\n",
       "      <td>0.466470</td>\n",
       "      <td>0.702175</td>\n",
       "      <td>0.418250</td>\n",
       "      <td>...</td>\n",
       "      <td>0.637565</td>\n",
       "      <td>0.623540</td>\n",
       "      <td>0.507512</td>\n",
       "      <td>0.692601</td>\n",
       "      <td>0.491654</td>\n",
       "      <td>0.649671</td>\n",
       "      <td>0.637716</td>\n",
       "      <td>0.647211</td>\n",
       "      <td>0.658591</td>\n",
       "      <td>0.664639</td>\n",
       "    </tr>\n",
       "    <tr>\n",
       "      <th>뷰티풀 군바리</th>\n",
       "      <td>0.715238</td>\n",
       "      <td>0.621840</td>\n",
       "      <td>1.000000</td>\n",
       "      <td>0.620867</td>\n",
       "      <td>0.517857</td>\n",
       "      <td>0.533008</td>\n",
       "      <td>0.435335</td>\n",
       "      <td>0.564881</td>\n",
       "      <td>0.530010</td>\n",
       "      <td>0.515651</td>\n",
       "      <td>...</td>\n",
       "      <td>0.523817</td>\n",
       "      <td>0.584308</td>\n",
       "      <td>0.653378</td>\n",
       "      <td>0.514012</td>\n",
       "      <td>0.545531</td>\n",
       "      <td>0.683432</td>\n",
       "      <td>0.541068</td>\n",
       "      <td>0.524331</td>\n",
       "      <td>0.558145</td>\n",
       "      <td>0.593701</td>\n",
       "    </tr>\n",
       "  </tbody>\n",
       "</table>\n",
       "<p>3 rows × 47 columns</p>\n",
       "</div>"
      ],
      "text/plain": [
       "             신의 탑       참교육   뷰티풀 군바리    윈드브레이커      백수세끼      파이게임  \\\n",
       "신의 탑     1.000000  0.502385  0.715238  0.646229  0.496350  0.601092   \n",
       "참교육      0.502385  1.000000  0.621840  0.560584  0.594597  0.520319   \n",
       "뷰티풀 군바리  0.715238  0.621840  1.000000  0.620867  0.517857  0.533008   \n",
       "\n",
       "         장씨세가 호위무사      여신강림  용사가 돌아왔다  바른연애 길잡이  ...  스퍼맨 : 전하지 못한 이야기  \\\n",
       "신의 탑      0.490596  0.714468  0.416105  0.637147  ...          0.439168   \n",
       "참교육       0.581308  0.466470  0.702175  0.418250  ...          0.637565   \n",
       "뷰티풀 군바리   0.435335  0.564881  0.530010  0.515651  ...          0.523817   \n",
       "\n",
       "               광장     조조코믹스      싸움독학  이번 생도 잘 부탁해      약한영웅      열렙전사  \\\n",
       "신의 탑     0.435401  0.548054  0.511910     0.586994  0.575234  0.472472   \n",
       "참교육      0.623540  0.507512  0.692601     0.491654  0.649671  0.637716   \n",
       "뷰티풀 군바리  0.584308  0.653378  0.514012     0.545531  0.683432  0.541068   \n",
       "\n",
       "         수희0(tngmlek0)      입학용병     투신전생기  \n",
       "신의 탑          0.413509  0.387828  0.419769  \n",
       "참교육           0.647211  0.658591  0.664639  \n",
       "뷰티풀 군바리       0.524331  0.558145  0.593701  \n",
       "\n",
       "[3 rows x 47 columns]"
      ]
     },
     "execution_count": 6,
     "metadata": {},
     "output_type": "execute_result"
    }
   ],
   "source": [
    "item_sim_df.head(3)"
   ]
  },
  {
   "cell_type": "code",
   "execution_count": 7,
   "id": "capable-benjamin",
   "metadata": {
    "scrolled": false
   },
   "outputs": [
    {
     "data": {
      "text/plain": [
       "연애혁명       0.791874\n",
       "기기괴괴       0.765009\n",
       "뷰티풀 군바리    0.715238\n",
       "Name: 신의 탑, dtype: float64"
      ]
     },
     "execution_count": 7,
     "metadata": {},
     "output_type": "execute_result"
    }
   ],
   "source": [
    "item_sim_df[\"신의 탑\"].sort_values(ascending=False)[1:4]"
   ]
  },
  {
   "cell_type": "markdown",
   "id": "contrary-avatar",
   "metadata": {},
   "source": [
    "**신의 탑**: 단순흥행작 추천"
   ]
  },
  {
   "cell_type": "code",
   "execution_count": 8,
   "id": "reserved-damage",
   "metadata": {},
   "outputs": [
    {
     "data": {
      "text/plain": [
       "바른연애 길잡이       0.855432\n",
       "연애혁명           0.811834\n",
       "이번 생도 잘 부탁해    0.795206\n",
       "Name: 여신강림, dtype: float64"
      ]
     },
     "execution_count": 8,
     "metadata": {},
     "output_type": "execute_result"
    }
   ],
   "source": [
    "item_sim_df[\"여신강림\"].sort_values(ascending=False)[1:4]"
   ]
  },
  {
   "cell_type": "markdown",
   "id": "adaptive-affair",
   "metadata": {},
   "source": [
    "**여신강림**: 이건 좀 신빙성 있다"
   ]
  },
  {
   "cell_type": "code",
   "execution_count": 9,
   "id": "published-right",
   "metadata": {},
   "outputs": [
    {
     "data": {
      "text/plain": [
       "한림체육관    0.739574\n",
       "입학용병     0.702674\n",
       "1초       0.698934\n",
       "Name: 백수세끼, dtype: float64"
      ]
     },
     "execution_count": 9,
     "metadata": {},
     "output_type": "execute_result"
    }
   ],
   "source": [
    "item_sim_df[\"백수세끼\"].sort_values(ascending=False)[1:4]"
   ]
  },
  {
   "cell_type": "markdown",
   "id": "accurate-examination",
   "metadata": {},
   "source": [
    "**백수세끼**: 그렇게 정확한 것 같지 않음"
   ]
  },
  {
   "cell_type": "code",
   "execution_count": 10,
   "id": "greenhouse-conservation",
   "metadata": {
    "scrolled": true
   },
   "outputs": [
    {
     "data": {
      "text/plain": [
       "복학왕          0.729647\n",
       "묵시의 인플루언서    0.686362\n",
       "1초           0.668936\n",
       "Name: 파이게임, dtype: float64"
      ]
     },
     "execution_count": 10,
     "metadata": {},
     "output_type": "execute_result"
    }
   ],
   "source": [
    "item_sim_df[\"파이게임\"].sort_values(ascending=False)[1:4]"
   ]
  },
  {
   "cell_type": "markdown",
   "id": "guilty-auckland",
   "metadata": {},
   "source": [
    "**파이게임**: 그렇게 정확한 것 같지 않음"
   ]
  },
  {
   "cell_type": "code",
   "execution_count": 11,
   "id": "cordless-voice",
   "metadata": {},
   "outputs": [
    {
     "data": {
      "text/plain": [
       "한림체육관          0.839042\n",
       "더 복서           0.733731\n",
       "헬퍼 2 : 킬베로스    0.719240\n",
       "Name: 약한영웅, dtype: float64"
      ]
     },
     "execution_count": 11,
     "metadata": {},
     "output_type": "execute_result"
    }
   ],
   "source": [
    "item_sim_df[\"약한영웅\"].sort_values(ascending=False)[1:4]"
   ]
  },
  {
   "cell_type": "markdown",
   "id": "killing-extra",
   "metadata": {},
   "source": [
    "**약한영웅**: 괜찮은 결과"
   ]
  },
  {
   "cell_type": "markdown",
   "id": "adverse-score",
   "metadata": {},
   "source": [
    "## 2-1. 문제점"
   ]
  },
  {
   "cell_type": "markdown",
   "id": "differential-landing",
   "metadata": {},
   "source": [
    "- 단순히 많이 본 웹툰이 추천되는 경우 존재"
   ]
  },
  {
   "cell_type": "markdown",
   "id": "later-closer",
   "metadata": {},
   "source": [
    "#### 사용자가 본 웹툰의 평점과 웹툰 간의 유사도를 기반으로 새롭게 모든 웹툰의 평점 측정 → 높은 순으로 출력"
   ]
  },
  {
   "cell_type": "markdown",
   "id": "increased-caution",
   "metadata": {},
   "source": [
    "# 3. 개인화된 영화 추천"
   ]
  },
  {
   "cell_type": "markdown",
   "id": "swiss-hungarian",
   "metadata": {},
   "source": [
    "- 개인이 아직 관람하지 않은 영화 추천"
   ]
  },
  {
   "cell_type": "code",
   "execution_count": 12,
   "id": "built-hopkins",
   "metadata": {},
   "outputs": [],
   "source": [
    "# ratings_arr: 실제 평점 벡터\n",
    "# item_sim_arr: item 간 유사도\n",
    "def predict_rating(ratings_arr, item_sim_arr):\n",
    "    ratings_pred = ratings_arr.dot(item_sim_arr) / np.array([np.abs(item_sim_arr).sum(axis=1)])\n",
    "    return ratings_pred"
   ]
  },
  {
   "cell_type": "code",
   "execution_count": 13,
   "id": "cultural-default",
   "metadata": {
    "scrolled": true
   },
   "outputs": [
    {
     "data": {
      "text/html": [
       "<div>\n",
       "<style scoped>\n",
       "    .dataframe tbody tr th:only-of-type {\n",
       "        vertical-align: middle;\n",
       "    }\n",
       "\n",
       "    .dataframe tbody tr th {\n",
       "        vertical-align: top;\n",
       "    }\n",
       "\n",
       "    .dataframe thead th {\n",
       "        text-align: right;\n",
       "    }\n",
       "</style>\n",
       "<table border=\"1\" class=\"dataframe\">\n",
       "  <thead>\n",
       "    <tr style=\"text-align: right;\">\n",
       "      <th></th>\n",
       "      <th>신의 탑</th>\n",
       "      <th>참교육</th>\n",
       "      <th>뷰티풀 군바리</th>\n",
       "      <th>윈드브레이커</th>\n",
       "      <th>백수세끼</th>\n",
       "      <th>파이게임</th>\n",
       "      <th>장씨세가 호위무사</th>\n",
       "      <th>여신강림</th>\n",
       "      <th>용사가 돌아왔다</th>\n",
       "      <th>바른연애 길잡이</th>\n",
       "      <th>...</th>\n",
       "      <th>스퍼맨 : 전하지 못한 이야기</th>\n",
       "      <th>광장</th>\n",
       "      <th>조조코믹스</th>\n",
       "      <th>싸움독학</th>\n",
       "      <th>이번 생도 잘 부탁해</th>\n",
       "      <th>약한영웅</th>\n",
       "      <th>열렙전사</th>\n",
       "      <th>수희0(tngmlek0)</th>\n",
       "      <th>입학용병</th>\n",
       "      <th>투신전생기</th>\n",
       "    </tr>\n",
       "  </thead>\n",
       "  <tbody>\n",
       "    <tr>\n",
       "      <th>0</th>\n",
       "      <td>2.975794</td>\n",
       "      <td>2.488849</td>\n",
       "      <td>2.796320</td>\n",
       "      <td>2.445477</td>\n",
       "      <td>2.888278</td>\n",
       "      <td>2.994984</td>\n",
       "      <td>2.408212</td>\n",
       "      <td>2.613962</td>\n",
       "      <td>2.475062</td>\n",
       "      <td>2.463473</td>\n",
       "      <td>...</td>\n",
       "      <td>2.447271</td>\n",
       "      <td>2.492387</td>\n",
       "      <td>3.041309</td>\n",
       "      <td>2.672078</td>\n",
       "      <td>2.419475</td>\n",
       "      <td>2.833521</td>\n",
       "      <td>2.481725</td>\n",
       "      <td>2.422519</td>\n",
       "      <td>2.471491</td>\n",
       "      <td>2.454387</td>\n",
       "    </tr>\n",
       "    <tr>\n",
       "      <th>1</th>\n",
       "      <td>0.483136</td>\n",
       "      <td>0.337742</td>\n",
       "      <td>0.398238</td>\n",
       "      <td>0.453669</td>\n",
       "      <td>0.483016</td>\n",
       "      <td>0.427890</td>\n",
       "      <td>0.363856</td>\n",
       "      <td>0.639135</td>\n",
       "      <td>0.354150</td>\n",
       "      <td>0.681545</td>\n",
       "      <td>...</td>\n",
       "      <td>0.350953</td>\n",
       "      <td>0.286315</td>\n",
       "      <td>0.413031</td>\n",
       "      <td>0.433884</td>\n",
       "      <td>0.570553</td>\n",
       "      <td>0.348424</td>\n",
       "      <td>0.350696</td>\n",
       "      <td>0.359493</td>\n",
       "      <td>0.345835</td>\n",
       "      <td>0.319748</td>\n",
       "    </tr>\n",
       "    <tr>\n",
       "      <th>2</th>\n",
       "      <td>1.051582</td>\n",
       "      <td>0.680649</td>\n",
       "      <td>0.831671</td>\n",
       "      <td>0.738393</td>\n",
       "      <td>0.788669</td>\n",
       "      <td>0.746857</td>\n",
       "      <td>0.688508</td>\n",
       "      <td>0.856697</td>\n",
       "      <td>0.641461</td>\n",
       "      <td>0.865003</td>\n",
       "      <td>...</td>\n",
       "      <td>0.655015</td>\n",
       "      <td>0.630740</td>\n",
       "      <td>0.776678</td>\n",
       "      <td>0.839263</td>\n",
       "      <td>0.843975</td>\n",
       "      <td>0.717376</td>\n",
       "      <td>0.669663</td>\n",
       "      <td>0.609837</td>\n",
       "      <td>0.656076</td>\n",
       "      <td>0.600374</td>\n",
       "    </tr>\n",
       "    <tr>\n",
       "      <th>3</th>\n",
       "      <td>1.925109</td>\n",
       "      <td>1.340103</td>\n",
       "      <td>1.676633</td>\n",
       "      <td>1.837522</td>\n",
       "      <td>1.482185</td>\n",
       "      <td>1.440613</td>\n",
       "      <td>1.317388</td>\n",
       "      <td>2.011937</td>\n",
       "      <td>1.248966</td>\n",
       "      <td>1.931868</td>\n",
       "      <td>...</td>\n",
       "      <td>1.322278</td>\n",
       "      <td>1.217728</td>\n",
       "      <td>1.413906</td>\n",
       "      <td>1.404631</td>\n",
       "      <td>2.075519</td>\n",
       "      <td>1.416313</td>\n",
       "      <td>1.255385</td>\n",
       "      <td>1.326845</td>\n",
       "      <td>1.233157</td>\n",
       "      <td>1.216913</td>\n",
       "    </tr>\n",
       "    <tr>\n",
       "      <th>4</th>\n",
       "      <td>3.136911</td>\n",
       "      <td>2.275956</td>\n",
       "      <td>2.653259</td>\n",
       "      <td>2.960800</td>\n",
       "      <td>2.393530</td>\n",
       "      <td>2.664128</td>\n",
       "      <td>2.373736</td>\n",
       "      <td>3.449674</td>\n",
       "      <td>2.233588</td>\n",
       "      <td>3.456956</td>\n",
       "      <td>...</td>\n",
       "      <td>2.299781</td>\n",
       "      <td>2.127936</td>\n",
       "      <td>2.372565</td>\n",
       "      <td>2.421557</td>\n",
       "      <td>3.427473</td>\n",
       "      <td>2.260556</td>\n",
       "      <td>2.189022</td>\n",
       "      <td>2.214505</td>\n",
       "      <td>2.136919</td>\n",
       "      <td>2.101550</td>\n",
       "    </tr>\n",
       "  </tbody>\n",
       "</table>\n",
       "<p>5 rows × 47 columns</p>\n",
       "</div>"
      ],
      "text/plain": [
       "       신의 탑       참교육   뷰티풀 군바리    윈드브레이커      백수세끼      파이게임  장씨세가 호위무사  \\\n",
       "0  2.975794  2.488849  2.796320  2.445477  2.888278  2.994984   2.408212   \n",
       "1  0.483136  0.337742  0.398238  0.453669  0.483016  0.427890   0.363856   \n",
       "2  1.051582  0.680649  0.831671  0.738393  0.788669  0.746857   0.688508   \n",
       "3  1.925109  1.340103  1.676633  1.837522  1.482185  1.440613   1.317388   \n",
       "4  3.136911  2.275956  2.653259  2.960800  2.393530  2.664128   2.373736   \n",
       "\n",
       "       여신강림  용사가 돌아왔다  바른연애 길잡이  ...  스퍼맨 : 전하지 못한 이야기        광장     조조코믹스  \\\n",
       "0  2.613962  2.475062  2.463473  ...          2.447271  2.492387  3.041309   \n",
       "1  0.639135  0.354150  0.681545  ...          0.350953  0.286315  0.413031   \n",
       "2  0.856697  0.641461  0.865003  ...          0.655015  0.630740  0.776678   \n",
       "3  2.011937  1.248966  1.931868  ...          1.322278  1.217728  1.413906   \n",
       "4  3.449674  2.233588  3.456956  ...          2.299781  2.127936  2.372565   \n",
       "\n",
       "       싸움독학  이번 생도 잘 부탁해      약한영웅      열렙전사  수희0(tngmlek0)      입학용병  \\\n",
       "0  2.672078     2.419475  2.833521  2.481725       2.422519  2.471491   \n",
       "1  0.433884     0.570553  0.348424  0.350696       0.359493  0.345835   \n",
       "2  0.839263     0.843975  0.717376  0.669663       0.609837  0.656076   \n",
       "3  1.404631     2.075519  1.416313  1.255385       1.326845  1.233157   \n",
       "4  2.421557     3.427473  2.260556  2.189022       2.214505  2.136919   \n",
       "\n",
       "      투신전생기  \n",
       "0  2.454387  \n",
       "1  0.319748  \n",
       "2  0.600374  \n",
       "3  1.216913  \n",
       "4  2.101550  \n",
       "\n",
       "[5 rows x 47 columns]"
      ]
     },
     "execution_count": 13,
     "metadata": {},
     "output_type": "execute_result"
    }
   ],
   "source": [
    "ratings_pred = predict_rating(ratings.values, item_sim_df.values)\n",
    "ratings_pred_matrix = pd.DataFrame(data=ratings_pred, index=ratings.index, columns=ratings.columns)\n",
    "ratings_pred_matrix.head(5)"
   ]
  },
  {
   "cell_type": "code",
   "execution_count": 14,
   "id": "reserved-reservoir",
   "metadata": {},
   "outputs": [
    {
     "data": {
      "text/html": [
       "<div>\n",
       "<style scoped>\n",
       "    .dataframe tbody tr th:only-of-type {\n",
       "        vertical-align: middle;\n",
       "    }\n",
       "\n",
       "    .dataframe tbody tr th {\n",
       "        vertical-align: top;\n",
       "    }\n",
       "\n",
       "    .dataframe thead th {\n",
       "        text-align: right;\n",
       "    }\n",
       "</style>\n",
       "<table border=\"1\" class=\"dataframe\">\n",
       "  <thead>\n",
       "    <tr style=\"text-align: right;\">\n",
       "      <th></th>\n",
       "      <th>신의 탑</th>\n",
       "      <th>참교육</th>\n",
       "      <th>뷰티풀 군바리</th>\n",
       "      <th>윈드브레이커</th>\n",
       "      <th>백수세끼</th>\n",
       "      <th>파이게임</th>\n",
       "      <th>장씨세가 호위무사</th>\n",
       "      <th>여신강림</th>\n",
       "      <th>용사가 돌아왔다</th>\n",
       "      <th>바른연애 길잡이</th>\n",
       "      <th>...</th>\n",
       "      <th>스퍼맨 : 전하지 못한 이야기</th>\n",
       "      <th>광장</th>\n",
       "      <th>조조코믹스</th>\n",
       "      <th>싸움독학</th>\n",
       "      <th>이번 생도 잘 부탁해</th>\n",
       "      <th>약한영웅</th>\n",
       "      <th>열렙전사</th>\n",
       "      <th>수희0(tngmlek0)</th>\n",
       "      <th>입학용병</th>\n",
       "      <th>투신전생기</th>\n",
       "    </tr>\n",
       "  </thead>\n",
       "  <tbody>\n",
       "    <tr>\n",
       "      <th>0</th>\n",
       "      <td>10.0</td>\n",
       "      <td>0.0</td>\n",
       "      <td>6.0</td>\n",
       "      <td>0.0</td>\n",
       "      <td>8.0</td>\n",
       "      <td>10.0</td>\n",
       "      <td>0.0</td>\n",
       "      <td>4.0</td>\n",
       "      <td>0.0</td>\n",
       "      <td>0.0</td>\n",
       "      <td>...</td>\n",
       "      <td>0.0</td>\n",
       "      <td>0.0</td>\n",
       "      <td>9.0</td>\n",
       "      <td>0.0</td>\n",
       "      <td>0.0</td>\n",
       "      <td>7.0</td>\n",
       "      <td>0.0</td>\n",
       "      <td>0.0</td>\n",
       "      <td>0.0</td>\n",
       "      <td>0.0</td>\n",
       "    </tr>\n",
       "    <tr>\n",
       "      <th>1</th>\n",
       "      <td>0.0</td>\n",
       "      <td>0.0</td>\n",
       "      <td>0.0</td>\n",
       "      <td>0.0</td>\n",
       "      <td>5.0</td>\n",
       "      <td>0.0</td>\n",
       "      <td>0.0</td>\n",
       "      <td>5.0</td>\n",
       "      <td>0.0</td>\n",
       "      <td>10.0</td>\n",
       "      <td>...</td>\n",
       "      <td>0.0</td>\n",
       "      <td>0.0</td>\n",
       "      <td>0.0</td>\n",
       "      <td>0.0</td>\n",
       "      <td>0.0</td>\n",
       "      <td>0.0</td>\n",
       "      <td>0.0</td>\n",
       "      <td>0.0</td>\n",
       "      <td>0.0</td>\n",
       "      <td>0.0</td>\n",
       "    </tr>\n",
       "    <tr>\n",
       "      <th>2</th>\n",
       "      <td>8.0</td>\n",
       "      <td>0.0</td>\n",
       "      <td>0.0</td>\n",
       "      <td>0.0</td>\n",
       "      <td>0.0</td>\n",
       "      <td>0.0</td>\n",
       "      <td>0.0</td>\n",
       "      <td>0.0</td>\n",
       "      <td>0.0</td>\n",
       "      <td>0.0</td>\n",
       "      <td>...</td>\n",
       "      <td>0.0</td>\n",
       "      <td>0.0</td>\n",
       "      <td>0.0</td>\n",
       "      <td>5.0</td>\n",
       "      <td>0.0</td>\n",
       "      <td>0.0</td>\n",
       "      <td>0.0</td>\n",
       "      <td>0.0</td>\n",
       "      <td>0.0</td>\n",
       "      <td>0.0</td>\n",
       "    </tr>\n",
       "    <tr>\n",
       "      <th>3</th>\n",
       "      <td>6.0</td>\n",
       "      <td>0.0</td>\n",
       "      <td>4.0</td>\n",
       "      <td>8.0</td>\n",
       "      <td>4.0</td>\n",
       "      <td>0.0</td>\n",
       "      <td>0.0</td>\n",
       "      <td>5.0</td>\n",
       "      <td>0.0</td>\n",
       "      <td>0.0</td>\n",
       "      <td>...</td>\n",
       "      <td>0.0</td>\n",
       "      <td>0.0</td>\n",
       "      <td>0.0</td>\n",
       "      <td>0.0</td>\n",
       "      <td>10.0</td>\n",
       "      <td>0.0</td>\n",
       "      <td>0.0</td>\n",
       "      <td>0.0</td>\n",
       "      <td>0.0</td>\n",
       "      <td>0.0</td>\n",
       "    </tr>\n",
       "    <tr>\n",
       "      <th>4</th>\n",
       "      <td>10.0</td>\n",
       "      <td>0.0</td>\n",
       "      <td>0.0</td>\n",
       "      <td>8.0</td>\n",
       "      <td>0.0</td>\n",
       "      <td>9.0</td>\n",
       "      <td>0.0</td>\n",
       "      <td>9.0</td>\n",
       "      <td>0.0</td>\n",
       "      <td>10.0</td>\n",
       "      <td>...</td>\n",
       "      <td>0.0</td>\n",
       "      <td>0.0</td>\n",
       "      <td>0.0</td>\n",
       "      <td>0.0</td>\n",
       "      <td>10.0</td>\n",
       "      <td>0.0</td>\n",
       "      <td>0.0</td>\n",
       "      <td>0.0</td>\n",
       "      <td>0.0</td>\n",
       "      <td>0.0</td>\n",
       "    </tr>\n",
       "  </tbody>\n",
       "</table>\n",
       "<p>5 rows × 47 columns</p>\n",
       "</div>"
      ],
      "text/plain": [
       "   신의 탑  참교육  뷰티풀 군바리  윈드브레이커  백수세끼  파이게임  장씨세가 호위무사  여신강림  용사가 돌아왔다  \\\n",
       "0  10.0  0.0      6.0     0.0   8.0  10.0        0.0   4.0       0.0   \n",
       "1   0.0  0.0      0.0     0.0   5.0   0.0        0.0   5.0       0.0   \n",
       "2   8.0  0.0      0.0     0.0   0.0   0.0        0.0   0.0       0.0   \n",
       "3   6.0  0.0      4.0     8.0   4.0   0.0        0.0   5.0       0.0   \n",
       "4  10.0  0.0      0.0     8.0   0.0   9.0        0.0   9.0       0.0   \n",
       "\n",
       "   바른연애 길잡이  ...  스퍼맨 : 전하지 못한 이야기   광장  조조코믹스  싸움독학  이번 생도 잘 부탁해  약한영웅  열렙전사  \\\n",
       "0       0.0  ...               0.0  0.0    9.0   0.0          0.0   7.0   0.0   \n",
       "1      10.0  ...               0.0  0.0    0.0   0.0          0.0   0.0   0.0   \n",
       "2       0.0  ...               0.0  0.0    0.0   5.0          0.0   0.0   0.0   \n",
       "3       0.0  ...               0.0  0.0    0.0   0.0         10.0   0.0   0.0   \n",
       "4      10.0  ...               0.0  0.0    0.0   0.0         10.0   0.0   0.0   \n",
       "\n",
       "   수희0(tngmlek0)  입학용병  투신전생기  \n",
       "0            0.0   0.0    0.0  \n",
       "1            0.0   0.0    0.0  \n",
       "2            0.0   0.0    0.0  \n",
       "3            0.0   0.0    0.0  \n",
       "4            0.0   0.0    0.0  \n",
       "\n",
       "[5 rows x 47 columns]"
      ]
     },
     "execution_count": 14,
     "metadata": {},
     "output_type": "execute_result"
    }
   ],
   "source": [
    "ratings.head(5)"
   ]
  },
  {
   "cell_type": "markdown",
   "id": "downtown-oxford",
   "metadata": {},
   "source": [
    "## 3-1. error 계산"
   ]
  },
  {
   "cell_type": "markdown",
   "id": "meaning-burke",
   "metadata": {},
   "source": [
    "- MSE 이용"
   ]
  },
  {
   "cell_type": "code",
   "execution_count": 15,
   "id": "efficient-justice",
   "metadata": {},
   "outputs": [],
   "source": [
    "from sklearn.metrics import mean_squared_error\n",
    "\n",
    "# 사용자가 평점을 부여한 웹툰에 대해서만 MSE를 구함\n",
    "def get_mse(pred, actual):\n",
    "    pred = pred[actual.nonzero()].flatten()\n",
    "    actual = actual[actual.nonzero()].flatten()\n",
    "    return mean_squared_error(pred, actual)"
   ]
  },
  {
   "cell_type": "code",
   "execution_count": 16,
   "id": "combined-interface",
   "metadata": {},
   "outputs": [
    {
     "name": "stdout",
     "output_type": "stream",
     "text": [
      "아이템 기반 모든 최근접이웃 MSE: 15.192107129183672\n"
     ]
    }
   ],
   "source": [
    "print(\"아이템 기반 모든 최근접이웃 MSE:\", get_mse(ratings_pred, ratings.values))"
   ]
  },
  {
   "cell_type": "markdown",
   "id": "rocky-treasury",
   "metadata": {},
   "source": [
    "## 3-2. 개인 맞춤 웹툰 추천"
   ]
  },
  {
   "cell_type": "code",
   "execution_count": 17,
   "id": "decreased-adelaide",
   "metadata": {},
   "outputs": [],
   "source": [
    "def predict_ratings_topsim(ratings_arr, item_sim_arr, n=5):\n",
    "    \n",
    "    pred = np.zeros(ratings_arr.shape)\n",
    "    \n",
    "    for col in range(ratings_arr.shape[1]):\n",
    "        # 유사도 행렬에서 유사도가 큰 순으로 n개 데이터 행렬의 인덱스 반환\n",
    "        top_n_items = [np.argsort(item_sim_arr[:, col])[:-n-1:-1]]\n",
    "        \n",
    "        # 개인화된 예측 평점 계산\n",
    "        for row in range(ratings_arr.shape[0]):\n",
    "            pred[row, col] = item_sim_arr[col, :][top_n_items].dot(ratings_arr[row,:][top_n_items].T)\n",
    "            pred[row, col] /= np.sum(np.abs(item_sim_arr[col, :][top_n_items]))\n",
    "            \n",
    "    return pred"
   ]
  },
  {
   "cell_type": "code",
   "execution_count": 18,
   "id": "premium-basketball",
   "metadata": {},
   "outputs": [
    {
     "name": "stdout",
     "output_type": "stream",
     "text": [
      "아이템 기반 모든 최근접이웃 MSE: 5.553229365479863\n"
     ]
    },
    {
     "name": "stderr",
     "output_type": "stream",
     "text": [
      "C:\\Users\\gunso\\anaconda3\\lib\\site-packages\\ipykernel_launcher.py:11: FutureWarning: Using a non-tuple sequence for multidimensional indexing is deprecated; use `arr[tuple(seq)]` instead of `arr[seq]`. In the future this will be interpreted as an array index, `arr[np.array(seq)]`, which will result either in an error or a different result.\n",
      "  # This is added back by InteractiveShellApp.init_path()\n",
      "C:\\Users\\gunso\\anaconda3\\lib\\site-packages\\ipykernel_launcher.py:12: FutureWarning: Using a non-tuple sequence for multidimensional indexing is deprecated; use `arr[tuple(seq)]` instead of `arr[seq]`. In the future this will be interpreted as an array index, `arr[np.array(seq)]`, which will result either in an error or a different result.\n",
      "  if sys.path[0] == '':\n"
     ]
    }
   ],
   "source": [
    "ratings_pred = predict_ratings_topsim(ratings.values, item_sim_df.values, n=5)\n",
    "print(\"아이템 기반 모든 최근접이웃 MSE:\", get_mse(ratings_pred, ratings.values))"
   ]
  },
  {
   "cell_type": "code",
   "execution_count": 19,
   "id": "offensive-excuse",
   "metadata": {},
   "outputs": [],
   "source": [
    "# 계산된 예측 평점 데이터는 DataFrame으로 재생성\n",
    "ratings_pred_matrix = pd.DataFrame(data=ratings_pred, index=ratings.index, columns = ratings.columns)"
   ]
  },
  {
   "cell_type": "code",
   "execution_count": 20,
   "id": "decent-colony",
   "metadata": {},
   "outputs": [
    {
     "data": {
      "text/plain": [
       "신의 탑         10.0\n",
       "파이게임         10.0\n",
       "기기괴괴         10.0\n",
       "묵시의 인플루언서    10.0\n",
       "데드퀸          10.0\n",
       "Name: 0, dtype: float64"
      ]
     },
     "execution_count": 20,
     "metadata": {},
     "output_type": "execute_result"
    }
   ],
   "source": [
    "# user 0번이 평점을 준 웹툰 중 높은 순으로 5개 나열\n",
    "user_rating_id = ratings.loc[0, :]\n",
    "user_rating_id[user_rating_id > 0].sort_values(ascending = False)[:5]"
   ]
  },
  {
   "cell_type": "code",
   "execution_count": 21,
   "id": "happy-butterfly",
   "metadata": {},
   "outputs": [],
   "source": [
    "# user 0에게 협업 필터링을 이용해 추천\n",
    "def get_unseen(ratings_matrix, userId):\n",
    "    user_rating = ratings_matrix.loc[userId, :]\n",
    "    \n",
    "    already_seen = user_rating[user_rating > 0].index.tolist()\n",
    "    webtoon_list = ratings_matrix.columns.tolist()\n",
    "    \n",
    "    unseen_list = [w for w in webtoon_list if w not in already_seen]\n",
    "    \n",
    "    return unseen_list"
   ]
  },
  {
   "cell_type": "code",
   "execution_count": 22,
   "id": "sound-array",
   "metadata": {},
   "outputs": [],
   "source": [
    "def recomm_webtoon_by_userid(pred_df, userId, unseen_list, top_n=5):\n",
    "    recomm = pred_df.loc[userId, unseen_list].sort_values(ascending=False)[:top_n]\n",
    "    return recomm"
   ]
  },
  {
   "cell_type": "code",
   "execution_count": 23,
   "id": "organizational-treaty",
   "metadata": {},
   "outputs": [
    {
     "data": {
      "text/html": [
       "<div>\n",
       "<style scoped>\n",
       "    .dataframe tbody tr th:only-of-type {\n",
       "        vertical-align: middle;\n",
       "    }\n",
       "\n",
       "    .dataframe tbody tr th {\n",
       "        vertical-align: top;\n",
       "    }\n",
       "\n",
       "    .dataframe thead th {\n",
       "        text-align: right;\n",
       "    }\n",
       "</style>\n",
       "<table border=\"1\" class=\"dataframe\">\n",
       "  <thead>\n",
       "    <tr style=\"text-align: right;\">\n",
       "      <th></th>\n",
       "      <th>pred_score</th>\n",
       "    </tr>\n",
       "  </thead>\n",
       "  <tbody>\n",
       "    <tr>\n",
       "      <th>모죠의 일지</th>\n",
       "      <td>3.486631</td>\n",
       "    </tr>\n",
       "    <tr>\n",
       "      <th>헬퍼 2 : 킬베로스</th>\n",
       "      <td>2.991267</td>\n",
       "    </tr>\n",
       "    <tr>\n",
       "      <th>연애혁명</th>\n",
       "      <td>2.711037</td>\n",
       "    </tr>\n",
       "    <tr>\n",
       "      <th>더 복서</th>\n",
       "      <td>2.582304</td>\n",
       "    </tr>\n",
       "    <tr>\n",
       "      <th>열렙전사</th>\n",
       "      <td>1.988920</td>\n",
       "    </tr>\n",
       "  </tbody>\n",
       "</table>\n",
       "</div>"
      ],
      "text/plain": [
       "             pred_score\n",
       "모죠의 일지         3.486631\n",
       "헬퍼 2 : 킬베로스    2.991267\n",
       "연애혁명           2.711037\n",
       "더 복서           2.582304\n",
       "열렙전사           1.988920"
      ]
     },
     "execution_count": 23,
     "metadata": {},
     "output_type": "execute_result"
    }
   ],
   "source": [
    "unseen_list = get_unseen(ratings, 0)\n",
    "recomm = recomm_webtoon_by_userid(ratings_pred_matrix, 0, unseen_list, top_n=5)\n",
    "recomm = pd.DataFrame(data=recomm.values, index=recomm.index, columns = ['pred_score'])\n",
    "recomm"
   ]
  },
  {
   "cell_type": "code",
   "execution_count": 24,
   "id": "aquatic-place",
   "metadata": {},
   "outputs": [
    {
     "data": {
      "text/plain": [
       "신의 탑            10.0\n",
       "바른연애 길잡이        10.0\n",
       "하루만 네가 되고 싶어    10.0\n",
       "전지적 독자 시점       10.0\n",
       "개를 낳았다          10.0\n",
       "Name: 4, dtype: float64"
      ]
     },
     "execution_count": 24,
     "metadata": {},
     "output_type": "execute_result"
    }
   ],
   "source": [
    "user_rating_id = ratings.loc[4, :]\n",
    "user_rating_id[user_rating_id > 0].sort_values(ascending = False)[:5]"
   ]
  },
  {
   "cell_type": "code",
   "execution_count": 25,
   "id": "ordered-friday",
   "metadata": {},
   "outputs": [
    {
     "data": {
      "text/html": [
       "<div>\n",
       "<style scoped>\n",
       "    .dataframe tbody tr th:only-of-type {\n",
       "        vertical-align: middle;\n",
       "    }\n",
       "\n",
       "    .dataframe tbody tr th {\n",
       "        vertical-align: top;\n",
       "    }\n",
       "\n",
       "    .dataframe thead th {\n",
       "        text-align: right;\n",
       "    }\n",
       "</style>\n",
       "<table border=\"1\" class=\"dataframe\">\n",
       "  <thead>\n",
       "    <tr style=\"text-align: right;\">\n",
       "      <th></th>\n",
       "      <th>pred_score</th>\n",
       "    </tr>\n",
       "  </thead>\n",
       "  <tbody>\n",
       "    <tr>\n",
       "      <th>1초</th>\n",
       "      <td>9.084722</td>\n",
       "    </tr>\n",
       "    <tr>\n",
       "      <th>묵시의 인플루언서</th>\n",
       "      <td>8.709469</td>\n",
       "    </tr>\n",
       "    <tr>\n",
       "      <th>조조코믹스</th>\n",
       "      <td>6.528567</td>\n",
       "    </tr>\n",
       "    <tr>\n",
       "      <th>백수세끼</th>\n",
       "      <td>6.521696</td>\n",
       "    </tr>\n",
       "    <tr>\n",
       "      <th>뷰티풀 군바리</th>\n",
       "      <td>6.417854</td>\n",
       "    </tr>\n",
       "  </tbody>\n",
       "</table>\n",
       "</div>"
      ],
      "text/plain": [
       "           pred_score\n",
       "1초           9.084722\n",
       "묵시의 인플루언서    8.709469\n",
       "조조코믹스        6.528567\n",
       "백수세끼         6.521696\n",
       "뷰티풀 군바리      6.417854"
      ]
     },
     "execution_count": 25,
     "metadata": {},
     "output_type": "execute_result"
    }
   ],
   "source": [
    "unseen_list = get_unseen(ratings, 4)\n",
    "recomm = recomm_webtoon_by_userid(ratings_pred_matrix, 0, unseen_list, top_n=5)\n",
    "recomm = pd.DataFrame(data=recomm.values, index=recomm.index, columns = ['pred_score'])\n",
    "recomm"
   ]
  },
  {
   "cell_type": "code",
   "execution_count": 26,
   "id": "steady-outline",
   "metadata": {},
   "outputs": [
    {
     "data": {
      "text/plain": [
       "바른연애 길잡이    10.0\n",
       "1초          10.0\n",
       "프리드로우       10.0\n",
       "싸움독학        10.0\n",
       "연애혁명         9.0\n",
       "Name: 7, dtype: float64"
      ]
     },
     "execution_count": 26,
     "metadata": {},
     "output_type": "execute_result"
    }
   ],
   "source": [
    "user_rating_id = ratings.loc[7, :]\n",
    "user_rating_id[user_rating_id > 0].sort_values(ascending = False)[:5]"
   ]
  },
  {
   "cell_type": "code",
   "execution_count": 27,
   "id": "painful-liver",
   "metadata": {},
   "outputs": [
    {
     "data": {
      "text/html": [
       "<div>\n",
       "<style scoped>\n",
       "    .dataframe tbody tr th:only-of-type {\n",
       "        vertical-align: middle;\n",
       "    }\n",
       "\n",
       "    .dataframe tbody tr th {\n",
       "        vertical-align: top;\n",
       "    }\n",
       "\n",
       "    .dataframe thead th {\n",
       "        text-align: right;\n",
       "    }\n",
       "</style>\n",
       "<table border=\"1\" class=\"dataframe\">\n",
       "  <thead>\n",
       "    <tr style=\"text-align: right;\">\n",
       "      <th></th>\n",
       "      <th>pred_score</th>\n",
       "    </tr>\n",
       "  </thead>\n",
       "  <tbody>\n",
       "    <tr>\n",
       "      <th>묵시의 인플루언서</th>\n",
       "      <td>8.709469</td>\n",
       "    </tr>\n",
       "    <tr>\n",
       "      <th>한림체육관</th>\n",
       "      <td>4.902992</td>\n",
       "    </tr>\n",
       "    <tr>\n",
       "      <th>데드퀸</th>\n",
       "      <td>3.884735</td>\n",
       "    </tr>\n",
       "    <tr>\n",
       "      <th>호랑이형님</th>\n",
       "      <td>3.758873</td>\n",
       "    </tr>\n",
       "    <tr>\n",
       "      <th>취사병 전설이 되다</th>\n",
       "      <td>3.679245</td>\n",
       "    </tr>\n",
       "  </tbody>\n",
       "</table>\n",
       "</div>"
      ],
      "text/plain": [
       "            pred_score\n",
       "묵시의 인플루언서     8.709469\n",
       "한림체육관         4.902992\n",
       "데드퀸           3.884735\n",
       "호랑이형님         3.758873\n",
       "취사병 전설이 되다    3.679245"
      ]
     },
     "execution_count": 27,
     "metadata": {},
     "output_type": "execute_result"
    }
   ],
   "source": [
    "unseen_list = get_unseen(ratings, 7)\n",
    "recomm = recomm_webtoon_by_userid(ratings_pred_matrix, 0, unseen_list, top_n=5)\n",
    "recomm = pd.DataFrame(data=recomm.values, index=recomm.index, columns = ['pred_score'])\n",
    "recomm"
   ]
  },
  {
   "cell_type": "code",
   "execution_count": 28,
   "id": "fossil-sender",
   "metadata": {},
   "outputs": [
    {
     "data": {
      "text/plain": [
       "바른연애 길잡이    10.0\n",
       "백수세끼         5.0\n",
       "여신강림         5.0\n",
       "Name: 1, dtype: float64"
      ]
     },
     "execution_count": 28,
     "metadata": {},
     "output_type": "execute_result"
    }
   ],
   "source": [
    "user_rating_id = ratings.loc[1, :]\n",
    "user_rating_id[user_rating_id > 0].sort_values(ascending = False)[:5]"
   ]
  },
  {
   "cell_type": "code",
   "execution_count": 1,
   "id": "indonesian-georgia",
   "metadata": {},
   "outputs": [
    {
     "ename": "NameError",
     "evalue": "name 'get_unseen' is not defined",
     "output_type": "error",
     "traceback": [
      "\u001b[1;31m---------------------------------------------------------------------------\u001b[0m",
      "\u001b[1;31mNameError\u001b[0m                                 Traceback (most recent call last)",
      "\u001b[1;32m<ipython-input-1-75c93b0dc409>\u001b[0m in \u001b[0;36m<module>\u001b[1;34m\u001b[0m\n\u001b[1;32m----> 1\u001b[1;33m \u001b[0munseen_list\u001b[0m \u001b[1;33m=\u001b[0m \u001b[0mget_unseen\u001b[0m\u001b[1;33m(\u001b[0m\u001b[0mratings\u001b[0m\u001b[1;33m,\u001b[0m \u001b[1;36m1\u001b[0m\u001b[1;33m)\u001b[0m\u001b[1;33m\u001b[0m\u001b[1;33m\u001b[0m\u001b[0m\n\u001b[0m\u001b[0;32m      2\u001b[0m \u001b[0mrecomm\u001b[0m \u001b[1;33m=\u001b[0m \u001b[0mrecomm_webtoon_by_userid\u001b[0m\u001b[1;33m(\u001b[0m\u001b[0mratings_pred_matrix\u001b[0m\u001b[1;33m,\u001b[0m \u001b[1;36m1\u001b[0m\u001b[1;33m,\u001b[0m \u001b[0munseen_list\u001b[0m\u001b[1;33m,\u001b[0m \u001b[0mtop_n\u001b[0m\u001b[1;33m=\u001b[0m\u001b[1;36m5\u001b[0m\u001b[1;33m)\u001b[0m\u001b[1;33m\u001b[0m\u001b[1;33m\u001b[0m\u001b[0m\n\u001b[0;32m      3\u001b[0m \u001b[0mrecomm\u001b[0m \u001b[1;33m=\u001b[0m \u001b[0mpd\u001b[0m\u001b[1;33m.\u001b[0m\u001b[0mDataFrame\u001b[0m\u001b[1;33m(\u001b[0m\u001b[0mdata\u001b[0m\u001b[1;33m=\u001b[0m\u001b[0mrecomm\u001b[0m\u001b[1;33m.\u001b[0m\u001b[0mvalues\u001b[0m\u001b[1;33m,\u001b[0m \u001b[0mindex\u001b[0m\u001b[1;33m=\u001b[0m\u001b[0mrecomm\u001b[0m\u001b[1;33m.\u001b[0m\u001b[0mindex\u001b[0m\u001b[1;33m,\u001b[0m \u001b[0mcolumns\u001b[0m \u001b[1;33m=\u001b[0m \u001b[1;33m[\u001b[0m\u001b[1;34m'pred_score'\u001b[0m\u001b[1;33m]\u001b[0m\u001b[1;33m)\u001b[0m\u001b[1;33m\u001b[0m\u001b[1;33m\u001b[0m\u001b[0m\n\u001b[0;32m      4\u001b[0m \u001b[0mrecomm\u001b[0m\u001b[1;33m\u001b[0m\u001b[1;33m\u001b[0m\u001b[0m\n",
      "\u001b[1;31mNameError\u001b[0m: name 'get_unseen' is not defined"
     ]
    }
   ],
   "source": [
    "unseen_list = get_unseen(ratings, 1)\n",
    "recomm = recomm_webtoon_by_userid(ratings_pred_matrix, 1, unseen_list, top_n=5)\n",
    "recomm = pd.DataFrame(data=recomm.values, index=recomm.index, columns = ['pred_score'])\n",
    "recomm"
   ]
  },
  {
   "cell_type": "code",
   "execution_count": 32,
   "id": "assigned-twist",
   "metadata": {},
   "outputs": [
    {
     "data": {
      "text/plain": [
       "캐슬             10.0\n",
       "더 복서           10.0\n",
       "모죠의 일지          9.0\n",
       "이번 생도 잘 부탁해     9.0\n",
       "광장              9.0\n",
       "Name: 8, dtype: float64"
      ]
     },
     "execution_count": 32,
     "metadata": {},
     "output_type": "execute_result"
    }
   ],
   "source": [
    "user_rating_id = ratings.loc[9, :]\n",
    "user_rating_id[user_rating_id > 0].sort_values(ascending = False)[:5]"
   ]
  },
  {
   "cell_type": "code",
   "execution_count": 33,
   "id": "referenced-oklahoma",
   "metadata": {},
   "outputs": [
    {
     "data": {
      "text/html": [
       "<div>\n",
       "<style scoped>\n",
       "    .dataframe tbody tr th:only-of-type {\n",
       "        vertical-align: middle;\n",
       "    }\n",
       "\n",
       "    .dataframe tbody tr th {\n",
       "        vertical-align: top;\n",
       "    }\n",
       "\n",
       "    .dataframe thead th {\n",
       "        text-align: right;\n",
       "    }\n",
       "</style>\n",
       "<table border=\"1\" class=\"dataframe\">\n",
       "  <thead>\n",
       "    <tr style=\"text-align: right;\">\n",
       "      <th></th>\n",
       "      <th>pred_score</th>\n",
       "    </tr>\n",
       "  </thead>\n",
       "  <tbody>\n",
       "    <tr>\n",
       "      <th>묵시의 인플루언서</th>\n",
       "      <td>8.709469</td>\n",
       "    </tr>\n",
       "    <tr>\n",
       "      <th>조조코믹스</th>\n",
       "      <td>6.528567</td>\n",
       "    </tr>\n",
       "    <tr>\n",
       "      <th>한림체육관</th>\n",
       "      <td>4.902992</td>\n",
       "    </tr>\n",
       "    <tr>\n",
       "      <th>데드퀸</th>\n",
       "      <td>3.884735</td>\n",
       "    </tr>\n",
       "    <tr>\n",
       "      <th>취사병 전설이 되다</th>\n",
       "      <td>3.679245</td>\n",
       "    </tr>\n",
       "  </tbody>\n",
       "</table>\n",
       "</div>"
      ],
      "text/plain": [
       "            pred_score\n",
       "묵시의 인플루언서     8.709469\n",
       "조조코믹스         6.528567\n",
       "한림체육관         4.902992\n",
       "데드퀸           3.884735\n",
       "취사병 전설이 되다    3.679245"
      ]
     },
     "execution_count": 33,
     "metadata": {},
     "output_type": "execute_result"
    }
   ],
   "source": [
    "unseen_list = get_unseen(ratings, 9)\n",
    "recomm = recomm_webtoon_by_userid(ratings_pred_matrix, 0, unseen_list, top_n=5)\n",
    "recomm = pd.DataFrame(data=recomm.values, index=recomm.index, columns = ['pred_score'])\n",
    "recomm"
   ]
  },
  {
   "cell_type": "markdown",
   "id": "acceptable-studio",
   "metadata": {},
   "source": [
    "## 3-3. 문제점"
   ]
  },
  {
   "cell_type": "markdown",
   "id": "black-privacy",
   "metadata": {},
   "source": [
    "1. 보기로 넣어둔 47개의 웹툰 내에서 추천이 진행됨\n",
    "    - 사용자 0번의 경우 pred_score가 제일 높은 것이 5보다 작은데, 47개 내에 추천할만한 작품이 없다는 뜻임\n",
    "2. 본 작품과 추천작품의 연관성이 크게 보이지 않음\n",
    "    - 인기작인 경우"
   ]
  }
 ],
 "metadata": {
  "kernelspec": {
   "display_name": "Python 3",
   "language": "python",
   "name": "python3"
  },
  "language_info": {
   "codemirror_mode": {
    "name": "ipython",
    "version": 3
   },
   "file_extension": ".py",
   "mimetype": "text/x-python",
   "name": "python",
   "nbconvert_exporter": "python",
   "pygments_lexer": "ipython3",
   "version": "3.7.9"
  }
 },
 "nbformat": 4,
 "nbformat_minor": 5
}
