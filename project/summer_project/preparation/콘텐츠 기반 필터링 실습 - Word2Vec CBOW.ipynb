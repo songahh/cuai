{
 "cells": [
  {
   "cell_type": "code",
   "execution_count": 1,
   "id": "growing-tennis",
   "metadata": {},
   "outputs": [
    {
     "name": "stderr",
     "output_type": "stream",
     "text": [
      "C:\\Users\\gunso\\anaconda3\\lib\\site-packages\\gensim\\similarities\\__init__.py:15: UserWarning: The gensim.similarities.levenshtein submodule is disabled, because the optional Levenshtein package <https://pypi.org/project/python-Levenshtein/> is unavailable. Install Levenhstein (e.g. `pip install python-Levenshtein`) to suppress this warning.\n",
      "  warnings.warn(msg)\n"
     ]
    }
   ],
   "source": [
    "from sklearn.feature_extraction.text import TfidfVectorizer\n",
    "import pandas as pd\n",
    "import numpy as np\n",
    "import gensim\n",
    "import warnings\n",
    "warnings.filterwarnings(action='ignore')"
   ]
  },
  {
   "cell_type": "markdown",
   "id": "electronic-cocktail",
   "metadata": {},
   "source": [
    "# 1) data load"
   ]
  },
  {
   "cell_type": "code",
   "execution_count": 2,
   "id": "adopted-divorce",
   "metadata": {},
   "outputs": [
    {
     "data": {
      "text/html": [
       "<div>\n",
       "<style scoped>\n",
       "    .dataframe tbody tr th:only-of-type {\n",
       "        vertical-align: middle;\n",
       "    }\n",
       "\n",
       "    .dataframe tbody tr th {\n",
       "        vertical-align: top;\n",
       "    }\n",
       "\n",
       "    .dataframe thead th {\n",
       "        text-align: right;\n",
       "    }\n",
       "</style>\n",
       "<table border=\"1\" class=\"dataframe\">\n",
       "  <thead>\n",
       "    <tr style=\"text-align: right;\">\n",
       "      <th></th>\n",
       "      <th>userId</th>\n",
       "      <th>movieId</th>\n",
       "      <th>rating</th>\n",
       "      <th>timestamp</th>\n",
       "    </tr>\n",
       "  </thead>\n",
       "  <tbody>\n",
       "    <tr>\n",
       "      <th>0</th>\n",
       "      <td>1</td>\n",
       "      <td>31</td>\n",
       "      <td>2.5</td>\n",
       "      <td>1260759144</td>\n",
       "    </tr>\n",
       "    <tr>\n",
       "      <th>1</th>\n",
       "      <td>1</td>\n",
       "      <td>1029</td>\n",
       "      <td>3.0</td>\n",
       "      <td>1260759179</td>\n",
       "    </tr>\n",
       "  </tbody>\n",
       "</table>\n",
       "</div>"
      ],
      "text/plain": [
       "   userId  movieId  rating   timestamp\n",
       "0       1       31     2.5  1260759144\n",
       "1       1     1029     3.0  1260759179"
      ]
     },
     "execution_count": 2,
     "metadata": {},
     "output_type": "execute_result"
    }
   ],
   "source": [
    "movie = pd.read_csv('ratings.csv', low_memory = False)\n",
    "movie.head(2)"
   ]
  },
  {
   "cell_type": "code",
   "execution_count": 3,
   "id": "accessory-hydrogen",
   "metadata": {},
   "outputs": [
    {
     "data": {
      "text/html": [
       "<div>\n",
       "<style scoped>\n",
       "    .dataframe tbody tr th:only-of-type {\n",
       "        vertical-align: middle;\n",
       "    }\n",
       "\n",
       "    .dataframe tbody tr th {\n",
       "        vertical-align: top;\n",
       "    }\n",
       "\n",
       "    .dataframe thead th {\n",
       "        text-align: right;\n",
       "    }\n",
       "</style>\n",
       "<table border=\"1\" class=\"dataframe\">\n",
       "  <thead>\n",
       "    <tr style=\"text-align: right;\">\n",
       "      <th></th>\n",
       "      <th>userId</th>\n",
       "      <th>movieId</th>\n",
       "      <th>rating</th>\n",
       "      <th>timestamp</th>\n",
       "    </tr>\n",
       "  </thead>\n",
       "  <tbody>\n",
       "    <tr>\n",
       "      <th>0</th>\n",
       "      <td>1</td>\n",
       "      <td>31</td>\n",
       "      <td>2.5</td>\n",
       "      <td>1260759144</td>\n",
       "    </tr>\n",
       "    <tr>\n",
       "      <th>1</th>\n",
       "      <td>1</td>\n",
       "      <td>1029</td>\n",
       "      <td>3.0</td>\n",
       "      <td>1260759179</td>\n",
       "    </tr>\n",
       "  </tbody>\n",
       "</table>\n",
       "</div>"
      ],
      "text/plain": [
       "   userId  movieId  rating   timestamp\n",
       "0       1       31     2.5  1260759144\n",
       "1       1     1029     3.0  1260759179"
      ]
     },
     "execution_count": 3,
     "metadata": {},
     "output_type": "execute_result"
    }
   ],
   "source": [
    "# 개봉한지 오래된 순서대로 정렬\n",
    "movie_df = movie.sort_values(by='timestamp', ascending = True).reset_index()\n",
    "movie.head(2)"
   ]
  },
  {
   "cell_type": "markdown",
   "id": "absent-variety",
   "metadata": {},
   "source": [
    "영화의 title이 없음. 영화 metadata를 불러와 movieID와 matching 시켜줌"
   ]
  },
  {
   "cell_type": "code",
   "execution_count": 4,
   "id": "talented-appliance",
   "metadata": {},
   "outputs": [
    {
     "data": {
      "text/html": [
       "<div>\n",
       "<style scoped>\n",
       "    .dataframe tbody tr th:only-of-type {\n",
       "        vertical-align: middle;\n",
       "    }\n",
       "\n",
       "    .dataframe tbody tr th {\n",
       "        vertical-align: top;\n",
       "    }\n",
       "\n",
       "    .dataframe thead th {\n",
       "        text-align: right;\n",
       "    }\n",
       "</style>\n",
       "<table border=\"1\" class=\"dataframe\">\n",
       "  <thead>\n",
       "    <tr style=\"text-align: right;\">\n",
       "      <th></th>\n",
       "      <th>adult</th>\n",
       "      <th>belongs_to_collection</th>\n",
       "      <th>budget</th>\n",
       "      <th>genres</th>\n",
       "      <th>homepage</th>\n",
       "      <th>id</th>\n",
       "      <th>imdb_id</th>\n",
       "      <th>original_language</th>\n",
       "      <th>original_title</th>\n",
       "      <th>overview</th>\n",
       "      <th>...</th>\n",
       "      <th>release_date</th>\n",
       "      <th>revenue</th>\n",
       "      <th>runtime</th>\n",
       "      <th>spoken_languages</th>\n",
       "      <th>status</th>\n",
       "      <th>tagline</th>\n",
       "      <th>title</th>\n",
       "      <th>video</th>\n",
       "      <th>vote_average</th>\n",
       "      <th>vote_count</th>\n",
       "    </tr>\n",
       "  </thead>\n",
       "  <tbody>\n",
       "    <tr>\n",
       "      <th>0</th>\n",
       "      <td>False</td>\n",
       "      <td>{'id': 10194, 'name': 'Toy Story Collection', ...</td>\n",
       "      <td>30000000</td>\n",
       "      <td>[{'id': 16, 'name': 'Animation'}, {'id': 35, '...</td>\n",
       "      <td>http://toystory.disney.com/toy-story</td>\n",
       "      <td>862</td>\n",
       "      <td>tt0114709</td>\n",
       "      <td>en</td>\n",
       "      <td>Toy Story</td>\n",
       "      <td>Led by Woody, Andy's toys live happily in his ...</td>\n",
       "      <td>...</td>\n",
       "      <td>1995-10-30</td>\n",
       "      <td>373554033.0</td>\n",
       "      <td>81.0</td>\n",
       "      <td>[{'iso_639_1': 'en', 'name': 'English'}]</td>\n",
       "      <td>Released</td>\n",
       "      <td>NaN</td>\n",
       "      <td>Toy Story</td>\n",
       "      <td>False</td>\n",
       "      <td>7.7</td>\n",
       "      <td>5415.0</td>\n",
       "    </tr>\n",
       "    <tr>\n",
       "      <th>1</th>\n",
       "      <td>False</td>\n",
       "      <td>NaN</td>\n",
       "      <td>65000000</td>\n",
       "      <td>[{'id': 12, 'name': 'Adventure'}, {'id': 14, '...</td>\n",
       "      <td>NaN</td>\n",
       "      <td>8844</td>\n",
       "      <td>tt0113497</td>\n",
       "      <td>en</td>\n",
       "      <td>Jumanji</td>\n",
       "      <td>When siblings Judy and Peter discover an encha...</td>\n",
       "      <td>...</td>\n",
       "      <td>1995-12-15</td>\n",
       "      <td>262797249.0</td>\n",
       "      <td>104.0</td>\n",
       "      <td>[{'iso_639_1': 'en', 'name': 'English'}, {'iso...</td>\n",
       "      <td>Released</td>\n",
       "      <td>Roll the dice and unleash the excitement!</td>\n",
       "      <td>Jumanji</td>\n",
       "      <td>False</td>\n",
       "      <td>6.9</td>\n",
       "      <td>2413.0</td>\n",
       "    </tr>\n",
       "  </tbody>\n",
       "</table>\n",
       "<p>2 rows × 24 columns</p>\n",
       "</div>"
      ],
      "text/plain": [
       "   adult                              belongs_to_collection    budget  \\\n",
       "0  False  {'id': 10194, 'name': 'Toy Story Collection', ...  30000000   \n",
       "1  False                                                NaN  65000000   \n",
       "\n",
       "                                              genres  \\\n",
       "0  [{'id': 16, 'name': 'Animation'}, {'id': 35, '...   \n",
       "1  [{'id': 12, 'name': 'Adventure'}, {'id': 14, '...   \n",
       "\n",
       "                               homepage    id    imdb_id original_language  \\\n",
       "0  http://toystory.disney.com/toy-story   862  tt0114709                en   \n",
       "1                                   NaN  8844  tt0113497                en   \n",
       "\n",
       "  original_title                                           overview  ...  \\\n",
       "0      Toy Story  Led by Woody, Andy's toys live happily in his ...  ...   \n",
       "1        Jumanji  When siblings Judy and Peter discover an encha...  ...   \n",
       "\n",
       "  release_date      revenue runtime  \\\n",
       "0   1995-10-30  373554033.0    81.0   \n",
       "1   1995-12-15  262797249.0   104.0   \n",
       "\n",
       "                                    spoken_languages    status  \\\n",
       "0           [{'iso_639_1': 'en', 'name': 'English'}]  Released   \n",
       "1  [{'iso_639_1': 'en', 'name': 'English'}, {'iso...  Released   \n",
       "\n",
       "                                     tagline      title  video vote_average  \\\n",
       "0                                        NaN  Toy Story  False          7.7   \n",
       "1  Roll the dice and unleash the excitement!    Jumanji  False          6.9   \n",
       "\n",
       "  vote_count  \n",
       "0     5415.0  \n",
       "1     2413.0  \n",
       "\n",
       "[2 rows x 24 columns]"
      ]
     },
     "execution_count": 4,
     "metadata": {},
     "output_type": "execute_result"
    }
   ],
   "source": [
    "movie_meta = pd.read_csv('movies_metadata.csv', low_memory = False)\n",
    "movie_meta.head(2)"
   ]
  },
  {
   "cell_type": "code",
   "execution_count": 5,
   "id": "buried-discharge",
   "metadata": {},
   "outputs": [
    {
     "data": {
      "text/plain": [
       "Index(['adult', 'belongs_to_collection', 'budget', 'genres', 'homepage', 'id',\n",
       "       'imdb_id', 'original_language', 'original_title', 'overview',\n",
       "       'popularity', 'poster_path', 'production_companies',\n",
       "       'production_countries', 'release_date', 'revenue', 'runtime',\n",
       "       'spoken_languages', 'status', 'tagline', 'title', 'video',\n",
       "       'vote_average', 'vote_count'],\n",
       "      dtype='object')"
      ]
     },
     "execution_count": 5,
     "metadata": {},
     "output_type": "execute_result"
    }
   ],
   "source": [
    "movie_meta.columns"
   ]
  },
  {
   "cell_type": "code",
   "execution_count": 6,
   "id": "eligible-contest",
   "metadata": {},
   "outputs": [],
   "source": [
    "# metadata의 id column의 이름을 movieId로 바꿈\n",
    "movie_meta = movie_meta.rename(columns = {'id':'movieId'})\n",
    "\n",
    "# movieId column의 type을 String으로 바꿈\n",
    "movie_df['movieId'] = movie_df['movieId'].astype(str)\n",
    "movie_meta['movieId'] = movie_meta['movieId'].astype(str)\n",
    "\n",
    "movie_df = pd.merge(movie_df, movie_meta[['movieId', 'original_title']], how = 'left', on = 'movieId')"
   ]
  },
  {
   "cell_type": "code",
   "execution_count": 7,
   "id": "secondary-drink",
   "metadata": {},
   "outputs": [
    {
     "data": {
      "text/html": [
       "<div>\n",
       "<style scoped>\n",
       "    .dataframe tbody tr th:only-of-type {\n",
       "        vertical-align: middle;\n",
       "    }\n",
       "\n",
       "    .dataframe tbody tr th {\n",
       "        vertical-align: top;\n",
       "    }\n",
       "\n",
       "    .dataframe thead th {\n",
       "        text-align: right;\n",
       "    }\n",
       "</style>\n",
       "<table border=\"1\" class=\"dataframe\">\n",
       "  <thead>\n",
       "    <tr style=\"text-align: right;\">\n",
       "      <th></th>\n",
       "      <th>index</th>\n",
       "      <th>userId</th>\n",
       "      <th>movieId</th>\n",
       "      <th>rating</th>\n",
       "      <th>timestamp</th>\n",
       "      <th>original_title</th>\n",
       "    </tr>\n",
       "  </thead>\n",
       "  <tbody>\n",
       "    <tr>\n",
       "      <th>0</th>\n",
       "      <td>52635</td>\n",
       "      <td>383</td>\n",
       "      <td>21</td>\n",
       "      <td>3.0</td>\n",
       "      <td>789652009</td>\n",
       "      <td>The Endless Summer</td>\n",
       "    </tr>\n",
       "    <tr>\n",
       "      <th>1</th>\n",
       "      <td>52641</td>\n",
       "      <td>383</td>\n",
       "      <td>47</td>\n",
       "      <td>5.0</td>\n",
       "      <td>789652009</td>\n",
       "      <td>NaN</td>\n",
       "    </tr>\n",
       "    <tr>\n",
       "      <th>2</th>\n",
       "      <td>52684</td>\n",
       "      <td>383</td>\n",
       "      <td>1079</td>\n",
       "      <td>3.0</td>\n",
       "      <td>789652009</td>\n",
       "      <td>NaN</td>\n",
       "    </tr>\n",
       "  </tbody>\n",
       "</table>\n",
       "</div>"
      ],
      "text/plain": [
       "   index  userId movieId  rating  timestamp      original_title\n",
       "0  52635     383      21     3.0  789652009  The Endless Summer\n",
       "1  52641     383      47     5.0  789652009                 NaN\n",
       "2  52684     383    1079     3.0  789652009                 NaN"
      ]
     },
     "execution_count": 7,
     "metadata": {},
     "output_type": "execute_result"
    }
   ],
   "source": [
    "movie_df.head(3)"
   ]
  },
  {
   "cell_type": "code",
   "execution_count": 8,
   "id": "given-parameter",
   "metadata": {},
   "outputs": [],
   "source": [
    "# 'original_title' column이 null값인 row를 drop함\n",
    "movie_df = movie_df[movie_df['original_title'].notnull()].reset_index(drop=True)"
   ]
  },
  {
   "cell_type": "code",
   "execution_count": 9,
   "id": "focal-surfing",
   "metadata": {},
   "outputs": [
    {
     "data": {
      "text/html": [
       "<div>\n",
       "<style scoped>\n",
       "    .dataframe tbody tr th:only-of-type {\n",
       "        vertical-align: middle;\n",
       "    }\n",
       "\n",
       "    .dataframe tbody tr th {\n",
       "        vertical-align: top;\n",
       "    }\n",
       "\n",
       "    .dataframe thead th {\n",
       "        text-align: right;\n",
       "    }\n",
       "</style>\n",
       "<table border=\"1\" class=\"dataframe\">\n",
       "  <thead>\n",
       "    <tr style=\"text-align: right;\">\n",
       "      <th></th>\n",
       "      <th>unique</th>\n",
       "    </tr>\n",
       "    <tr>\n",
       "      <th>userId</th>\n",
       "      <th></th>\n",
       "    </tr>\n",
       "  </thead>\n",
       "  <tbody>\n",
       "    <tr>\n",
       "      <th>1</th>\n",
       "      <td>[Jay and Silent Bob Strike Back, Vivement dima...</td>\n",
       "    </tr>\n",
       "    <tr>\n",
       "      <th>2</th>\n",
       "      <td>[Terminator 3: Rise of the Machines, The Conve...</td>\n",
       "    </tr>\n",
       "    <tr>\n",
       "      <th>3</th>\n",
       "      <td>[300, The Killing, Shortbus, Finding Neverland...</td>\n",
       "    </tr>\n",
       "    <tr>\n",
       "      <th>4</th>\n",
       "      <td>[David, The Wedding Planner, Casablanca, Sleep...</td>\n",
       "    </tr>\n",
       "    <tr>\n",
       "      <th>5</th>\n",
       "      <td>[Gleaming the Cube, Cool Hand Luke, Hidalgo, U...</td>\n",
       "    </tr>\n",
       "  </tbody>\n",
       "</table>\n",
       "</div>"
      ],
      "text/plain": [
       "                                                   unique\n",
       "userId                                                   \n",
       "1       [Jay and Silent Bob Strike Back, Vivement dima...\n",
       "2       [Terminator 3: Rise of the Machines, The Conve...\n",
       "3       [300, The Killing, Shortbus, Finding Neverland...\n",
       "4       [David, The Wedding Planner, Casablanca, Sleep...\n",
       "5       [Gleaming the Cube, Cool Hand Luke, Hidalgo, U..."
      ]
     },
     "execution_count": 9,
     "metadata": {},
     "output_type": "execute_result"
    }
   ],
   "source": [
    "# user_id 별로 groupby 진행\n",
    "agg = movie_df.groupby(['userId'])['original_title'].agg({'unique'})\n",
    "agg.head()"
   ]
  },
  {
   "cell_type": "code",
   "execution_count": 10,
   "id": "mobile-salem",
   "metadata": {},
   "outputs": [
    {
     "data": {
      "text/plain": [
       "array(['The Endless Summer', 'Jarhead', '彼女の想いで', ...,\n",
       "       'The Lonedale Operator', 'Violeta se fue a los cielos',\n",
       "       'To Kill a Priest'], dtype=object)"
      ]
     },
     "execution_count": 10,
     "metadata": {},
     "output_type": "execute_result"
    }
   ],
   "source": [
    "movie_df['original_title'].unique()"
   ]
  },
  {
   "cell_type": "markdown",
   "id": "developed-motor",
   "metadata": {},
   "source": [
    "# 2) Word2Vec: CBOW"
   ]
  },
  {
   "cell_type": "markdown",
   "id": "smart-optics",
   "metadata": {},
   "source": [
    "사용자가 시청한 영화 하나하나를 단어로 보고, 영화 간의 유사도 계산"
   ]
  },
  {
   "cell_type": "code",
   "execution_count": 352,
   "id": "eleven-particle",
   "metadata": {},
   "outputs": [],
   "source": [
    "# int 형식은 Word2Vec에서 학습이 진행되지 않으므로 String으로 변경함 (ex. 300)\n",
    "sentence = []\n",
    "for user_sentence in agg['unique'].values:\n",
    "    sentence.append(list(map(str, user_sentence)))"
   ]
  },
  {
   "cell_type": "markdown",
   "id": "internal-cable",
   "metadata": {},
   "source": [
    "#### Softmax_loss Function"
   ]
  },
  {
   "cell_type": "code",
   "execution_count": 353,
   "id": "pending-junction",
   "metadata": {},
   "outputs": [],
   "source": [
    "def softmax_loss(score):\n",
    "    \n",
    "    ## forward pass\n",
    "    softmax = np.exp(score) / np.sum(np.exp(score))\n",
    "    N = score[0].shape[0]\n",
    "    loss = -np.sum(np.log(softmax), axis=1) #softmax loss\n",
    "    loss /= N\n",
    "    \n",
    "    ## backward pass\n",
    "    ds = softmax - 1\n",
    "    \n",
    "    return loss, ds"
   ]
  },
  {
   "cell_type": "markdown",
   "id": "progressive-luxury",
   "metadata": {},
   "source": [
    "#### CBOW class "
   ]
  },
  {
   "cell_type": "code",
   "execution_count": 375,
   "id": "european-emperor",
   "metadata": {},
   "outputs": [],
   "source": [
    "class CBOW(object):\n",
    "    def __init__(\n",
    "        self,\n",
    "        hidden_dim,\n",
    "        input_dim,\n",
    "        num_classes,\n",
    "        windows\n",
    "    ):\n",
    "        self.windows = windows\n",
    "        self.params = {}\n",
    "        for i in range(windows*2):\n",
    "            idx = str(i)\n",
    "            W_name = 'W_in_' + idx\n",
    "            self.params[W_name] = np.random.randn(input_dim, hidden_dim)\n",
    "        \n",
    "        self.params['W_out'] = np.random.randn(hidden_dim, num_classes)\n",
    "    \n",
    "    def loss(self, X, y, j, mode):\n",
    "        \n",
    "        # forward pass\n",
    "        h, count = 0, self.windows*2\n",
    "        for i in range(self.windows*2):\n",
    "            if i < self.windows:\n",
    "                if j-i<0:\n",
    "                    count -= 1\n",
    "                    continue\n",
    "                idx = j-i\n",
    "            else:\n",
    "                if j+i>=X.shape[0]:\n",
    "                    count -= 1 \n",
    "                    continue\n",
    "                idx = j+i\n",
    "        h += np.matmul(X[idx], self.params['W_in_'+str(i)])\n",
    "        h /= count\n",
    "        h = h.reshape(1, -1)\n",
    "        scores = np.matmul(h, self.params['W_out'])\n",
    "        \n",
    "        if mode == \"test\":\n",
    "            return scores\n",
    "        \n",
    "        grads = {}\n",
    "        # softmax function\n",
    "        loss, ds = softmax_loss(scores)\n",
    "        \n",
    "        # backward pass\n",
    "        grads['W_out'] = np.dot(h.T, ds)\n",
    "        dh = np.dot(ds, self.params['W_out'].T)\n",
    "        \n",
    "        for i in range(self.windows*2):\n",
    "            if i < self.windows:\n",
    "                if j-i<0:\n",
    "                    continue\n",
    "                idx = j-i\n",
    "            else:\n",
    "                if j+i>=X.shape[0]:\n",
    "                    continue\n",
    "                idx = j+i\n",
    "            grads['W_in_' + str(i)] = np.dot(X[idx].T.reshape(-1, 1) ,dh/2)\n",
    "        \n",
    "        return loss, grads"
   ]
  },
  {
   "cell_type": "code",
   "execution_count": 376,
   "id": "competent-neighborhood",
   "metadata": {},
   "outputs": [],
   "source": [
    "X = np.array([\n",
    "                [1, 0, 0, 0, 0, 0], # you\n",
    "                [0, 1, 0, 0, 0, 0], # say\n",
    "                [0, 0, 1, 0, 0, 0], # goodbye\n",
    "                [0, 0, 0, 1, 0, 0], # and\n",
    "                [0, 0, 0, 0, 1, 0], # I\n",
    "                [0, 1, 0, 0, 0, 0], # say    \n",
    "                [0, 0, 0, 0, 0, 1], # hello \n",
    "            ])\n",
    "y = np.array([\n",
    "                [1, 0, 0, 0, 0, 0], # you\n",
    "                [0, 1, 0, 0, 0, 0], # say\n",
    "                [0, 0, 1, 0, 0, 0], # goodbye\n",
    "                [0, 0, 0, 1, 0, 0], # and\n",
    "                [0, 0, 0, 0, 1, 0], # I\n",
    "                [0, 1, 0, 0, 0, 0], # say    \n",
    "                [0, 0, 0, 0, 0, 1], # hello \n",
    "            ])"
   ]
  },
  {
   "cell_type": "code",
   "execution_count": 377,
   "id": "collective-operations",
   "metadata": {},
   "outputs": [],
   "source": [
    "cbow_model = CBOW(hidden_dim = 3,\n",
    "                  input_dim = 6, \n",
    "                  num_classes = 6,\n",
    "                  windows = 1)\n",
    "epochs = 5\n",
    "learning_rates = 3e-3"
   ]
  },
  {
   "cell_type": "code",
   "execution_count": 378,
   "id": "pacific-variance",
   "metadata": {},
   "outputs": [
    {
     "name": "stdout",
     "output_type": "stream",
     "text": [
      "epochs 1 | loss: [1.84226408]\n",
      "epochs 2 | loss: [1.84195558]\n",
      "epochs 3 | loss: [1.84164976]\n",
      "epochs 4 | loss: [1.84134663]\n",
      "epochs 5 | loss: [1.84104614]\n",
      "--------------------------------------------\n",
      "epochs 1 | loss: [2.25286539]\n",
      "epochs 2 | loss: [2.25238992]\n",
      "epochs 3 | loss: [2.25192391]\n",
      "epochs 4 | loss: [2.2514673]\n",
      "epochs 5 | loss: [2.25102003]\n",
      "--------------------------------------------\n",
      "epochs 1 | loss: [1.81182335]\n",
      "epochs 2 | loss: [1.81182453]\n",
      "epochs 3 | loss: [1.81182722]\n",
      "epochs 4 | loss: [1.8118314]\n",
      "epochs 5 | loss: [1.81183708]\n",
      "--------------------------------------------\n",
      "epochs 1 | loss: [2.50415215]\n",
      "epochs 2 | loss: [2.50077278]\n",
      "epochs 3 | loss: [2.49742568]\n",
      "epochs 4 | loss: [2.49411057]\n",
      "epochs 5 | loss: [2.49082715]\n",
      "--------------------------------------------\n",
      "epochs 1 | loss: [1.84064894]\n",
      "epochs 2 | loss: [1.84035165]\n",
      "epochs 3 | loss: [1.84005702]\n",
      "epochs 4 | loss: [1.83976502]\n",
      "epochs 5 | loss: [1.83947565]\n",
      "--------------------------------------------\n",
      "epochs 1 | loss: [1.95100036]\n",
      "epochs 2 | loss: [1.95067711]\n",
      "epochs 3 | loss: [1.95035832]\n",
      "epochs 4 | loss: [1.95004397]\n",
      "epochs 5 | loss: [1.94973403]\n",
      "--------------------------------------------\n",
      "epochs 1 | loss: [2.34989348]\n",
      "epochs 2 | loss: [2.34916362]\n",
      "epochs 3 | loss: [2.34843488]\n",
      "epochs 4 | loss: [2.34770727]\n",
      "epochs 5 | loss: [2.34698077]\n",
      "--------------------------------------------\n"
     ]
    }
   ],
   "source": [
    "# train\n",
    "for i in range(y.shape[0]):\n",
    "    for e in range(epochs):\n",
    "        loss, grads = cbow_model.loss(X, y[i], i, \"train\")\n",
    "        print(f\"epochs {e+1} | loss: {loss}\")\n",
    "        for name in grads:\n",
    "            cbow_model.params[name] -= learning_rates * grads[name]\n",
    "    print(\"--------------------------------------------\")"
   ]
  },
  {
   "cell_type": "code",
   "execution_count": 379,
   "id": "violent-dispatch",
   "metadata": {},
   "outputs": [
    {
     "name": "stdout",
     "output_type": "stream",
     "text": [
      "[[0.91585752 0.09535075 1.10113623 0.25500447 0.83198836 0.16955488]]\n"
     ]
    }
   ],
   "source": [
    "# test: you ? goodbye and I say hello\n",
    "X_test = np.array([\n",
    "                   [0, 1, 0, 0, 0, 0], # say\n",
    "                   [0, 0, 0, 1, 0, 0] # and\n",
    "                  ])\n",
    "print(cbow_model.loss(X_test, None, 1, \"test\"))"
   ]
  }
 ],
 "metadata": {
  "kernelspec": {
   "display_name": "Python 3",
   "language": "python",
   "name": "python3"
  },
  "language_info": {
   "codemirror_mode": {
    "name": "ipython",
    "version": 3
   },
   "file_extension": ".py",
   "mimetype": "text/x-python",
   "name": "python",
   "nbconvert_exporter": "python",
   "pygments_lexer": "ipython3",
   "version": "3.7.9"
  }
 },
 "nbformat": 4,
 "nbformat_minor": 5
}
